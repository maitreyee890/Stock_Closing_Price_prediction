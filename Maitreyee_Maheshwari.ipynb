{
  "nbformat": 4,
  "nbformat_minor": 0,
  "metadata": {
    "colab": {
      "provenance": [],
      "collapsed_sections": [
        "w6K7xa23Elo4",
        "yQaldy8SH6Dl",
        "mDgbUHAGgjLW",
        "H0kj-8xxnORC",
        "MSa1f5Uengrz",
        "448CDAPjqfQr",
        "t6dVpIINYklI",
        "ijmpgYnKYklI",
        "-JiQyfWJYklI",
        "fge-S5ZAYoAp",
        "85gYPyotYoAp",
        "RoGjAbkUYoAp",
        "iky9q4vBYrdO",
        "F6T5p64dYrdO",
        "y-Ehk30pYrdP",
        "QHF8YVU7Yuh3",
        "GwzvFGzlYuh3",
        "qYpmQ266Yuh3",
        "bbFf2-_FphqN",
        "_ouA3fa0phqN",
        "Seke61FWphqN",
        "t27r6nlMphqO",
        "r2jJGEOYphqO",
        "b0JNsNcRphqO",
        "jj7wYXLtphqO",
        "eZrbJ2SmphqO",
        "rFu4xreNphqO",
        "gCFgpxoyphqP",
        "OVtJsKN_phqQ",
        "lssrdh5qphqQ",
        "1M8mcRywphqQ",
        "tgIPom80phqQ",
        "JMzcOPDDphqR",
        "X_VqEhTip1ck",
        "8zGJKyg5p1ck",
        "PVzmfK_Ep1ck",
        "ylSl6qgtp1ck",
        "ZWILFDl5p1ck",
        "M7G43BXep1ck",
        "E6MkPsBcp1cl",
        "2cELzS2fp1cl",
        "3MPXvC8up1cl",
        "UV0SzAkaZNRQ",
        "YPEH6qLeZNRQ",
        "EXh0U9oCveiU",
        "22aHeOlLveiV",
        "Ou-I18pAyIpj",
        "fF3858GYyt-u",
        "hwyV_J3ipUZe",
        "3yB-zSqbpUZe",
        "dEUvejAfpUZe",
        "Fd15vwWVpUZf",
        "bn_IUdTipZyH",
        "49K5P_iCpZyH",
        "Nff-vKELpZyI",
        "kLW572S8pZyI",
        "dWbDXHzopZyI",
        "7wuGOrhz0itI",
        "578E2V7j08f6",
        "67NQN5KX2AMe",
        "cJNqERVU536h",
        "qBMux9mC6MCf",
        "rAdphbQ9Bhjc",
        "yiiVWRdJDDil",
        "kexQrXU-DjzY",
        "T5CmagL3EC8N",
        "qjKvONjwE8ra",
        "P1XJ9OREExlT",
        "VFOzZv6IFROw",
        "TIqpNgepFxVj",
        "ArJBuiUVfxKd",
        "4qY1EAkEfxKe",
        "PiV4Ypx8fxKe",
        "TfvqoZmBfxKf",
        "dJ2tPlVmpsJ0",
        "JWYfwnehpsJ1",
        "-jK_YjpMpsJ2",
        "HAih1iBOpsJ2",
        "zVGeBEFhpsJ2",
        "bmKjuQ-FpsJ3",
        "Fze-IPXLpx6K",
        "7AN1z2sKpx6M",
        "9PIHJqyupx6M",
        "_-qAgymDpx6N",
        "Z-hykwinpx6N",
        "h_CCil-SKHpo",
        "cBFFvTBNJzUa",
        "HvGl1hHyA_VK",
        "EyNgTHvd2WFk",
        "KH5McJBi2d8v",
        "iW_Lq9qf2h6X",
        "-Kee-DAl2viO"
      ],
      "gpuType": "T4"
    },
    "kernelspec": {
      "name": "python3",
      "display_name": "Python 3"
    },
    "language_info": {
      "name": "python"
    },
    "accelerator": "GPU"
  },
  "cells": [
    {
      "cell_type": "markdown",
      "source": [
        "# **Project Name**  Stock Closing Price Prediction   -\n",
        "\n"
      ],
      "metadata": {
        "id": "vncDsAP0Gaoa"
      }
    },
    {
      "cell_type": "markdown",
      "source": [
        "\n",
        "##### **Contribution**    - Individual\n",
        "##### **Team Member 1 -** - Maitreyee Maheshwari\n"
      ],
      "metadata": {
        "id": "beRrZCGUAJYm"
      }
    },
    {
      "cell_type": "markdown",
      "source": [
        "# **Project Summary -**"
      ],
      "metadata": {
        "id": "FJNUwmbgGyua"
      }
    },
    {
      "cell_type": "markdown",
      "source": [
        "This project analyzes the monthly stock prices of Yes Bank from its inception until 2020, focusing on predicting the closing price using various regression techniques. The workflow included:\n",
        "\n",
        "Data Acquisition & Preprocessing:\n",
        "Collected and cleaned historical stock data, ensuring quality and consistency for modeling.\n",
        "\n",
        "Exploratory Data Analysis (EDA):\n",
        "Explored trends, volatility, and correlations in the data, with special attention to the period after 2018, which was marked by significant market events.\n",
        "\n",
        "Model Development:\n",
        "Implemented and compared three machine learning models:\n",
        "\n",
        "Linear Regression: Provided a simple, interpretable baseline for stock price prediction.\n",
        "\n",
        "Random Forest: Leveraged ensemble learning to capture non-linear relationships and interactions between features.\n",
        "\n",
        "LSTM (Long Short-Term Memory Network): Applied deep learning to model sequential dependencies in the time series data.\n",
        "\n",
        "Model Evaluation:\n",
        "Models were evaluated using metrics such as Mean Squared Error (MSE), Root Mean Squared Error (RMSE), Mean Absolute Error (MAE), and R-squared (R²).\n",
        "\n",
        "Linear Regression achieved the lowest MSE and high R², indicating strong predictive performance for this dataset.\n",
        "\n",
        "Random Forest also performed well, capturing more complex relationships but with slightly higher error than Linear Regression.\n",
        "\n",
        "LSTM was tested for its ability to model time dependencies but did not outperform the simpler models, likely due to the limited dataset size."
      ],
      "metadata": {
        "id": "F6v_1wHtG2nS"
      }
    },
    {
      "cell_type": "markdown",
      "source": [
        "# **GitHub Link -**"
      ],
      "metadata": {
        "id": "w6K7xa23Elo4"
      }
    },
    {
      "cell_type": "markdown",
      "source": [
        "Provide your GitHub Link here."
      ],
      "metadata": {
        "id": "h1o69JH3Eqqn"
      }
    },
    {
      "cell_type": "code",
      "source": [],
      "metadata": {
        "id": "SmToHJ2xm_ZD"
      },
      "execution_count": 1117,
      "outputs": []
    },
    {
      "cell_type": "markdown",
      "source": [
        "# **Problem Statement**\n"
      ],
      "metadata": {
        "id": "yQaldy8SH6Dl"
      }
    },
    {
      "cell_type": "markdown",
      "source": [
        "The primary objective of this project is to develop a machine learning-based predictive model that can accurately estimate the monthly closing price of Yes Bank stock. This task is particularly significant due to the high-profile fraud case involving Yes Bank's leadership in 2018, which led to substantial volatility and a sharp decline in stock prices. By leveraging historical stock data—including open, high, low, and close prices—this project aims to assess whether data-driven models can effectively capture such market dynamics and provide reliable predictions for investors and analysts"
      ],
      "metadata": {
        "id": "DpeJGUA3kjGy"
      }
    },
    {
      "cell_type": "markdown",
      "source": [
        "# ***Let's Begin !***"
      ],
      "metadata": {
        "id": "O_i_v8NEhb9l"
      }
    },
    {
      "cell_type": "markdown",
      "source": [
        "## ***1. Know Your Data***"
      ],
      "metadata": {
        "id": "HhfV-JJviCcP"
      }
    },
    {
      "cell_type": "markdown",
      "source": [
        "### Import Libraries"
      ],
      "metadata": {
        "id": "Y3lxredqlCYt"
      }
    },
    {
      "cell_type": "code",
      "source": [
        "# Import Libraries\n",
        "from google.colab import files\n",
        "import numpy as np\n",
        "import pandas as pd\n",
        "import matplotlib.pyplot as plt\n",
        "import seaborn as sns"
      ],
      "metadata": {
        "id": "M8Vqi-pPk-HR"
      },
      "execution_count": 1118,
      "outputs": []
    },
    {
      "cell_type": "markdown",
      "source": [
        "### Dataset Loading"
      ],
      "metadata": {
        "id": "3RnN4peoiCZX"
      }
    },
    {
      "cell_type": "code",
      "source": [
        "# Load Dataset\n",
        "uploaded= files.upload()         # Upoading the File from System\n",
        "file_name = next(iter(uploaded)) # Get the first filename from the dictionary\n",
        "df=pd.read_csv(file_name)        # Reading the csv file"
      ],
      "metadata": {
        "id": "4CkvbW_SlZ_R",
        "colab": {
          "base_uri": "https://localhost:8080/",
          "height": 71
        },
        "outputId": "2996ea77-128a-40dd-b7e4-03e8a8959335"
      },
      "execution_count": 1119,
      "outputs": [
        {
          "output_type": "display_data",
          "data": {
            "text/plain": [
              "<IPython.core.display.HTML object>"
            ],
            "text/html": [
              "\n",
              "     <input type=\"file\" id=\"files-eef14078-ca23-4163-8e44-07871230a4d8\" name=\"files[]\" multiple disabled\n",
              "        style=\"border:none\" />\n",
              "     <output id=\"result-eef14078-ca23-4163-8e44-07871230a4d8\">\n",
              "      Upload widget is only available when the cell has been executed in the\n",
              "      current browser session. Please rerun this cell to enable.\n",
              "      </output>\n",
              "      <script>// Copyright 2017 Google LLC\n",
              "//\n",
              "// Licensed under the Apache License, Version 2.0 (the \"License\");\n",
              "// you may not use this file except in compliance with the License.\n",
              "// You may obtain a copy of the License at\n",
              "//\n",
              "//      http://www.apache.org/licenses/LICENSE-2.0\n",
              "//\n",
              "// Unless required by applicable law or agreed to in writing, software\n",
              "// distributed under the License is distributed on an \"AS IS\" BASIS,\n",
              "// WITHOUT WARRANTIES OR CONDITIONS OF ANY KIND, either express or implied.\n",
              "// See the License for the specific language governing permissions and\n",
              "// limitations under the License.\n",
              "\n",
              "/**\n",
              " * @fileoverview Helpers for google.colab Python module.\n",
              " */\n",
              "(function(scope) {\n",
              "function span(text, styleAttributes = {}) {\n",
              "  const element = document.createElement('span');\n",
              "  element.textContent = text;\n",
              "  for (const key of Object.keys(styleAttributes)) {\n",
              "    element.style[key] = styleAttributes[key];\n",
              "  }\n",
              "  return element;\n",
              "}\n",
              "\n",
              "// Max number of bytes which will be uploaded at a time.\n",
              "const MAX_PAYLOAD_SIZE = 100 * 1024;\n",
              "\n",
              "function _uploadFiles(inputId, outputId) {\n",
              "  const steps = uploadFilesStep(inputId, outputId);\n",
              "  const outputElement = document.getElementById(outputId);\n",
              "  // Cache steps on the outputElement to make it available for the next call\n",
              "  // to uploadFilesContinue from Python.\n",
              "  outputElement.steps = steps;\n",
              "\n",
              "  return _uploadFilesContinue(outputId);\n",
              "}\n",
              "\n",
              "// This is roughly an async generator (not supported in the browser yet),\n",
              "// where there are multiple asynchronous steps and the Python side is going\n",
              "// to poll for completion of each step.\n",
              "// This uses a Promise to block the python side on completion of each step,\n",
              "// then passes the result of the previous step as the input to the next step.\n",
              "function _uploadFilesContinue(outputId) {\n",
              "  const outputElement = document.getElementById(outputId);\n",
              "  const steps = outputElement.steps;\n",
              "\n",
              "  const next = steps.next(outputElement.lastPromiseValue);\n",
              "  return Promise.resolve(next.value.promise).then((value) => {\n",
              "    // Cache the last promise value to make it available to the next\n",
              "    // step of the generator.\n",
              "    outputElement.lastPromiseValue = value;\n",
              "    return next.value.response;\n",
              "  });\n",
              "}\n",
              "\n",
              "/**\n",
              " * Generator function which is called between each async step of the upload\n",
              " * process.\n",
              " * @param {string} inputId Element ID of the input file picker element.\n",
              " * @param {string} outputId Element ID of the output display.\n",
              " * @return {!Iterable<!Object>} Iterable of next steps.\n",
              " */\n",
              "function* uploadFilesStep(inputId, outputId) {\n",
              "  const inputElement = document.getElementById(inputId);\n",
              "  inputElement.disabled = false;\n",
              "\n",
              "  const outputElement = document.getElementById(outputId);\n",
              "  outputElement.innerHTML = '';\n",
              "\n",
              "  const pickedPromise = new Promise((resolve) => {\n",
              "    inputElement.addEventListener('change', (e) => {\n",
              "      resolve(e.target.files);\n",
              "    });\n",
              "  });\n",
              "\n",
              "  const cancel = document.createElement('button');\n",
              "  inputElement.parentElement.appendChild(cancel);\n",
              "  cancel.textContent = 'Cancel upload';\n",
              "  const cancelPromise = new Promise((resolve) => {\n",
              "    cancel.onclick = () => {\n",
              "      resolve(null);\n",
              "    };\n",
              "  });\n",
              "\n",
              "  // Wait for the user to pick the files.\n",
              "  const files = yield {\n",
              "    promise: Promise.race([pickedPromise, cancelPromise]),\n",
              "    response: {\n",
              "      action: 'starting',\n",
              "    }\n",
              "  };\n",
              "\n",
              "  cancel.remove();\n",
              "\n",
              "  // Disable the input element since further picks are not allowed.\n",
              "  inputElement.disabled = true;\n",
              "\n",
              "  if (!files) {\n",
              "    return {\n",
              "      response: {\n",
              "        action: 'complete',\n",
              "      }\n",
              "    };\n",
              "  }\n",
              "\n",
              "  for (const file of files) {\n",
              "    const li = document.createElement('li');\n",
              "    li.append(span(file.name, {fontWeight: 'bold'}));\n",
              "    li.append(span(\n",
              "        `(${file.type || 'n/a'}) - ${file.size} bytes, ` +\n",
              "        `last modified: ${\n",
              "            file.lastModifiedDate ? file.lastModifiedDate.toLocaleDateString() :\n",
              "                                    'n/a'} - `));\n",
              "    const percent = span('0% done');\n",
              "    li.appendChild(percent);\n",
              "\n",
              "    outputElement.appendChild(li);\n",
              "\n",
              "    const fileDataPromise = new Promise((resolve) => {\n",
              "      const reader = new FileReader();\n",
              "      reader.onload = (e) => {\n",
              "        resolve(e.target.result);\n",
              "      };\n",
              "      reader.readAsArrayBuffer(file);\n",
              "    });\n",
              "    // Wait for the data to be ready.\n",
              "    let fileData = yield {\n",
              "      promise: fileDataPromise,\n",
              "      response: {\n",
              "        action: 'continue',\n",
              "      }\n",
              "    };\n",
              "\n",
              "    // Use a chunked sending to avoid message size limits. See b/62115660.\n",
              "    let position = 0;\n",
              "    do {\n",
              "      const length = Math.min(fileData.byteLength - position, MAX_PAYLOAD_SIZE);\n",
              "      const chunk = new Uint8Array(fileData, position, length);\n",
              "      position += length;\n",
              "\n",
              "      const base64 = btoa(String.fromCharCode.apply(null, chunk));\n",
              "      yield {\n",
              "        response: {\n",
              "          action: 'append',\n",
              "          file: file.name,\n",
              "          data: base64,\n",
              "        },\n",
              "      };\n",
              "\n",
              "      let percentDone = fileData.byteLength === 0 ?\n",
              "          100 :\n",
              "          Math.round((position / fileData.byteLength) * 100);\n",
              "      percent.textContent = `${percentDone}% done`;\n",
              "\n",
              "    } while (position < fileData.byteLength);\n",
              "  }\n",
              "\n",
              "  // All done.\n",
              "  yield {\n",
              "    response: {\n",
              "      action: 'complete',\n",
              "    }\n",
              "  };\n",
              "}\n",
              "\n",
              "scope.google = scope.google || {};\n",
              "scope.google.colab = scope.google.colab || {};\n",
              "scope.google.colab._files = {\n",
              "  _uploadFiles,\n",
              "  _uploadFilesContinue,\n",
              "};\n",
              "})(self);\n",
              "</script> "
            ]
          },
          "metadata": {}
        },
        {
          "output_type": "stream",
          "name": "stdout",
          "text": [
            "Saving data_YesBank_StockPrices.csv to data_YesBank_StockPrices (23).csv\n"
          ]
        }
      ]
    },
    {
      "cell_type": "markdown",
      "source": [
        "### Dataset First View"
      ],
      "metadata": {
        "id": "x71ZqKXriCWQ"
      }
    },
    {
      "cell_type": "code",
      "source": [
        "# Dataset First Look\n",
        "df.head() #Printing the starting few rows of the dataset"
      ],
      "metadata": {
        "id": "LWNFOSvLl09H",
        "colab": {
          "base_uri": "https://localhost:8080/",
          "height": 206
        },
        "outputId": "eca46427-6026-4510-f5e8-91f8ed5eb4b7"
      },
      "execution_count": 1120,
      "outputs": [
        {
          "output_type": "execute_result",
          "data": {
            "text/plain": [
              "     Date   Open   High    Low  Close\n",
              "0  Jul-05  13.00  14.00  11.25  12.46\n",
              "1  Aug-05  12.58  14.88  12.55  13.42\n",
              "2  Sep-05  13.48  14.87  12.27  13.30\n",
              "3  Oct-05  13.20  14.47  12.40  12.99\n",
              "4  Nov-05  13.35  13.88  12.88  13.41"
            ],
            "text/html": [
              "\n",
              "  <div id=\"df-2a966c74-5166-45e0-a4b1-2e67b4c919e4\" class=\"colab-df-container\">\n",
              "    <div>\n",
              "<style scoped>\n",
              "    .dataframe tbody tr th:only-of-type {\n",
              "        vertical-align: middle;\n",
              "    }\n",
              "\n",
              "    .dataframe tbody tr th {\n",
              "        vertical-align: top;\n",
              "    }\n",
              "\n",
              "    .dataframe thead th {\n",
              "        text-align: right;\n",
              "    }\n",
              "</style>\n",
              "<table border=\"1\" class=\"dataframe\">\n",
              "  <thead>\n",
              "    <tr style=\"text-align: right;\">\n",
              "      <th></th>\n",
              "      <th>Date</th>\n",
              "      <th>Open</th>\n",
              "      <th>High</th>\n",
              "      <th>Low</th>\n",
              "      <th>Close</th>\n",
              "    </tr>\n",
              "  </thead>\n",
              "  <tbody>\n",
              "    <tr>\n",
              "      <th>0</th>\n",
              "      <td>Jul-05</td>\n",
              "      <td>13.00</td>\n",
              "      <td>14.00</td>\n",
              "      <td>11.25</td>\n",
              "      <td>12.46</td>\n",
              "    </tr>\n",
              "    <tr>\n",
              "      <th>1</th>\n",
              "      <td>Aug-05</td>\n",
              "      <td>12.58</td>\n",
              "      <td>14.88</td>\n",
              "      <td>12.55</td>\n",
              "      <td>13.42</td>\n",
              "    </tr>\n",
              "    <tr>\n",
              "      <th>2</th>\n",
              "      <td>Sep-05</td>\n",
              "      <td>13.48</td>\n",
              "      <td>14.87</td>\n",
              "      <td>12.27</td>\n",
              "      <td>13.30</td>\n",
              "    </tr>\n",
              "    <tr>\n",
              "      <th>3</th>\n",
              "      <td>Oct-05</td>\n",
              "      <td>13.20</td>\n",
              "      <td>14.47</td>\n",
              "      <td>12.40</td>\n",
              "      <td>12.99</td>\n",
              "    </tr>\n",
              "    <tr>\n",
              "      <th>4</th>\n",
              "      <td>Nov-05</td>\n",
              "      <td>13.35</td>\n",
              "      <td>13.88</td>\n",
              "      <td>12.88</td>\n",
              "      <td>13.41</td>\n",
              "    </tr>\n",
              "  </tbody>\n",
              "</table>\n",
              "</div>\n",
              "    <div class=\"colab-df-buttons\">\n",
              "\n",
              "  <div class=\"colab-df-container\">\n",
              "    <button class=\"colab-df-convert\" onclick=\"convertToInteractive('df-2a966c74-5166-45e0-a4b1-2e67b4c919e4')\"\n",
              "            title=\"Convert this dataframe to an interactive table.\"\n",
              "            style=\"display:none;\">\n",
              "\n",
              "  <svg xmlns=\"http://www.w3.org/2000/svg\" height=\"24px\" viewBox=\"0 -960 960 960\">\n",
              "    <path d=\"M120-120v-720h720v720H120Zm60-500h600v-160H180v160Zm220 220h160v-160H400v160Zm0 220h160v-160H400v160ZM180-400h160v-160H180v160Zm440 0h160v-160H620v160ZM180-180h160v-160H180v160Zm440 0h160v-160H620v160Z\"/>\n",
              "  </svg>\n",
              "    </button>\n",
              "\n",
              "  <style>\n",
              "    .colab-df-container {\n",
              "      display:flex;\n",
              "      gap: 12px;\n",
              "    }\n",
              "\n",
              "    .colab-df-convert {\n",
              "      background-color: #E8F0FE;\n",
              "      border: none;\n",
              "      border-radius: 50%;\n",
              "      cursor: pointer;\n",
              "      display: none;\n",
              "      fill: #1967D2;\n",
              "      height: 32px;\n",
              "      padding: 0 0 0 0;\n",
              "      width: 32px;\n",
              "    }\n",
              "\n",
              "    .colab-df-convert:hover {\n",
              "      background-color: #E2EBFA;\n",
              "      box-shadow: 0px 1px 2px rgba(60, 64, 67, 0.3), 0px 1px 3px 1px rgba(60, 64, 67, 0.15);\n",
              "      fill: #174EA6;\n",
              "    }\n",
              "\n",
              "    .colab-df-buttons div {\n",
              "      margin-bottom: 4px;\n",
              "    }\n",
              "\n",
              "    [theme=dark] .colab-df-convert {\n",
              "      background-color: #3B4455;\n",
              "      fill: #D2E3FC;\n",
              "    }\n",
              "\n",
              "    [theme=dark] .colab-df-convert:hover {\n",
              "      background-color: #434B5C;\n",
              "      box-shadow: 0px 1px 3px 1px rgba(0, 0, 0, 0.15);\n",
              "      filter: drop-shadow(0px 1px 2px rgba(0, 0, 0, 0.3));\n",
              "      fill: #FFFFFF;\n",
              "    }\n",
              "  </style>\n",
              "\n",
              "    <script>\n",
              "      const buttonEl =\n",
              "        document.querySelector('#df-2a966c74-5166-45e0-a4b1-2e67b4c919e4 button.colab-df-convert');\n",
              "      buttonEl.style.display =\n",
              "        google.colab.kernel.accessAllowed ? 'block' : 'none';\n",
              "\n",
              "      async function convertToInteractive(key) {\n",
              "        const element = document.querySelector('#df-2a966c74-5166-45e0-a4b1-2e67b4c919e4');\n",
              "        const dataTable =\n",
              "          await google.colab.kernel.invokeFunction('convertToInteractive',\n",
              "                                                    [key], {});\n",
              "        if (!dataTable) return;\n",
              "\n",
              "        const docLinkHtml = 'Like what you see? Visit the ' +\n",
              "          '<a target=\"_blank\" href=https://colab.research.google.com/notebooks/data_table.ipynb>data table notebook</a>'\n",
              "          + ' to learn more about interactive tables.';\n",
              "        element.innerHTML = '';\n",
              "        dataTable['output_type'] = 'display_data';\n",
              "        await google.colab.output.renderOutput(dataTable, element);\n",
              "        const docLink = document.createElement('div');\n",
              "        docLink.innerHTML = docLinkHtml;\n",
              "        element.appendChild(docLink);\n",
              "      }\n",
              "    </script>\n",
              "  </div>\n",
              "\n",
              "\n",
              "    <div id=\"df-e56b73ba-4331-409a-9068-944d93cecf12\">\n",
              "      <button class=\"colab-df-quickchart\" onclick=\"quickchart('df-e56b73ba-4331-409a-9068-944d93cecf12')\"\n",
              "                title=\"Suggest charts\"\n",
              "                style=\"display:none;\">\n",
              "\n",
              "<svg xmlns=\"http://www.w3.org/2000/svg\" height=\"24px\"viewBox=\"0 0 24 24\"\n",
              "     width=\"24px\">\n",
              "    <g>\n",
              "        <path d=\"M19 3H5c-1.1 0-2 .9-2 2v14c0 1.1.9 2 2 2h14c1.1 0 2-.9 2-2V5c0-1.1-.9-2-2-2zM9 17H7v-7h2v7zm4 0h-2V7h2v10zm4 0h-2v-4h2v4z\"/>\n",
              "    </g>\n",
              "</svg>\n",
              "      </button>\n",
              "\n",
              "<style>\n",
              "  .colab-df-quickchart {\n",
              "      --bg-color: #E8F0FE;\n",
              "      --fill-color: #1967D2;\n",
              "      --hover-bg-color: #E2EBFA;\n",
              "      --hover-fill-color: #174EA6;\n",
              "      --disabled-fill-color: #AAA;\n",
              "      --disabled-bg-color: #DDD;\n",
              "  }\n",
              "\n",
              "  [theme=dark] .colab-df-quickchart {\n",
              "      --bg-color: #3B4455;\n",
              "      --fill-color: #D2E3FC;\n",
              "      --hover-bg-color: #434B5C;\n",
              "      --hover-fill-color: #FFFFFF;\n",
              "      --disabled-bg-color: #3B4455;\n",
              "      --disabled-fill-color: #666;\n",
              "  }\n",
              "\n",
              "  .colab-df-quickchart {\n",
              "    background-color: var(--bg-color);\n",
              "    border: none;\n",
              "    border-radius: 50%;\n",
              "    cursor: pointer;\n",
              "    display: none;\n",
              "    fill: var(--fill-color);\n",
              "    height: 32px;\n",
              "    padding: 0;\n",
              "    width: 32px;\n",
              "  }\n",
              "\n",
              "  .colab-df-quickchart:hover {\n",
              "    background-color: var(--hover-bg-color);\n",
              "    box-shadow: 0 1px 2px rgba(60, 64, 67, 0.3), 0 1px 3px 1px rgba(60, 64, 67, 0.15);\n",
              "    fill: var(--button-hover-fill-color);\n",
              "  }\n",
              "\n",
              "  .colab-df-quickchart-complete:disabled,\n",
              "  .colab-df-quickchart-complete:disabled:hover {\n",
              "    background-color: var(--disabled-bg-color);\n",
              "    fill: var(--disabled-fill-color);\n",
              "    box-shadow: none;\n",
              "  }\n",
              "\n",
              "  .colab-df-spinner {\n",
              "    border: 2px solid var(--fill-color);\n",
              "    border-color: transparent;\n",
              "    border-bottom-color: var(--fill-color);\n",
              "    animation:\n",
              "      spin 1s steps(1) infinite;\n",
              "  }\n",
              "\n",
              "  @keyframes spin {\n",
              "    0% {\n",
              "      border-color: transparent;\n",
              "      border-bottom-color: var(--fill-color);\n",
              "      border-left-color: var(--fill-color);\n",
              "    }\n",
              "    20% {\n",
              "      border-color: transparent;\n",
              "      border-left-color: var(--fill-color);\n",
              "      border-top-color: var(--fill-color);\n",
              "    }\n",
              "    30% {\n",
              "      border-color: transparent;\n",
              "      border-left-color: var(--fill-color);\n",
              "      border-top-color: var(--fill-color);\n",
              "      border-right-color: var(--fill-color);\n",
              "    }\n",
              "    40% {\n",
              "      border-color: transparent;\n",
              "      border-right-color: var(--fill-color);\n",
              "      border-top-color: var(--fill-color);\n",
              "    }\n",
              "    60% {\n",
              "      border-color: transparent;\n",
              "      border-right-color: var(--fill-color);\n",
              "    }\n",
              "    80% {\n",
              "      border-color: transparent;\n",
              "      border-right-color: var(--fill-color);\n",
              "      border-bottom-color: var(--fill-color);\n",
              "    }\n",
              "    90% {\n",
              "      border-color: transparent;\n",
              "      border-bottom-color: var(--fill-color);\n",
              "    }\n",
              "  }\n",
              "</style>\n",
              "\n",
              "      <script>\n",
              "        async function quickchart(key) {\n",
              "          const quickchartButtonEl =\n",
              "            document.querySelector('#' + key + ' button');\n",
              "          quickchartButtonEl.disabled = true;  // To prevent multiple clicks.\n",
              "          quickchartButtonEl.classList.add('colab-df-spinner');\n",
              "          try {\n",
              "            const charts = await google.colab.kernel.invokeFunction(\n",
              "                'suggestCharts', [key], {});\n",
              "          } catch (error) {\n",
              "            console.error('Error during call to suggestCharts:', error);\n",
              "          }\n",
              "          quickchartButtonEl.classList.remove('colab-df-spinner');\n",
              "          quickchartButtonEl.classList.add('colab-df-quickchart-complete');\n",
              "        }\n",
              "        (() => {\n",
              "          let quickchartButtonEl =\n",
              "            document.querySelector('#df-e56b73ba-4331-409a-9068-944d93cecf12 button');\n",
              "          quickchartButtonEl.style.display =\n",
              "            google.colab.kernel.accessAllowed ? 'block' : 'none';\n",
              "        })();\n",
              "      </script>\n",
              "    </div>\n",
              "\n",
              "    </div>\n",
              "  </div>\n"
            ],
            "application/vnd.google.colaboratory.intrinsic+json": {
              "type": "dataframe",
              "variable_name": "df",
              "summary": "{\n  \"name\": \"df\",\n  \"rows\": 185,\n  \"fields\": [\n    {\n      \"column\": \"Date\",\n      \"properties\": {\n        \"dtype\": \"string\",\n        \"num_unique_values\": 185,\n        \"samples\": [\n          \"Feb-07\",\n          \"Jan-09\",\n          \"Jul-18\"\n        ],\n        \"semantic_type\": \"\",\n        \"description\": \"\"\n      }\n    },\n    {\n      \"column\": \"Open\",\n      \"properties\": {\n        \"dtype\": \"number\",\n        \"std\": 98.87984957695842,\n        \"min\": 10.0,\n        \"max\": 369.95,\n        \"num_unique_values\": 183,\n        \"samples\": [\n          30.2,\n          15.28,\n          348.0\n        ],\n        \"semantic_type\": \"\",\n        \"description\": \"\"\n      }\n    },\n    {\n      \"column\": \"High\",\n      \"properties\": {\n        \"dtype\": \"number\",\n        \"std\": 106.33349683743525,\n        \"min\": 11.24,\n        \"max\": 404.0,\n        \"num_unique_values\": 184,\n        \"samples\": [\n          32.6,\n          18.34,\n          393.35\n        ],\n        \"semantic_type\": \"\",\n        \"description\": \"\"\n      }\n    },\n    {\n      \"column\": \"Low\",\n      \"properties\": {\n        \"dtype\": \"number\",\n        \"std\": 91.21941548598078,\n        \"min\": 5.55,\n        \"max\": 345.5,\n        \"num_unique_values\": 183,\n        \"samples\": [\n          26.8,\n          9.9,\n          332.45\n        ],\n        \"semantic_type\": \"\",\n        \"description\": \"\"\n      }\n    },\n    {\n      \"column\": \"Close\",\n      \"properties\": {\n        \"dtype\": \"number\",\n        \"std\": 98.58315263645538,\n        \"min\": 9.98,\n        \"max\": 367.9,\n        \"num_unique_values\": 185,\n        \"samples\": [\n          28.63,\n          12.24,\n          367.9\n        ],\n        \"semantic_type\": \"\",\n        \"description\": \"\"\n      }\n    }\n  ]\n}"
            }
          },
          "metadata": {},
          "execution_count": 1120
        }
      ]
    },
    {
      "cell_type": "markdown",
      "source": [
        "### Dataset Rows & Columns count"
      ],
      "metadata": {
        "id": "7hBIi_osiCS2"
      }
    },
    {
      "cell_type": "code",
      "source": [
        "# Dataset Rows & Columns count\n",
        "print(\"Number of rows and columns:\", df.shape)  # Printing the number of rows and cols in dataset\n",
        "print(\"Total number of elements:\", df.size)     # Printing the size of the dataset"
      ],
      "metadata": {
        "id": "Kllu7SJgmLij",
        "colab": {
          "base_uri": "https://localhost:8080/"
        },
        "outputId": "e774e727-6a16-4c51-bdfb-817c331455ab"
      },
      "execution_count": 1121,
      "outputs": [
        {
          "output_type": "stream",
          "name": "stdout",
          "text": [
            "Number of rows and columns: (185, 5)\n",
            "Total number of elements: 925\n"
          ]
        }
      ]
    },
    {
      "cell_type": "markdown",
      "source": [
        "### Dataset Information"
      ],
      "metadata": {
        "id": "JlHwYmJAmNHm"
      }
    },
    {
      "cell_type": "code",
      "source": [
        "# Dataset Info\n",
        "df.info() #Printing the Information of the Dataset"
      ],
      "metadata": {
        "id": "e9hRXRi6meOf",
        "colab": {
          "base_uri": "https://localhost:8080/"
        },
        "outputId": "488cbc39-9784-4623-a031-b9f7481f20b4"
      },
      "execution_count": 1122,
      "outputs": [
        {
          "output_type": "stream",
          "name": "stdout",
          "text": [
            "<class 'pandas.core.frame.DataFrame'>\n",
            "RangeIndex: 185 entries, 0 to 184\n",
            "Data columns (total 5 columns):\n",
            " #   Column  Non-Null Count  Dtype  \n",
            "---  ------  --------------  -----  \n",
            " 0   Date    185 non-null    object \n",
            " 1   Open    185 non-null    float64\n",
            " 2   High    185 non-null    float64\n",
            " 3   Low     185 non-null    float64\n",
            " 4   Close   185 non-null    float64\n",
            "dtypes: float64(4), object(1)\n",
            "memory usage: 7.4+ KB\n"
          ]
        }
      ]
    },
    {
      "cell_type": "markdown",
      "source": [
        "#### Duplicate Values"
      ],
      "metadata": {
        "id": "35m5QtbWiB9F"
      }
    },
    {
      "cell_type": "code",
      "source": [
        "# Dataset Duplicate Value Count\n",
        "\n",
        "print(\"The total number of Duplicate values :\",int(df.duplicated().sum())) # Counting and printing total duplicate values"
      ],
      "metadata": {
        "id": "1sLdpKYkmox0",
        "colab": {
          "base_uri": "https://localhost:8080/"
        },
        "outputId": "b9218cb2-3b82-4187-df50-2b4cd877c466"
      },
      "execution_count": 1123,
      "outputs": [
        {
          "output_type": "stream",
          "name": "stdout",
          "text": [
            "The total number of Duplicate values : 0\n"
          ]
        }
      ]
    },
    {
      "cell_type": "markdown",
      "source": [
        "#### Missing Values/Null Values"
      ],
      "metadata": {
        "id": "PoPl-ycgm1ru"
      }
    },
    {
      "cell_type": "code",
      "source": [
        "# Missing Values/Null Values Count\n",
        "print(\"Total number of missing/null values :\",df.isnull().sum().sum()) # Counting and printing total missing values"
      ],
      "metadata": {
        "id": "GgHWkxvamxVg",
        "colab": {
          "base_uri": "https://localhost:8080/"
        },
        "outputId": "df3a3927-d6bc-4490-c100-41abb154ec37"
      },
      "execution_count": 1124,
      "outputs": [
        {
          "output_type": "stream",
          "name": "stdout",
          "text": [
            "Total number of missing/null values : 0\n"
          ]
        }
      ]
    },
    {
      "cell_type": "code",
      "source": [
        "# Visualizing the missing values\n",
        "sns.heatmap(df.isnull(), cbar=False, cmap='viridis')     # Plotting the Heatmap for getting to know about null values\n",
        "plt.title(\"Missing Values Heatmap\")                      # Title to the HeatMap\n",
        "plt.show()                                               # Showing the HeatMap\n"
      ],
      "metadata": {
        "id": "3q5wnI3om9sJ",
        "colab": {
          "base_uri": "https://localhost:8080/",
          "height": 452
        },
        "outputId": "43d97a11-f2b2-4abf-f59e-37e5745acf35"
      },
      "execution_count": 1125,
      "outputs": [
        {
          "output_type": "display_data",
          "data": {
            "text/plain": [
              "<Figure size 640x480 with 1 Axes>"
            ],
            "image/png": "[encoded data removed]"
          },
          "metadata": {}
        }
      ]
    },
    {
      "cell_type": "markdown",
      "source": [
        "### What did you know about your dataset?"
      ],
      "metadata": {
        "id": "H0kj-8xxnORC"
      }
    },
    {
      "cell_type": "markdown",
      "source": [
        "Since the heatmap does not show any bright areas (such as yellow or white), it indicates that there are no missing or null values present in the dataset. In a heatmap generated using df.isnull(), bright or highlighted cells usually represent missing data, while darker areas represent complete (non-null) values. Therefore, a fully dark heatmap confirms that all entries in the dataset are complete and no data is missing."
      ],
      "metadata": {
        "id": "gfoNAAC-nUe_"
      }
    },
    {
      "cell_type": "markdown",
      "source": [
        "## ***2. Understanding Your Variables***"
      ],
      "metadata": {
        "id": "nA9Y7ga8ng1Z"
      }
    },
    {
      "cell_type": "code",
      "source": [
        "# Dataset Columns\n",
        "print(df.columns) # Printing the columns present in the dataset"
      ],
      "metadata": {
        "id": "j7xfkqrt5Ag5",
        "colab": {
          "base_uri": "https://localhost:8080/"
        },
        "outputId": "50ef293c-5fe9-4115-89b5-3d9252948b9c"
      },
      "execution_count": 1126,
      "outputs": [
        {
          "output_type": "stream",
          "name": "stdout",
          "text": [
            "Index(['Date', 'Open', 'High', 'Low', 'Close'], dtype='object')\n"
          ]
        }
      ]
    },
    {
      "cell_type": "code",
      "source": [
        "# Dataset Describe\n",
        "print(df.describe()) # Printing the statistical details of the dataset"
      ],
      "metadata": {
        "id": "DnOaZdaE5Q5t",
        "colab": {
          "base_uri": "https://localhost:8080/"
        },
        "outputId": "ce5d1d93-12fe-4dcd-dd43-ea02420c3d2d"
      },
      "execution_count": 1127,
      "outputs": [
        {
          "output_type": "stream",
          "name": "stdout",
          "text": [
            "             Open        High         Low       Close\n",
            "count  185.000000  185.000000  185.000000  185.000000\n",
            "mean   105.541405  116.104324   94.947838  105.204703\n",
            "std     98.879850  106.333497   91.219415   98.583153\n",
            "min     10.000000   11.240000    5.550000    9.980000\n",
            "25%     33.800000   36.140000   28.510000   33.450000\n",
            "50%     62.980000   72.550000   58.000000   62.540000\n",
            "75%    153.000000  169.190000  138.350000  153.300000\n",
            "max    369.950000  404.000000  345.500000  367.900000\n"
          ]
        }
      ]
    },
    {
      "cell_type": "markdown",
      "source": [
        "### Variables Description"
      ],
      "metadata": {
        "id": "PBTbrJXOngz2"
      }
    },
    {
      "cell_type": "markdown",
      "source": [
        "1. The dataset contains 185 complete records of Yes Bank's stock trading history, with no missing values.\n",
        "\n",
        "2. Key variables include:\n",
        "\n",
        "  a. Open Price: The price at which the stock started trading each day, ranging from ₹10 to ₹369.95, with a high standard deviation indicating significant variation.\n",
        "\n",
        "  b. High Price: The maximum price reached during the day, peaking at ₹404, showing occasional price spikes.\n",
        "\n",
        "  c. Low Price: The minimum price during the day, dipping to ₹5.55, indicating extreme intraday volatility.\n",
        "\n",
        "  d. Close Price: The final trading price at the end of the day, with a wide range and high standard deviation, reflecting frequent market fluctuations.\n",
        "\n",
        "3. The dataset highlights:\n",
        "\n",
        "  a. Significant differences between the mean and median across all variables, pointing to outliers or skewed distributions.\n",
        "\n",
        "  b. Most trading days showed moderate trends, but some days had a substantial impact on prices.\n",
        "\n",
        "4. Overall, the dataset is well-suited for:\n",
        "\n",
        "   a. Trend analysis\n",
        "\n",
        "   b. Volatility studies\n",
        "\n",
        "   c. Predictive modeling"
      ],
      "metadata": {
        "id": "aJV4KIxSnxay"
      }
    },
    {
      "cell_type": "markdown",
      "source": [
        "### Check Unique Values for each variable."
      ],
      "metadata": {
        "id": "u3PMJOP6ngxN"
      }
    },
    {
      "cell_type": "code",
      "source": [
        "# Check Unique Values for each variable.\n",
        "for column in df.columns:                                                       # Looping each column\n",
        "    unique_count = df[column].nunique()                                         # Count unique values in each column\n",
        "    print(f\"Number of unique values in column '{column}': {unique_count}\")      # Print the values in each column\n"
      ],
      "metadata": {
        "id": "zms12Yq5n-jE",
        "colab": {
          "base_uri": "https://localhost:8080/"
        },
        "outputId": "2842c3bd-5659-4ce6-f2ce-f23253a22154"
      },
      "execution_count": 1128,
      "outputs": [
        {
          "output_type": "stream",
          "name": "stdout",
          "text": [
            "Number of unique values in column 'Date': 185\n",
            "Number of unique values in column 'Open': 183\n",
            "Number of unique values in column 'High': 184\n",
            "Number of unique values in column 'Low': 183\n",
            "Number of unique values in column 'Close': 185\n"
          ]
        }
      ]
    },
    {
      "cell_type": "markdown",
      "source": [
        "## 3. ***Data Wrangling***"
      ],
      "metadata": {
        "id": "dauF4eBmngu3"
      }
    },
    {
      "cell_type": "markdown",
      "source": [
        "### Data Wrangling Code"
      ],
      "metadata": {
        "id": "bKJF3rekwFvQ"
      }
    },
    {
      "cell_type": "code",
      "source": [
        "# Write your code to make your dataset analysis ready.\n",
        "# 1. Remove unnecessary columns (if any)\n",
        "df = df.drop(columns=['Unnamed: 0'], errors='ignore')\n",
        "\n",
        "# 2. Convert 'Date' column to datetime format\n",
        "df['Date'] = pd.to_datetime(df['Date'], format='%b-%y')\n",
        "\n",
        "\n",
        "\n",
        "\n",
        "\n"
      ],
      "metadata": {
        "id": "wk-9a2fpoLcV"
      },
      "execution_count": 1129,
      "outputs": []
    },
    {
      "cell_type": "markdown",
      "source": [
        "### What all manipulations have you done and insights you found?"
      ],
      "metadata": {
        "id": "MSa1f5Uengrz"
      }
    },
    {
      "cell_type": "markdown",
      "source": [
        "During data wrangling, we performed essential cleaning steps to make the dataset analysis-ready. We checked for and confirmed the absence of duplicate records and missing values, ensuring data completeness and consistency. We also examined the structure and statistical summary of key variables such as Open, High, Low, and Close prices. These steps revealed that the data is clean, with no nulls, and exhibits high volatility, as indicated by large standard deviations and wide price ranges. Additionally, the difference between mean and median values suggests the presence of outliers and right-skewed distributions, highlighting occasional sharp spikes in stock prices."
      ],
      "metadata": {
        "id": "LbyXE7I1olp8"
      }
    },
    {
      "cell_type": "markdown",
      "source": [
        "## ***4. Data Vizualization, Storytelling & Experimenting with charts : Understand the relationships between variables***"
      ],
      "metadata": {
        "id": "GF8Ens_Soomf"
      }
    },
    {
      "cell_type": "markdown",
      "source": [
        "#### Chart - 1"
      ],
      "metadata": {
        "id": "0wOQAZs5pc--"
      }
    },
    {
      "cell_type": "code",
      "source": [
        "# Chart - 1 visualization code\n",
        "df['Open'].plot(kind='hist', bins=20, title='Open')      # Plotting a Histrogram for Open Prices\n",
        "plt.gca().spines[['top', 'right',]].set_visible(False)   # Setting Top and Right Border's visibility to false"
      ],
      "metadata": {
        "id": "7v_ESjsspbW7",
        "colab": {
          "base_uri": "https://localhost:8080/",
          "height": 452
        },
        "outputId": "6bb0a99e-9d94-432d-f031-8618002268b5"
      },
      "execution_count": 1130,
      "outputs": [
        {
          "output_type": "display_data",
          "data": {
            "text/plain": [
              "<Figure size 640x480 with 1 Axes>"
            ],
            "image/png": "[encoded data removed]"
          },
          "metadata": {}
        }
      ]
    },
    {
      "cell_type": "markdown",
      "source": [
        "#### Chart - 2"
      ],
      "metadata": {
        "id": "KSlN3yHqYklG"
      }
    },
    {
      "cell_type": "code",
      "source": [
        "# Chart - 2 visualization code\n",
        "df['High'].plot(kind='hist',bins=20, title='High')      # Plotting a Histrogram for High\n",
        "plt.gca().spines[['top','right']].set_visible(False)    # Setting Top and Right Border's visibility to false"
      ],
      "metadata": {
        "id": "R4YgtaqtYklH",
        "colab": {
          "base_uri": "https://localhost:8080/",
          "height": 452
        },
        "outputId": "78bbf0aa-0d0f-4fba-eff6-38f0e50ab3b0"
      },
      "execution_count": 1131,
      "outputs": [
        {
          "output_type": "display_data",
          "data": {
            "text/plain": [
              "<Figure size 640x480 with 1 Axes>"
            ],
            "image/png": "[encoded data removed]"
          },
          "metadata": {}
        }
      ]
    },
    {
      "cell_type": "markdown",
      "source": [
        "#### Chart - 3"
      ],
      "metadata": {
        "id": "EM7whBJCYoAo"
      }
    },
    {
      "cell_type": "code",
      "source": [
        "# Chart - 3 visualization code\n",
        "df['Low'].plot(kind='hist',bins=20, title='Low')      # Plotting a Histrogram for Low\n",
        "plt.gca().spines[['top','right']].set_visible(False)  # Setting Top and Right Border's visibility to false"
      ],
      "metadata": {
        "id": "t6GMdE67YoAp",
        "colab": {
          "base_uri": "https://localhost:8080/",
          "height": 452
        },
        "outputId": "e59dcf8a-08ea-4fde-a4d8-ae0ece40e76a"
      },
      "execution_count": 1132,
      "outputs": [
        {
          "output_type": "display_data",
          "data": {
            "text/plain": [
              "<Figure size 640x480 with 1 Axes>"
            ],
            "image/png": "[encoded data removed]"
          },
          "metadata": {}
        }
      ]
    },
    {
      "cell_type": "markdown",
      "source": [
        "#### Chart - 4"
      ],
      "metadata": {
        "id": "4Of9eVA-YrdM"
      }
    },
    {
      "cell_type": "code",
      "source": [
        "# Chart - 4 visualization code\n",
        "df['Close'].plot(kind='hist',bins=20, title='Close')      # Plotting a Histrogram for Close\n",
        "plt.gca().spines[['top','right']].set_visible(False)      # Setting Top and Right Border's visibility to false"
      ],
      "metadata": {
        "id": "irlUoxc8YrdO",
        "colab": {
          "base_uri": "https://localhost:8080/",
          "height": 452
        },
        "outputId": "deb3fa61-8893-45d3-e9c8-487f656a3d40"
      },
      "execution_count": 1133,
      "outputs": [
        {
          "output_type": "display_data",
          "data": {
            "text/plain": [
              "<Figure size 640x480 with 1 Axes>"
            ],
            "image/png": "[encoded data removed]"
          },
          "metadata": {}
        }
      ]
    },
    {
      "cell_type": "markdown",
      "source": [
        "# ***In General for the Histogram charts above***"
      ],
      "metadata": {
        "id": "yD-ZR-nJdmQ3"
      }
    },
    {
      "cell_type": "markdown",
      "source": [
        "##### 1. Why did you pick the specific chart?"
      ],
      "metadata": {
        "id": "K5QZ13OEpz2H"
      }
    },
    {
      "cell_type": "markdown",
      "source": [
        "To Understand Distribution\n",
        "\n",
        "\n",
        "Detect Skewness\n",
        "\n",
        "\n",
        "Identify Outliers\n",
        "\n",
        "Good for Continuous Data\n"
      ],
      "metadata": {
        "id": "XESiWehPqBRc"
      }
    },
    {
      "cell_type": "markdown",
      "source": [
        "##### 2. What is/are the insight(s) found from the chart?"
      ],
      "metadata": {
        "id": "lQ7QKXXCp7Bj"
      }
    },
    {
      "cell_type": "markdown",
      "source": [
        "Reveals whether data is normally distributed or skewed\n",
        "\n",
        "Highlights frequent value ranges\n",
        "\n",
        "Helps detect rare or extreme values (outliers)\n",
        "\n",
        "Shows data clustering, useful for targeting and analysis\n",
        "\n"
      ],
      "metadata": {
        "id": "C_j1G7yiqdRP"
      }
    },
    {
      "cell_type": "markdown",
      "source": [
        "##### 3. Will the gained insights help creating a positive business impact?\n"
      ],
      "metadata": {
        "id": "448CDAPjqfQr"
      }
    },
    {
      "cell_type": "markdown",
      "source": [
        " Yes, because:\n",
        "\n",
        "Guides data-driven decisions (e.g., pricing, inventory, risk strategy)\n",
        "\n",
        "Helps segment customers or products based on behavior or performance ranges\n",
        "\n",
        "Allows early detection of anomalies, improving accuracy in forecasting and planning"
      ],
      "metadata": {
        "id": "3cspy4FjqxJW"
      }
    },
    {
      "cell_type": "markdown",
      "source": [
        "#### Chart - 5"
      ],
      "metadata": {
        "id": "bamQiAODYuh1"
      }
    },
    {
      "cell_type": "code",
      "source": [
        "# Chart - 5 visualization code\n",
        "df.plot(kind='scatter', x='Open', y='High', s=32, alpha=.8)  # Creating the scatter plot between Open and High Prices\n",
        "plt.gca().spines[['top', 'right',]].set_visible(False)       # Setting Top and Right Border's visibility to false"
      ],
      "metadata": {
        "id": "TIJwrbroYuh3",
        "colab": {
          "base_uri": "https://localhost:8080/",
          "height": 449
        },
        "outputId": "fbed411d-36d9-4b83-dd10-f7a003f79031"
      },
      "execution_count": 1134,
      "outputs": [
        {
          "output_type": "display_data",
          "data": {
            "text/plain": [
              "<Figure size 640x480 with 1 Axes>"
            ],
            "image/png": "[encoded data removed]"
          },
          "metadata": {}
        }
      ]
    },
    {
      "cell_type": "markdown",
      "source": [
        "#### Chart - 6"
      ],
      "metadata": {
        "id": "OH-pJp9IphqM"
      }
    },
    {
      "cell_type": "code",
      "source": [
        "# Chart - 6 visualization code\n",
        "df.plot(kind='scatter', x='High', y='Low', s=32, alpha=.8)      # Creating the scatter plot between High and Low Prices\n",
        "plt.gca().spines[['top', 'right',]].set_visible(False)          # Setting Top and Right Border's visibility to false"
      ],
      "metadata": {
        "id": "kuRf4wtuphqN",
        "colab": {
          "base_uri": "https://localhost:8080/",
          "height": 449
        },
        "outputId": "4c2af1c6-287b-46cd-f242-17a94f20c602"
      },
      "execution_count": 1135,
      "outputs": [
        {
          "output_type": "display_data",
          "data": {
            "text/plain": [
              "<Figure size 640x480 with 1 Axes>"
            ],
            "image/png": "[encoded data removed]"
          },
          "metadata": {}
        }
      ]
    },
    {
      "cell_type": "markdown",
      "source": [
        "#### Chart - 7"
      ],
      "metadata": {
        "id": "PIIx-8_IphqN"
      }
    },
    {
      "cell_type": "code",
      "source": [
        "# Chart - 7 visualization code\n",
        "df.plot(kind='scatter', x='Low', y='Close', s=32, alpha=.8)      # Creating the scatter plot between Low and Close Prices\n",
        "plt.gca().spines[['top', 'right',]].set_visible(False)            # Setting Top and Right Border's visibility to false"
      ],
      "metadata": {
        "id": "lqAIGUfyphqO",
        "colab": {
          "base_uri": "https://localhost:8080/",
          "height": 449
        },
        "outputId": "d51ebc16-b2c7-4070-8f52-caa3dac869dd"
      },
      "execution_count": 1136,
      "outputs": [
        {
          "output_type": "display_data",
          "data": {
            "text/plain": [
              "<Figure size 640x480 with 1 Axes>"
            ],
            "image/png": "[encoded data removed]"
          },
          "metadata": {}
        }
      ]
    },
    {
      "cell_type": "markdown",
      "source": [
        "# **For all the above Scatter Plots**"
      ],
      "metadata": {
        "id": "HjgiZBNMfLX_"
      }
    },
    {
      "cell_type": "markdown",
      "source": [
        "##### 1. Why did you pick the specific chart?"
      ],
      "metadata": {
        "id": "t27r6nlMphqO"
      }
    },
    {
      "cell_type": "markdown",
      "source": [
        "It helps visualize patterns, correlations, or clusters between variables.\n",
        "\n",
        "Ideal for identifying trends, outliers, and linear/non-linear relationships.\n",
        "\n",
        "Useful for checking whether a predictive relationship might exist (e.g., price vs time, sales vs marketing spend)."
      ],
      "metadata": {
        "id": "iv6ro40sphqO"
      }
    },
    {
      "cell_type": "code",
      "source": [],
      "metadata": {
        "id": "0BcQkQQMgqLz"
      },
      "execution_count": 1136,
      "outputs": []
    },
    {
      "cell_type": "markdown",
      "source": [
        "##### 2. What is/are the insight(s) found from the chart?"
      ],
      "metadata": {
        "id": "r2jJGEOYphqO"
      }
    },
    {
      "cell_type": "markdown",
      "source": [
        "Positive or negative correlation (e.g., as X increases, Y increases or decreases).\n",
        "\n",
        "Outliers that deviate significantly from the general trend.\n",
        "\n",
        "Clusters or groupings that may suggest segments or behavior patterns."
      ],
      "metadata": {
        "id": "Po6ZPi4hphqO"
      }
    },
    {
      "cell_type": "markdown",
      "source": [
        "##### 3. Will the gained insights help creating a positive business impact?\n"
      ],
      "metadata": {
        "id": "b0JNsNcRphqO"
      }
    },
    {
      "cell_type": "markdown",
      "source": [
        "Yes, scatter plots provide insights that support:\n",
        "\n",
        "Better predictions (e.g., forecasting sales from ad spend).\n",
        "\n",
        "Targeted actions: If two variables are strongly correlated, one can be used to influence the other.\n",
        "\n",
        "Segmented strategies based on identified clusters in data."
      ],
      "metadata": {
        "id": "xvSq8iUTphqO"
      }
    },
    {
      "cell_type": "markdown",
      "source": [
        "#### Chart - 8"
      ],
      "metadata": {
        "id": "BZR9WyysphqO"
      }
    },
    {
      "cell_type": "code",
      "source": [
        "# Chart - 8 visualization code\n",
        "\n",
        "# Define a custom function to plot a time series (e.g., stock prices)\n",
        "def _plot_series(series, series_name, series_index=0):\n",
        "    # Choose a color palette (Dark2 is visually distinct and colorblind-friendly)\n",
        "    palette = list(sns.palettes.mpl_palette('Dark2'))\n",
        "\n",
        "    # Extract the x and y values from the DataFrame\n",
        "    xs = series['Date']      # x-axis: dates\n",
        "    ys = series['Open']      # y-axis: opening prices\n",
        "\n",
        "    # Plot the line for the series with a color and label\n",
        "    plt.plot(xs, ys, label=series_name, color=palette[series_index % len(palette)])\n",
        "\n",
        "# Create a figure and axis object with a fixed size and layout\n",
        "fig, ax = plt.subplots(figsize=(10, 5.2), layout='constrained')\n",
        "\n",
        "# Sort the DataFrame by date to ensure the plot is in chronological order\n",
        "df_sorted = df.sort_values('Date', ascending=True)\n",
        "\n",
        "# Call the custom plot function with the sorted data\n",
        "_plot_series(df_sorted, series_name='')\n",
        "\n",
        "# Remove the top and right borders from the plot for a cleaner look\n",
        "sns.despine(fig=fig, ax=ax)\n",
        "\n",
        "# Label the x-axis\n",
        "plt.xlabel('Date')\n",
        "\n",
        "# Label the y-axis\n",
        "_ = plt.ylabel('Open')  # \"_\" is used to suppress unnecessary output\n"
      ],
      "metadata": {
        "id": "TdPTWpAVphqO",
        "colab": {
          "base_uri": "https://localhost:8080/",
          "height": 548
        },
        "outputId": "020361e9-c5ad-41fc-c5c5-bec0762baed0"
      },
      "execution_count": 1137,
      "outputs": [
        {
          "output_type": "display_data",
          "data": {
            "text/plain": [
              "<Figure size 1000x520 with 1 Axes>"
            ],
            "image/png": "[encoded data removed]"
          },
          "metadata": {}
        }
      ]
    },
    {
      "cell_type": "markdown",
      "source": [
        "#### Chart - 9"
      ],
      "metadata": {
        "id": "YJ55k-q6phqO"
      }
    },
    {
      "cell_type": "code",
      "source": [
        "# Chart - 9 visualization code\n",
        "\n",
        "# Define a custom function to plot a time series (e.g., stock prices)\n",
        "def _plot_series(series, series_name, series_index=0):\n",
        "    # Choose a color palette (Dark2 is visually distinct and colorblind-friendly)\n",
        "    palette = list(sns.palettes.mpl_palette('Dark2'))\n",
        "\n",
        "    # Extract the x and y values from the DataFrame\n",
        "    xs = series['Date']      # x-axis: dates\n",
        "    ys = series['High']      # y-axis: High prices\n",
        "\n",
        "    # Plot the line for the series with a color and label\n",
        "    plt.plot(xs, ys, label=series_name, color=palette[series_index % len(palette)])\n",
        "\n",
        "# Create a figure and axis object with a fixed size and layout\n",
        "fig, ax = plt.subplots(figsize=(10, 5.2), layout='constrained')\n",
        "\n",
        "# Sort the DataFrame by date to ensure the plot is in chronological order\n",
        "df_sorted = df.sort_values('Date', ascending=True)\n",
        "\n",
        "# Call the custom plot function with the sorted data\n",
        "_plot_series(df_sorted, series_name='')\n",
        "\n",
        "# Remove the top and right borders from the plot for a cleaner look\n",
        "sns.despine(fig=fig, ax=ax)\n",
        "\n",
        "# Label the x-axis\n",
        "plt.xlabel('Date')\n",
        "\n",
        "# Label the y-axis\n",
        "_ = plt.ylabel('High')  # \"_\" is used to suppress unnecessary output\n"
      ],
      "metadata": {
        "id": "B2aS4O1ophqO",
        "colab": {
          "base_uri": "https://localhost:8080/",
          "height": 548
        },
        "outputId": "d2fb18cc-54ae-4643-c5fe-1dd35a0f7b2c"
      },
      "execution_count": 1138,
      "outputs": [
        {
          "output_type": "display_data",
          "data": {
            "text/plain": [
              "<Figure size 1000x520 with 1 Axes>"
            ],
            "image/png": "[encoded data removed]"
          },
          "metadata": {}
        }
      ]
    },
    {
      "cell_type": "markdown",
      "source": [
        "#### Chart - 10"
      ],
      "metadata": {
        "id": "U2RJ9gkRphqQ"
      }
    },
    {
      "cell_type": "code",
      "source": [
        "# Chart - 10 visualization code\n",
        "\n",
        "# Define a custom function to plot a time series (e.g., stock prices)\n",
        "def _plot_series(series, series_name, series_index=0):\n",
        "    # Choose a color palette (Dark2 is visually distinct and colorblind-friendly)\n",
        "    palette = list(sns.palettes.mpl_palette('Dark2'))\n",
        "\n",
        "    # Extract the x and y values from the DataFrame\n",
        "    xs = series['Date']      # x-axis: dates\n",
        "    ys = series['Low']      # y-axis: Low prices\n",
        "\n",
        "    # Plot the line for the series with a color and label\n",
        "    plt.plot(xs, ys, label=series_name, color=palette[series_index % len(palette)])\n",
        "\n",
        "# Create a figure and axis object with a fixed size and layout\n",
        "fig, ax = plt.subplots(figsize=(10, 5.2), layout='constrained')\n",
        "\n",
        "# Sort the DataFrame by date to ensure the plot is in chronological order\n",
        "df_sorted = df.sort_values('Date', ascending=True)\n",
        "\n",
        "# Call the custom plot function with the sorted data\n",
        "_plot_series(df_sorted, series_name='')\n",
        "\n",
        "# Remove the top and right borders from the plot for a cleaner look\n",
        "sns.despine(fig=fig, ax=ax)\n",
        "\n",
        "# Label the x-axis\n",
        "plt.xlabel('Date')\n",
        "\n",
        "# Label the y-axis\n",
        "_ = plt.ylabel('Low')  # \"_\" is used to suppress unnecessary output\n"
      ],
      "metadata": {
        "id": "GM7a4YP4phqQ",
        "colab": {
          "base_uri": "https://localhost:8080/",
          "height": 548
        },
        "outputId": "ab84f353-cf91-4862-b133-2a46a24fdc16"
      },
      "execution_count": 1139,
      "outputs": [
        {
          "output_type": "display_data",
          "data": {
            "text/plain": [
              "<Figure size 1000x520 with 1 Axes>"
            ],
            "image/png": "[encoded data removed]"
          },
          "metadata": {}
        }
      ]
    },
    {
      "cell_type": "markdown",
      "source": [
        "#### Chart - 11"
      ],
      "metadata": {
        "id": "x-EpHcCOp1ci"
      }
    },
    {
      "cell_type": "code",
      "source": [
        "# Chart - 11 visualization code\n",
        "\n",
        "# Define a custom function to plot a time series (e.g., stock prices)\n",
        "def _plot_series(series, series_name, series_index=0):\n",
        "    # Choose a color palette (Dark2 is visually distinct and colorblind-friendly)\n",
        "    palette = list(sns.palettes.mpl_palette('Dark2'))\n",
        "\n",
        "    # Extract the x and y values from the DataFrame\n",
        "    xs = series['Date']      # x-axis: dates\n",
        "    ys = series['Close']      # y-axis: Close prices\n",
        "\n",
        "    # Plot the line for the series with a color and label\n",
        "    plt.plot(xs, ys, label=series_name, color=palette[series_index % len(palette)])\n",
        "\n",
        "# Create a figure and axis object with a fixed size and layout\n",
        "fig, ax = plt.subplots(figsize=(10, 5.2), layout='constrained')\n",
        "\n",
        "# Sort the DataFrame by date to ensure the plot is in chronological order\n",
        "df_sorted = df.sort_values('Date', ascending=True)\n",
        "\n",
        "# Call the custom plot function with the sorted data\n",
        "_plot_series(df_sorted, series_name='')\n",
        "\n",
        "# Remove the top and right borders from the plot for a cleaner look\n",
        "sns.despine(fig=fig, ax=ax)\n",
        "\n",
        "# Label the x-axis\n",
        "plt.xlabel('Date')\n",
        "\n",
        "# Label the y-axis\n",
        "_ = plt.ylabel('Close')  # \"_\" is used to suppress unnecessary output\n"
      ],
      "metadata": {
        "id": "mAQTIvtqp1cj",
        "colab": {
          "base_uri": "https://localhost:8080/",
          "height": 548
        },
        "outputId": "38012f78-fdde-42a7-83bc-14d7c9054174"
      },
      "execution_count": 1140,
      "outputs": [
        {
          "output_type": "display_data",
          "data": {
            "text/plain": [
              "<Figure size 1000x520 with 1 Axes>"
            ],
            "image/png": "[encoded data removed]"
          },
          "metadata": {}
        }
      ]
    },
    {
      "cell_type": "markdown",
      "source": [
        "# **For above all the line Charts**"
      ],
      "metadata": {
        "id": "AImZGC9JgNJV"
      }
    },
    {
      "cell_type": "markdown",
      "source": [
        "##### 1. Why did you pick the specific chart?"
      ],
      "metadata": {
        "id": "X_VqEhTip1ck"
      }
    },
    {
      "cell_type": "markdown",
      "source": [
        "It clearly shows how stock prices (or any value) change over time.\n",
        "\n",
        "Helps identify trends, such as rising or falling patterns across years.\n",
        "\n",
        "Suitable for time-series data, like daily stock market values or sales records."
      ],
      "metadata": {
        "id": "-vsMzt_np1ck"
      }
    },
    {
      "cell_type": "markdown",
      "source": [
        "##### 2. What is/are the insight(s) found from the chart?"
      ],
      "metadata": {
        "id": "8zGJKyg5p1ck"
      }
    },
    {
      "cell_type": "markdown",
      "source": [
        "There is a strong upward trend until around 2018, indicating a period of high growth.\n",
        "\n",
        "Post-2018, there's a sharp decline, suggesting market correction, crisis, or other impactful events.\n",
        "\n",
        "Fluctuations and volatility become visible — useful for assessing market behavior."
      ],
      "metadata": {
        "id": "ZYdMsrqVp1ck"
      }
    },
    {
      "cell_type": "markdown",
      "source": [
        "##### 3. Will the gained insights help creating a positive business impact?\n"
      ],
      "metadata": {
        "id": "PVzmfK_Ep1ck"
      }
    },
    {
      "cell_type": "markdown",
      "source": [
        "Yes, insights from this chart can help businesses:\n",
        "\n",
        "Time their investments or stock decisions better based on historical performance.\n",
        "\n",
        "Understand volatility periods and prepare risk strategies.\n",
        "\n",
        "Detect seasonal trends or consistent growth patterns for long-term planning."
      ],
      "metadata": {
        "id": "druuKYZpp1ck"
      }
    },
    {
      "cell_type": "markdown",
      "source": [
        "#### Chart - 12"
      ],
      "metadata": {
        "id": "n3dbpmDWp1ck"
      }
    },
    {
      "cell_type": "code",
      "source": [
        "# Chart - 12 visualization code\n",
        "\n",
        "import altair as alt\n",
        "\n",
        "# Define the base chart with the date on the x-axis\n",
        "base = alt.Chart(df).encode(\n",
        "    x='Date:T',\n",
        "    y='Open:Q'\n",
        ")\n",
        "\n",
        "# Define the candlestick bars\n",
        "candlestick = base.mark_rule().encode(\n",
        "    y='Low:Q',\n",
        "    y2='High:Q'\n",
        ")\n",
        "\n",
        "# Define the close-open bars\n",
        "close_open = base.mark_bar().encode(\n",
        "    y='Open:Q',\n",
        "    y2='Close:Q',\n",
        "    color=alt.condition(\"datum.Open <= datum.Close\",  # Color based on whether close is higher than open\n",
        "                      alt.value(\"green\"),\n",
        "                      alt.value(\"red\"))\n",
        ")\n",
        "\n",
        "# Combine the candlestick and close-open bars\n",
        "chart = candlestick + close_open\n",
        "\n",
        "# Display the chart\n",
        "chart\n"
      ],
      "metadata": {
        "id": "bwevp1tKp1ck",
        "colab": {
          "base_uri": "https://localhost:8080/",
          "height": 368
        },
        "outputId": "3bcfdc85-f796-469c-d346-b0751730098f"
      },
      "execution_count": 1141,
      "outputs": [
        {
          "output_type": "execute_result",
          "data": {
            "text/html": [
              "\n",
              "<style>\n",
              "  #altair-viz-a3d9755dfe1e43e09f56fbf413f1d4f3.vega-embed {\n",
              "    width: 100%;\n",
              "    display: flex;\n",
              "  }\n",
              "\n",
              "  #altair-viz-a3d9755dfe1e43e09f56fbf413f1d4f3.vega-embed details,\n",
              "  #altair-viz-a3d9755dfe1e43e09f56fbf413f1d4f3.vega-embed details summary {\n",
              "    position: relative;\n",
              "  }\n",
              "</style>\n",
              "<div id=\"altair-viz-a3d9755dfe1e43e09f56fbf413f1d4f3\"></div>\n",
              "<script type=\"text/javascript\">\n",
              "  var VEGA_DEBUG = (typeof VEGA_DEBUG == \"undefined\") ? {} : VEGA_DEBUG;\n",
              "  (function(spec, embedOpt){\n",
              "    let outputDiv = document.currentScript.previousElementSibling;\n",
              "    if (outputDiv.id !== \"altair-viz-a3d9755dfe1e43e09f56fbf413f1d4f3\") {\n",
              "      outputDiv = document.getElementById(\"altair-viz-a3d9755dfe1e43e09f56fbf413f1d4f3\");\n",
              "    }\n",
              "\n",
              "    const paths = {\n",
              "      \"vega\": \"https://cdn.jsdelivr.net/npm/vega@5?noext\",\n",
              "      \"vega-lib\": \"https://cdn.jsdelivr.net/npm/vega-lib?noext\",\n",
              "      \"vega-lite\": \"https://cdn.jsdelivr.net/npm/vega-lite@5.20.1?noext\",\n",
              "      \"vega-embed\": \"https://cdn.jsdelivr.net/npm/vega-embed@6?noext\",\n",
              "    };\n",
              "\n",
              "    function maybeLoadScript(lib, version) {\n",
              "      var key = `${lib.replace(\"-\", \"\")}_version`;\n",
              "      return (VEGA_DEBUG[key] == version) ?\n",
              "        Promise.resolve(paths[lib]) :\n",
              "        new Promise(function(resolve, reject) {\n",
              "          var s = document.createElement('script');\n",
              "          document.getElementsByTagName(\"head\")[0].appendChild(s);\n",
              "          s.async = true;\n",
              "          s.onload = () => {\n",
              "            VEGA_DEBUG[key] = version;\n",
              "            return resolve(paths[lib]);\n",
              "          };\n",
              "          s.onerror = () => reject(`Error loading script: ${paths[lib]}`);\n",
              "          s.src = paths[lib];\n",
              "        });\n",
              "    }\n",
              "\n",
              "    function showError(err) {\n",
              "      outputDiv.innerHTML = `<div class=\"error\" style=\"color:red;\">${err}</div>`;\n",
              "      throw err;\n",
              "    }\n",
              "\n",
              "    function displayChart(vegaEmbed) {\n",
              "      vegaEmbed(outputDiv, spec, embedOpt)\n",
              "        .catch(err => showError(`Javascript Error: ${err.message}<br>This usually means there's a typo in your chart specification. See the javascript console for the full traceback.`));\n",
              "    }\n",
              "\n",
              "    if(typeof define === \"function\" && define.amd) {\n",
              "      requirejs.config({paths});\n",
              "      let deps = [\"vega-embed\"];\n",
              "      require(deps, displayChart, err => showError(`Error loading script: ${err.message}`));\n",
              "    } else {\n",
              "      maybeLoadScript(\"vega\", \"5\")\n",
              "        .then(() => maybeLoadScript(\"vega-lite\", \"5.20.1\"))\n",
              "        .then(() => maybeLoadScript(\"vega-embed\", \"6\"))\n",
              "        .catch(showError)\n",
              "        .then(() => displayChart(vegaEmbed));\n",
              "    }\n",
              "  })({\"config\": {\"view\": {\"continuousWidth\": 300, \"continuousHeight\": 300}}, \"layer\": [{\"mark\": {\"type\": \"rule\"}, \"encoding\": {\"x\": {\"field\": \"Date\", \"type\": \"temporal\"}, \"y\": {\"field\": \"Low\", \"type\": \"quantitative\"}, \"y2\": {\"field\": \"High\"}}}, {\"mark\": {\"type\": \"bar\"}, \"encoding\": {\"color\": {\"condition\": {\"test\": \"datum.Open <= datum.Close\", \"value\": \"green\"}, \"value\": \"red\"}, \"x\": {\"field\": \"Date\", \"type\": \"temporal\"}, \"y\": {\"field\": \"Open\", \"type\": \"quantitative\"}, \"y2\": {\"field\": \"Close\"}}}], \"data\": {\"name\": \"data-a3d253884455e06bd435fd2e0af20192\"}, \"$schema\": \"https://vega.github.io/schema/vega-lite/v5.20.1.json\", \"datasets\": {\"data-a3d253884455e06bd435fd2e0af20192\": [{\"Date\": \"2005-07-01T00:00:00\", \"Open\": 13.0, \"High\": 14.0, \"Low\": 11.25, \"Close\": 12.46}, {\"Date\": \"2005-08-01T00:00:00\", \"Open\": 12.58, \"High\": 14.88, \"Low\": 12.55, \"Close\": 13.42}, {\"Date\": \"2005-09-01T00:00:00\", \"Open\": 13.48, \"High\": 14.87, \"Low\": 12.27, \"Close\": 13.3}, {\"Date\": \"2005-10-01T00:00:00\", \"Open\": 13.2, \"High\": 14.47, \"Low\": 12.4, \"Close\": 12.99}, {\"Date\": \"2005-11-01T00:00:00\", \"Open\": 13.35, \"High\": 13.88, \"Low\": 12.88, \"Close\": 13.41}, {\"Date\": \"2005-12-01T00:00:00\", \"Open\": 13.49, \"High\": 14.44, \"Low\": 13.0, \"Close\": 13.71}, {\"Date\": \"2006-01-01T00:00:00\", \"Open\": 13.68, \"High\": 17.16, \"Low\": 13.58, \"Close\": 15.33}, {\"Date\": \"2006-02-01T00:00:00\", \"Open\": 15.5, \"High\": 16.97, \"Low\": 15.4, \"Close\": 16.12}, {\"Date\": \"2006-03-01T00:00:00\", \"Open\": 16.2, \"High\": 20.95, \"Low\": 16.02, \"Close\": 20.08}, {\"Date\": \"2006-04-01T00:00:00\", \"Open\": 20.56, \"High\": 20.8, \"Low\": 18.02, \"Close\": 19.49}, {\"Date\": \"2006-05-01T00:00:00\", \"Open\": 19.8, \"High\": 21.8, \"Low\": 15.8, \"Close\": 18.03}, {\"Date\": \"2006-06-01T00:00:00\", \"Open\": 18.2, \"High\": 18.4, \"Low\": 13.4, \"Close\": 15.62}, {\"Date\": \"2006-07-01T00:00:00\", \"Open\": 16.0, \"High\": 17.2, \"Low\": 13.82, \"Close\": 16.16}, {\"Date\": \"2006-08-01T00:00:00\", \"Open\": 15.9, \"High\": 18.6, \"Low\": 15.7, \"Close\": 17.84}, {\"Date\": \"2006-09-01T00:00:00\", \"Open\": 18.0, \"High\": 18.88, \"Low\": 16.8, \"Close\": 18.46}, {\"Date\": \"2006-10-01T00:00:00\", \"Open\": 18.78, \"High\": 24.2, \"Low\": 18.5, \"Close\": 22.78}, {\"Date\": \"2006-11-01T00:00:00\", \"Open\": 22.8, \"High\": 28.47, \"Low\": 21.4, \"Close\": 25.32}, {\"Date\": \"2006-12-01T00:00:00\", \"Open\": 25.4, \"High\": 29.66, \"Low\": 24.4, \"Close\": 26.97}, {\"Date\": \"2007-01-01T00:00:00\", \"Open\": 27.4, \"High\": 34.16, \"Low\": 27.0, \"Close\": 30.16}, {\"Date\": \"2007-02-01T00:00:00\", \"Open\": 30.2, \"High\": 32.6, \"Low\": 26.8, \"Close\": 28.63}, {\"Date\": \"2007-03-01T00:00:00\", \"Open\": 29.3, \"High\": 31.58, \"Low\": 23.31, \"Close\": 28.14}, {\"Date\": \"2007-04-01T00:00:00\", \"Open\": 27.0, \"High\": 31.99, \"Low\": 26.2, \"Close\": 30.31}, {\"Date\": \"2007-05-01T00:00:00\", \"Open\": 30.66, \"High\": 36.14, \"Low\": 29.11, \"Close\": 33.51}, {\"Date\": \"2007-06-01T00:00:00\", \"Open\": 33.89, \"High\": 36.38, \"Low\": 30.4, \"Close\": 35.98}, {\"Date\": \"2007-07-01T00:00:00\", \"Open\": 35.98, \"High\": 41.04, \"Low\": 35.02, \"Close\": 37.93}, {\"Date\": \"2007-08-01T00:00:00\", \"Open\": 37.5, \"High\": 39.0, \"Low\": 30.2, \"Close\": 36.99}, {\"Date\": \"2007-09-01T00:00:00\", \"Open\": 37.4, \"High\": 41.75, \"Low\": 35.3, \"Close\": 41.36}, {\"Date\": \"2007-10-01T00:00:00\", \"Open\": 41.8, \"High\": 47.3, \"Low\": 33.6, \"Close\": 43.48}, {\"Date\": \"2007-11-01T00:00:00\", \"Open\": 44.4, \"High\": 50.98, \"Low\": 40.02, \"Close\": 46.18}, {\"Date\": \"2007-12-01T00:00:00\", \"Open\": 46.4, \"High\": 54.0, \"Low\": 45.0, \"Close\": 49.81}, {\"Date\": \"2008-01-01T00:00:00\", \"Open\": 49.99, \"High\": 55.56, \"Low\": 30.24, \"Close\": 50.54}, {\"Date\": \"2008-02-01T00:00:00\", \"Open\": 50.88, \"High\": 53.97, \"Low\": 44.4, \"Close\": 49.42}, {\"Date\": \"2008-03-01T00:00:00\", \"Open\": 48.9, \"High\": 48.9, \"Low\": 24.11, \"Close\": 33.75}, {\"Date\": \"2008-04-01T00:00:00\", \"Open\": 33.9, \"High\": 35.8, \"Low\": 28.51, \"Close\": 34.06}, {\"Date\": \"2008-05-01T00:00:00\", \"Open\": 34.3, \"High\": 36.88, \"Low\": 30.03, \"Close\": 31.13}, {\"Date\": \"2008-06-01T00:00:00\", \"Open\": 31.22, \"High\": 32.22, \"Low\": 22.62, \"Close\": 22.85}, {\"Date\": \"2008-07-01T00:00:00\", \"Open\": 22.85, \"High\": 30.5, \"Low\": 20.4, \"Close\": 25.45}, {\"Date\": \"2008-08-01T00:00:00\", \"Open\": 25.0, \"High\": 28.98, \"Low\": 24.62, \"Close\": 26.83}, {\"Date\": \"2008-09-01T00:00:00\", \"Open\": 26.68, \"High\": 29.8, \"Low\": 21.7, \"Close\": 24.13}, {\"Date\": \"2008-10-01T00:00:00\", \"Open\": 24.6, \"High\": 25.0, \"Low\": 11.01, \"Close\": 13.58}, {\"Date\": \"2008-11-01T00:00:00\", \"Open\": 14.79, \"High\": 17.8, \"Low\": 11.25, \"Close\": 12.26}, {\"Date\": \"2008-12-01T00:00:00\", \"Open\": 12.4, \"High\": 16.56, \"Low\": 11.13, \"Close\": 15.03}, {\"Date\": \"2009-01-01T00:00:00\", \"Open\": 15.28, \"High\": 18.34, \"Low\": 11.48, \"Close\": 12.24}, {\"Date\": \"2009-02-01T00:00:00\", \"Open\": 12.19, \"High\": 12.5, \"Low\": 9.9, \"Close\": 10.26}, {\"Date\": \"2009-03-01T00:00:00\", \"Open\": 10.0, \"High\": 11.24, \"Low\": 8.16, \"Close\": 9.98}, {\"Date\": \"2009-04-01T00:00:00\", \"Open\": 10.04, \"High\": 17.51, \"Low\": 9.94, \"Close\": 15.45}, {\"Date\": \"2009-05-01T00:00:00\", \"Open\": 15.94, \"High\": 28.84, \"Low\": 14.76, \"Close\": 25.12}, {\"Date\": \"2009-06-01T00:00:00\", \"Open\": 25.6, \"High\": 31.08, \"Low\": 23.0, \"Close\": 29.68}, {\"Date\": \"2009-07-01T00:00:00\", \"Open\": 29.7, \"High\": 33.16, \"Low\": 24.83, \"Close\": 31.93}, {\"Date\": \"2009-08-01T00:00:00\", \"Open\": 31.98, \"High\": 35.18, \"Low\": 29.0, \"Close\": 33.45}, {\"Date\": \"2009-09-01T00:00:00\", \"Open\": 33.8, \"High\": 41.3, \"Low\": 32.0, \"Close\": 40.99}, {\"Date\": \"2009-10-01T00:00:00\", \"Open\": 41.2, \"High\": 52.34, \"Low\": 36.8, \"Close\": 47.31}, {\"Date\": \"2009-11-01T00:00:00\", \"Open\": 46.58, \"High\": 54.98, \"Low\": 42.84, \"Close\": 50.57}, {\"Date\": \"2009-12-01T00:00:00\", \"Open\": 50.98, \"High\": 55.67, \"Low\": 48.6, \"Close\": 53.41}, {\"Date\": \"2010-01-01T00:00:00\", \"Open\": 53.6, \"High\": 57.58, \"Low\": 46.42, \"Close\": 49.84}, {\"Date\": \"2010-02-01T00:00:00\", \"Open\": 49.0, \"High\": 51.48, \"Low\": 44.6, \"Close\": 47.32}, {\"Date\": \"2010-03-01T00:00:00\", \"Open\": 47.8, \"High\": 52.06, \"Low\": 47.3, \"Close\": 50.97}, {\"Date\": \"2010-04-01T00:00:00\", \"Open\": 50.67, \"High\": 59.48, \"Low\": 48.8, \"Close\": 57.1}, {\"Date\": \"2010-05-01T00:00:00\", \"Open\": 56.94, \"High\": 58.08, \"Low\": 50.66, \"Close\": 57.57}, {\"Date\": \"2010-06-01T00:00:00\", \"Open\": 56.7, \"High\": 59.9, \"Low\": 52.6, \"Close\": 53.83}, {\"Date\": \"2010-07-01T00:00:00\", \"Open\": 53.55, \"High\": 60.94, \"Low\": 53.02, \"Close\": 58.99}, {\"Date\": \"2010-08-01T00:00:00\", \"Open\": 59.4, \"High\": 68.88, \"Low\": 59.01, \"Close\": 62.22}, {\"Date\": \"2010-09-01T00:00:00\", \"Open\": 62.8, \"High\": 71.74, \"Low\": 62.51, \"Close\": 70.3}, {\"Date\": \"2010-10-01T00:00:00\", \"Open\": 70.9, \"High\": 76.0, \"Low\": 68.21, \"Close\": 71.86}, {\"Date\": \"2010-11-01T00:00:00\", \"Open\": 72.2, \"High\": 77.6, \"Low\": 58.0, \"Close\": 61.21}, {\"Date\": \"2010-12-01T00:00:00\", \"Open\": 61.8, \"High\": 68.36, \"Low\": 55.44, \"Close\": 62.54}, {\"Date\": \"2011-01-01T00:00:00\", \"Open\": 62.98, \"High\": 63.54, \"Low\": 49.39, \"Close\": 52.59}, {\"Date\": \"2011-02-01T00:00:00\", \"Open\": 53.0, \"High\": 57.69, \"Low\": 46.71, \"Close\": 51.29}, {\"Date\": \"2011-03-01T00:00:00\", \"Open\": 51.84, \"High\": 65.2, \"Low\": 50.8, \"Close\": 61.98}, {\"Date\": \"2011-04-01T00:00:00\", \"Open\": 62.0, \"High\": 68.26, \"Low\": 60.5, \"Close\": 61.02}, {\"Date\": \"2011-05-01T00:00:00\", \"Open\": 61.26, \"High\": 61.68, \"Low\": 54.5, \"Close\": 60.07}, {\"Date\": \"2011-06-01T00:00:00\", \"Open\": 60.4, \"High\": 63.39, \"Low\": 54.8, \"Close\": 62.38}, {\"Date\": \"2011-07-01T00:00:00\", \"Open\": 63.0, \"High\": 68.0, \"Low\": 61.36, \"Close\": 62.13}, {\"Date\": \"2011-08-01T00:00:00\", \"Open\": 62.9, \"High\": 63.96, \"Low\": 50.51, \"Close\": 55.61}, {\"Date\": \"2011-09-01T00:00:00\", \"Open\": 56.0, \"High\": 60.08, \"Low\": 51.2, \"Close\": 54.5}, {\"Date\": \"2011-10-01T00:00:00\", \"Open\": 53.8, \"High\": 64.8, \"Low\": 48.1, \"Close\": 62.9}, {\"Date\": \"2011-11-01T00:00:00\", \"Open\": 62.2, \"High\": 63.7, \"Low\": 52.04, \"Close\": 54.49}, {\"Date\": \"2011-12-01T00:00:00\", \"Open\": 57.0, \"High\": 59.8, \"Low\": 47.4, \"Close\": 47.72}, {\"Date\": \"2012-01-01T00:00:00\", \"Open\": 47.92, \"High\": 66.5, \"Low\": 46.11, \"Close\": 65.99}, {\"Date\": \"2012-02-01T00:00:00\", \"Open\": 65.9, \"High\": 74.8, \"Low\": 63.6, \"Close\": 69.14}, {\"Date\": \"2012-03-01T00:00:00\", \"Open\": 69.0, \"High\": 77.88, \"Low\": 66.2, \"Close\": 73.46}, {\"Date\": \"2012-04-01T00:00:00\", \"Open\": 73.62, \"High\": 76.1, \"Low\": 69.11, \"Close\": 70.07}, {\"Date\": \"2012-05-01T00:00:00\", \"Open\": 70.4, \"High\": 70.59, \"Low\": 58.85, \"Close\": 66.02}, {\"Date\": \"2012-06-01T00:00:00\", \"Open\": 65.45, \"High\": 70.6, \"Low\": 62.14, \"Close\": 67.83}, {\"Date\": \"2012-07-01T00:00:00\", \"Open\": 68.15, \"High\": 73.19, \"Low\": 67.57, \"Close\": 72.85}, {\"Date\": \"2012-08-01T00:00:00\", \"Open\": 73.0, \"High\": 74.78, \"Low\": 65.27, \"Close\": 65.97}, {\"Date\": \"2012-09-01T00:00:00\", \"Open\": 66.2, \"High\": 77.69, \"Low\": 64.46, \"Close\": 76.44}, {\"Date\": \"2012-10-01T00:00:00\", \"Open\": 76.4, \"High\": 84.2, \"Low\": 75.6, \"Close\": 82.29}, {\"Date\": \"2012-11-01T00:00:00\", \"Open\": 82.54, \"High\": 89.6, \"Low\": 82.22, \"Close\": 88.48}, {\"Date\": \"2012-12-01T00:00:00\", \"Open\": 89.2, \"High\": 95.0, \"Low\": 88.01, \"Close\": 92.84}, {\"Date\": \"2013-01-01T00:00:00\", \"Open\": 93.2, \"High\": 107.0, \"Low\": 93.2, \"Close\": 104.41}, {\"Date\": \"2013-02-01T00:00:00\", \"Open\": 104.41, \"High\": 107.8, \"Low\": 93.4, \"Close\": 94.5}, {\"Date\": \"2013-03-01T00:00:00\", \"Open\": 94.0, \"High\": 100.15, \"Low\": 83.42, \"Close\": 85.71}, {\"Date\": \"2013-04-01T00:00:00\", \"Open\": 85.7, \"High\": 101.8, \"Low\": 83.43, \"Close\": 100.28}, {\"Date\": \"2013-05-01T00:00:00\", \"Open\": 100.99, \"High\": 109.43, \"Low\": 97.2, \"Close\": 97.49}, {\"Date\": \"2013-06-01T00:00:00\", \"Open\": 99.0, \"High\": 102.94, \"Low\": 87.15, \"Close\": 92.2}, {\"Date\": \"2013-07-01T00:00:00\", \"Open\": 92.4, \"High\": 100.4, \"Low\": 57.71, \"Close\": 64.76}, {\"Date\": \"2013-08-01T00:00:00\", \"Open\": 66.0, \"High\": 67.81, \"Low\": 43.22, \"Close\": 48.65}, {\"Date\": \"2013-09-01T00:00:00\", \"Open\": 49.2, \"High\": 78.94, \"Low\": 44.8, \"Close\": 57.5}, {\"Date\": \"2013-10-01T00:00:00\", \"Open\": 58.0, \"High\": 76.44, \"Low\": 56.08, \"Close\": 73.76}, {\"Date\": \"2013-11-01T00:00:00\", \"Open\": 74.0, \"High\": 77.27, \"Low\": 64.65, \"Close\": 73.74}, {\"Date\": \"2013-12-01T00:00:00\", \"Open\": 74.4, \"High\": 83.0, \"Low\": 71.63, \"Close\": 74.02}, {\"Date\": \"2014-01-01T00:00:00\", \"Open\": 74.74, \"High\": 76.35, \"Low\": 60.8, \"Close\": 61.59}, {\"Date\": \"2014-02-01T00:00:00\", \"Open\": 61.54, \"High\": 62.7, \"Low\": 58.42, \"Close\": 60.95}, {\"Date\": \"2014-03-01T00:00:00\", \"Open\": 60.52, \"High\": 83.36, \"Low\": 60.34, \"Close\": 82.7}, {\"Date\": \"2014-04-01T00:00:00\", \"Open\": 83.45, \"High\": 94.98, \"Low\": 80.8, \"Close\": 88.14}, {\"Date\": \"2014-05-01T00:00:00\", \"Open\": 88.8, \"High\": 117.6, \"Low\": 86.98, \"Close\": 113.89}, {\"Date\": \"2014-06-01T00:00:00\", \"Open\": 114.8, \"High\": 117.57, \"Low\": 101.62, \"Close\": 108.38}, {\"Date\": \"2014-07-01T00:00:00\", \"Open\": 108.43, \"High\": 114.46, \"Low\": 100.44, \"Close\": 108.21}, {\"Date\": \"2014-08-01T00:00:00\", \"Open\": 107.4, \"High\": 118.69, \"Low\": 103.31, \"Close\": 114.33}, {\"Date\": \"2014-09-01T00:00:00\", \"Open\": 114.6, \"High\": 126.85, \"Low\": 107.18, \"Close\": 111.7}, {\"Date\": \"2014-10-01T00:00:00\", \"Open\": 112.1, \"High\": 137.8, \"Low\": 109.2, \"Close\": 136.83}, {\"Date\": \"2014-11-01T00:00:00\", \"Open\": 137.1, \"High\": 143.91, \"Low\": 132.44, \"Close\": 142.08}, {\"Date\": \"2014-12-01T00:00:00\", \"Open\": 142.08, \"High\": 155.0, \"Low\": 134.0, \"Close\": 154.57}, {\"Date\": \"2015-01-01T00:00:00\", \"Open\": 154.4, \"High\": 179.0, \"Low\": 150.47, \"Close\": 172.5}, {\"Date\": \"2015-02-01T00:00:00\", \"Open\": 172.5, \"High\": 173.88, \"Low\": 156.1, \"Close\": 172.55}, {\"Date\": \"2015-03-01T00:00:00\", \"Open\": 174.8, \"High\": 182.0, \"Low\": 156.8, \"Close\": 163.31}, {\"Date\": \"2015-04-01T00:00:00\", \"Open\": 162.8, \"High\": 172.8, \"Low\": 154.53, \"Close\": 167.96}, {\"Date\": \"2015-05-01T00:00:00\", \"Open\": 170.0, \"High\": 176.96, \"Low\": 157.8, \"Close\": 176.52}, {\"Date\": \"2015-06-01T00:00:00\", \"Open\": 177.0, \"High\": 179.4, \"Low\": 158.9, \"Close\": 168.6}, {\"Date\": \"2015-07-01T00:00:00\", \"Open\": 169.0, \"High\": 175.58, \"Low\": 156.45, \"Close\": 165.74}, {\"Date\": \"2015-08-01T00:00:00\", \"Open\": 165.9, \"High\": 169.19, \"Low\": 118.0, \"Close\": 137.9}, {\"Date\": \"2015-09-01T00:00:00\", \"Open\": 135.61, \"High\": 155.5, \"Low\": 127.0, \"Close\": 145.92}, {\"Date\": \"2015-10-01T00:00:00\", \"Open\": 146.96, \"High\": 155.94, \"Low\": 141.73, \"Close\": 151.82}, {\"Date\": \"2015-11-01T00:00:00\", \"Open\": 151.73, \"High\": 157.96, \"Low\": 144.03, \"Close\": 153.3}, {\"Date\": \"2015-12-01T00:00:00\", \"Open\": 153.0, \"High\": 154.52, \"Low\": 133.71, \"Close\": 145.23}, {\"Date\": \"2016-01-01T00:00:00\", \"Open\": 145.0, \"High\": 149.9, \"Low\": 126.45, \"Close\": 149.38}, {\"Date\": \"2016-02-01T00:00:00\", \"Open\": 150.4, \"High\": 157.85, \"Low\": 132.74, \"Close\": 137.67}, {\"Date\": \"2016-03-01T00:00:00\", \"Open\": 138.8, \"High\": 175.12, \"Low\": 138.35, \"Close\": 172.91}, {\"Date\": \"2016-04-01T00:00:00\", \"Open\": 172.02, \"High\": 190.44, \"Low\": 165.33, \"Close\": 188.73}, {\"Date\": \"2016-05-01T00:00:00\", \"Open\": 189.8, \"High\": 209.0, \"Low\": 181.28, \"Close\": 206.39}, {\"Date\": \"2016-06-01T00:00:00\", \"Open\": 206.4, \"High\": 223.0, \"Low\": 201.14, \"Close\": 221.3}, {\"Date\": \"2016-07-01T00:00:00\", \"Open\": 221.96, \"High\": 247.18, \"Low\": 221.35, \"Close\": 243.44}, {\"Date\": \"2016-08-01T00:00:00\", \"Open\": 244.0, \"High\": 275.0, \"Low\": 240.68, \"Close\": 272.56}, {\"Date\": \"2016-09-01T00:00:00\", \"Open\": 273.3, \"High\": 290.0, \"Low\": 231.2, \"Close\": 250.85}, {\"Date\": \"2016-10-01T00:00:00\", \"Open\": 253.41, \"High\": 265.5, \"Low\": 245.8, \"Close\": 253.52}, {\"Date\": \"2016-11-01T00:00:00\", \"Open\": 255.0, \"High\": 262.72, \"Low\": 219.1, \"Close\": 234.28}, {\"Date\": \"2016-12-01T00:00:00\", \"Open\": 235.4, \"High\": 245.0, \"Low\": 218.25, \"Close\": 231.26}, {\"Date\": \"2017-01-01T00:00:00\", \"Open\": 231.98, \"High\": 284.31, \"Low\": 226.3, \"Close\": 279.1}, {\"Date\": \"2017-02-01T00:00:00\", \"Open\": 280.4, \"High\": 294.19, \"Low\": 275.61, \"Close\": 290.56}, {\"Date\": \"2017-03-01T00:00:00\", \"Open\": 290.6, \"High\": 311.57, \"Low\": 283.6, \"Close\": 309.82}, {\"Date\": \"2017-04-01T00:00:00\", \"Open\": 309.6, \"High\": 330.58, \"Low\": 300.2, \"Close\": 326.14}, {\"Date\": \"2017-05-01T00:00:00\", \"Open\": 326.0, \"High\": 330.3, \"Low\": 275.15, \"Close\": 286.38}, {\"Date\": \"2017-06-01T00:00:00\", \"Open\": 286.66, \"High\": 306.34, \"Low\": 280.21, \"Close\": 292.37}, {\"Date\": \"2017-07-01T00:00:00\", \"Open\": 293.04, \"High\": 372.0, \"Low\": 290.78, \"Close\": 361.96}, {\"Date\": \"2017-08-01T00:00:00\", \"Open\": 363.0, \"High\": 368.52, \"Low\": 337.37, \"Close\": 351.15}, {\"Date\": \"2017-09-01T00:00:00\", \"Open\": 351.0, \"High\": 383.25, \"Low\": 345.5, \"Close\": 350.0}, {\"Date\": \"2017-10-01T00:00:00\", \"Open\": 354.6, \"High\": 375.75, \"Low\": 299.0, \"Close\": 314.35}, {\"Date\": \"2017-11-01T00:00:00\", \"Open\": 315.5, \"High\": 329.8, \"Low\": 296.0, \"Close\": 306.8}, {\"Date\": \"2017-12-01T00:00:00\", \"Open\": 307.2, \"High\": 319.0, \"Low\": 300.65, \"Close\": 315.05}, {\"Date\": \"2018-01-01T00:00:00\", \"Open\": 314.0, \"High\": 366.0, \"Low\": 307.35, \"Close\": 354.45}, {\"Date\": \"2018-02-01T00:00:00\", \"Open\": 355.0, \"High\": 366.5, \"Low\": 304.65, \"Close\": 322.25}, {\"Date\": \"2018-03-01T00:00:00\", \"Open\": 320.7, \"High\": 325.8, \"Low\": 285.1, \"Close\": 304.9}, {\"Date\": \"2018-04-01T00:00:00\", \"Open\": 305.0, \"High\": 368.75, \"Low\": 303.3, \"Close\": 362.05}, {\"Date\": \"2018-05-01T00:00:00\", \"Open\": 362.85, \"High\": 364.4, \"Low\": 325.7, \"Close\": 346.2}, {\"Date\": \"2018-06-01T00:00:00\", \"Open\": 348.0, \"High\": 350.1, \"Low\": 327.35, \"Close\": 339.6}, {\"Date\": \"2018-07-01T00:00:00\", \"Open\": 340.0, \"High\": 393.35, \"Low\": 332.45, \"Close\": 367.9}, {\"Date\": \"2018-08-01T00:00:00\", \"Open\": 369.95, \"High\": 404.0, \"Low\": 338.0, \"Close\": 343.4}, {\"Date\": \"2018-09-01T00:00:00\", \"Open\": 347.2, \"High\": 350.0, \"Low\": 166.15, \"Close\": 183.45}, {\"Date\": \"2018-10-01T00:00:00\", \"Open\": 180.0, \"High\": 268.45, \"Low\": 168.6, \"Close\": 188.05}, {\"Date\": \"2018-11-01T00:00:00\", \"Open\": 192.0, \"High\": 231.4, \"Low\": 147.0, \"Close\": 169.65}, {\"Date\": \"2018-12-01T00:00:00\", \"Open\": 174.0, \"High\": 194.3, \"Low\": 160.2, \"Close\": 181.75}, {\"Date\": \"2019-01-01T00:00:00\", \"Open\": 182.85, \"High\": 236.3, \"Low\": 181.15, \"Close\": 194.3}, {\"Date\": \"2019-02-01T00:00:00\", \"Open\": 197.0, \"High\": 236.9, \"Low\": 167.65, \"Close\": 231.2}, {\"Date\": \"2019-03-01T00:00:00\", \"Open\": 234.6, \"High\": 281.3, \"Low\": 228.8, \"Close\": 275.05}, {\"Date\": \"2019-04-01T00:00:00\", \"Open\": 277.0, \"High\": 285.9, \"Low\": 165.3, \"Close\": 168.0}, {\"Date\": \"2019-05-01T00:00:00\", \"Open\": 163.3, \"High\": 178.05, \"Low\": 133.05, \"Close\": 147.95}, {\"Date\": \"2019-06-01T00:00:00\", \"Open\": 147.95, \"High\": 153.8, \"Low\": 98.75, \"Close\": 108.7}, {\"Date\": \"2019-07-01T00:00:00\", \"Open\": 109.6, \"High\": 110.6, \"Low\": 81.75, \"Close\": 91.3}, {\"Date\": \"2019-08-01T00:00:00\", \"Open\": 89.2, \"High\": 92.4, \"Low\": 53.15, \"Close\": 59.5}, {\"Date\": \"2019-09-01T00:00:00\", \"Open\": 59.5, \"High\": 72.55, \"Low\": 40.95, \"Close\": 41.45}, {\"Date\": \"2019-10-01T00:00:00\", \"Open\": 42.0, \"High\": 76.65, \"Low\": 29.05, \"Close\": 70.45}, {\"Date\": \"2019-11-01T00:00:00\", \"Open\": 71.0, \"High\": 75.35, \"Low\": 59.95, \"Close\": 68.3}, {\"Date\": \"2019-12-01T00:00:00\", \"Open\": 70.0, \"High\": 70.5, \"Low\": 40.7, \"Close\": 46.95}, {\"Date\": \"2020-01-01T00:00:00\", \"Open\": 46.9, \"High\": 48.5, \"Low\": 36.55, \"Close\": 39.2}, {\"Date\": \"2020-02-01T00:00:00\", \"Open\": 39.1, \"High\": 40.7, \"Low\": 33.6, \"Close\": 34.55}, {\"Date\": \"2020-03-01T00:00:00\", \"Open\": 35.2, \"High\": 87.95, \"Low\": 5.55, \"Close\": 22.45}, {\"Date\": \"2020-04-01T00:00:00\", \"Open\": 22.3, \"High\": 30.45, \"Low\": 20.3, \"Close\": 27.95}, {\"Date\": \"2020-05-01T00:00:00\", \"Open\": 27.8, \"High\": 31.6, \"Low\": 25.2, \"Close\": 26.85}, {\"Date\": \"2020-06-01T00:00:00\", \"Open\": 27.75, \"High\": 31.95, \"Low\": 25.55, \"Close\": 25.6}, {\"Date\": \"2020-07-01T00:00:00\", \"Open\": 25.6, \"High\": 28.3, \"Low\": 11.1, \"Close\": 11.95}, {\"Date\": \"2020-08-01T00:00:00\", \"Open\": 12.0, \"High\": 17.16, \"Low\": 11.85, \"Close\": 14.37}, {\"Date\": \"2020-09-01T00:00:00\", \"Open\": 14.3, \"High\": 15.34, \"Low\": 12.75, \"Close\": 13.15}, {\"Date\": \"2020-10-01T00:00:00\", \"Open\": 13.3, \"High\": 14.01, \"Low\": 12.11, \"Close\": 12.42}, {\"Date\": \"2020-11-01T00:00:00\", \"Open\": 12.41, \"High\": 14.9, \"Low\": 12.21, \"Close\": 14.67}]}}, {\"mode\": \"vega-lite\"});\n",
              "</script>"
            ],
            "text/plain": [
              "alt.LayerChart(...)"
            ]
          },
          "metadata": {},
          "execution_count": 1141
        }
      ]
    },
    {
      "cell_type": "markdown",
      "source": [
        "##### 1. Why did you pick the specific chart?"
      ],
      "metadata": {
        "id": "ylSl6qgtp1ck"
      }
    },
    {
      "cell_type": "markdown",
      "source": [
        "This chart shows Open, High, Low, and Close (OHLC) prices over time. It is chosen because it's ideal for stock market data to visualize daily volatility and overall price movement."
      ],
      "metadata": {
        "id": "m2xqNkiQp1ck"
      }
    },
    {
      "cell_type": "markdown",
      "source": [
        "##### 2. What is/are the insight(s) found from the chart?"
      ],
      "metadata": {
        "id": "ZWILFDl5p1ck"
      }
    },
    {
      "cell_type": "markdown",
      "source": [
        "Shows how prices rose steadily till 2018 and dropped sharply afterward.\n",
        "\n",
        "High volatility is visible in some regions, indicated by long bars (high difference between high and low)."
      ],
      "metadata": {
        "id": "x-lUsV2mp1ck"
      }
    },
    {
      "cell_type": "markdown",
      "source": [
        "##### 3. Will the gained insights help creating a positive business impact?\n"
      ],
      "metadata": {
        "id": "M7G43BXep1ck"
      }
    },
    {
      "cell_type": "markdown",
      "source": [
        "Yes. It helps investors or financial analysts identify trends and volatility, supporting better entry/exit decisions and portfolio planning."
      ],
      "metadata": {
        "id": "5wwDJXsLp1cl"
      }
    },
    {
      "cell_type": "markdown",
      "source": [
        "#### Chart - 13"
      ],
      "metadata": {
        "id": "Ag9LCva-p1cl"
      }
    },
    {
      "cell_type": "code",
      "source": [
        "# Chart - 13 visualization code\n",
        "\n",
        "# Set 'Date' column as the index for time series operations\n",
        "df.set_index('Date', inplace=True)\n",
        "\n",
        "# Apply a 3-month simple moving average (SMA) to smooth the 'Close' prices\n",
        "df['Close_SMA_3'] = df['Close'].rolling(window=3).mean()\n",
        "\n",
        "# Create a figure with specified size\n",
        "plt.figure(figsize=(10, 5))\n",
        "\n",
        "# Plot the original 'Close' price with some transparency\n",
        "plt.plot(df['Close'], alpha=0.5, label='Original Close')\n",
        "\n",
        "# Plot the smoothed 3-month moving average in red\n",
        "plt.plot(df['Close_SMA_3'], color='red', label='3-Month SMA')\n",
        "\n",
        "# Add title and axis labels\n",
        "plt.title(\"Smoothed vs Raw Close Prices\")\n",
        "plt.xlabel(\"Date\")\n",
        "plt.ylabel(\"Price\")\n",
        "\n",
        "# Display the legend\n",
        "plt.legend()\n",
        "\n",
        "# Add gridlines to improve readability\n",
        "plt.grid(True)\n",
        "\n",
        "# Automatically adjust subplot params to give specified padding\n",
        "plt.tight_layout()\n",
        "\n",
        "# Display the plot\n",
        "plt.show()\n"
      ],
      "metadata": {
        "id": "EUfxeq9-p1cl",
        "colab": {
          "base_uri": "https://localhost:8080/",
          "height": 507
        },
        "outputId": "374644aa-5e86-422e-fd90-a1a862929d51"
      },
      "execution_count": 1142,
      "outputs": [
        {
          "output_type": "display_data",
          "data": {
            "text/plain": [
              "<Figure size 1000x500 with 1 Axes>"
            ],
            "image/png": "[encoded data removed]"
          },
          "metadata": {}
        }
      ]
    },
    {
      "cell_type": "markdown",
      "source": [
        "##### 1. Why did you pick the specific chart?"
      ],
      "metadata": {
        "id": "E6MkPsBcp1cl"
      }
    },
    {
      "cell_type": "markdown",
      "source": [
        "This chart compares original closing prices with a 3-month Simple Moving Average (SMA) to smooth out noise and highlight long-term trends."
      ],
      "metadata": {
        "id": "V22bRsFWp1cl"
      }
    },
    {
      "cell_type": "markdown",
      "source": [
        "##### 2. What is/are the insight(s) found from the chart?"
      ],
      "metadata": {
        "id": "2cELzS2fp1cl"
      }
    },
    {
      "cell_type": "markdown",
      "source": [
        "SMA closely follows raw prices but filters out small fluctuations.\n",
        "\n",
        "Trend till 2018 was upward; after that, a clear downtrend is seen."
      ],
      "metadata": {
        "id": "ozQPc2_Ip1cl"
      }
    },
    {
      "cell_type": "markdown",
      "source": [
        "##### 3. Will the gained insights help creating a positive business impact?\n"
      ],
      "metadata": {
        "id": "3MPXvC8up1cl"
      }
    },
    {
      "cell_type": "markdown",
      "source": [
        "Yes. Businesses and investors can make informed decisions based on trends, reducing the impact of short-term volatility."
      ],
      "metadata": {
        "id": "GL8l1tdLp1cl"
      }
    },
    {
      "cell_type": "markdown",
      "source": [
        "#### Chart - 14 - Correlation Heatmap"
      ],
      "metadata": {
        "id": "NC_X3p0fY2L0"
      }
    },
    {
      "cell_type": "code",
      "source": [
        "# # Compute the correlation matrix for numerical columns\n",
        "\n",
        "numeric_df = df[['Open', 'High', 'Low', 'Close']]\n",
        "\n",
        "# Calculate correlation matrix\n",
        "corr = numeric_df.corr()\n",
        "\n",
        "# Plot heatmap\n",
        "plt.figure(figsize=(8, 6))\n",
        "sns.heatmap(corr, annot=True, fmt=\".2f\", cmap='coolwarm', square=True)\n",
        "plt.title(\"Feature Correlation Heatmap\")\n",
        "plt.show()\n",
        "\n",
        "\n"
      ],
      "metadata": {
        "id": "xyC9zolEZNRQ",
        "colab": {
          "base_uri": "https://localhost:8080/",
          "height": 545
        },
        "outputId": "080e0b18-60c8-462e-8a28-e3ad7fd4e9cb"
      },
      "execution_count": 1143,
      "outputs": [
        {
          "output_type": "display_data",
          "data": {
            "text/plain": [
              "<Figure size 800x600 with 2 Axes>"
            ],
            "image/png": "[encoded data removed]"
          },
          "metadata": {}
        }
      ]
    },
    {
      "cell_type": "markdown",
      "source": [
        "##### 1. Why did you pick the specific chart?"
      ],
      "metadata": {
        "id": "UV0SzAkaZNRQ"
      }
    },
    {
      "cell_type": "markdown",
      "source": [
        "This heatmap is chosen to visually understand how strongly features are correlated with one another."
      ],
      "metadata": {
        "id": "DVPuT8LYZNRQ"
      }
    },
    {
      "cell_type": "markdown",
      "source": [
        "##### 2. What is/are the insight(s) found from the chart?"
      ],
      "metadata": {
        "id": "YPEH6qLeZNRQ"
      }
    },
    {
      "cell_type": "markdown",
      "source": [
        "Open, High, Low, and Close are highly positively correlated (correlation ~0.98–1.00).\n",
        "\n",
        "Suggests they contain similar information — could indicate redundancy in features."
      ],
      "metadata": {
        "id": "bfSqtnDqZNRR"
      }
    },
    {
      "cell_type": "markdown",
      "source": [
        "#### Chart - 15 - Pair Plot"
      ],
      "metadata": {
        "id": "q29F0dvdveiT"
      }
    },
    {
      "cell_type": "code",
      "source": [
        "# Pair Plot visualization code\n",
        "df_plot = df.reset_index()[['Open', 'High', 'Low', 'Close']]\n",
        "\n",
        "# Create the pair plot\n",
        "sns.pairplot(df_plot, corner=True, diag_kind='kde')\n",
        "\n",
        "\n",
        "# Show the plot\n",
        "plt.suptitle(\"Pair Plot of Stock Price Features\", y=1.02)\n",
        "plt.tight_layout()\n",
        "plt.show()"
      ],
      "metadata": {
        "id": "o58-TEIhveiU",
        "colab": {
          "base_uri": "https://localhost:8080/",
          "height": 1000
        },
        "outputId": "3be07186-715f-4e97-872f-b41bb7bba514"
      },
      "execution_count": 1144,
      "outputs": [
        {
          "output_type": "display_data",
          "data": {
            "text/plain": [
              "<Figure size 1000x1000 with 14 Axes>"
            ],
            "image/png": "[encoded data removed]"
          },
          "metadata": {}
        }
      ]
    },
    {
      "cell_type": "markdown",
      "source": [
        "## ***5. Hypothesis Testing***"
      ],
      "metadata": {
        "id": "g-ATYxFrGrvw"
      }
    },
    {
      "cell_type": "markdown",
      "source": [
        "### Based on your chart experiments, define three hypothetical statements from the dataset. In the next three questions, perform hypothesis testing to obtain final conclusion about the statements through your code and statistical testing."
      ],
      "metadata": {
        "id": "Yfr_Vlr8HBkt"
      }
    },
    {
      "cell_type": "markdown",
      "source": [
        "### Hypothetical Statement - 1"
      ],
      "metadata": {
        "id": "8yEUt7NnHlrM"
      }
    },
    {
      "cell_type": "markdown",
      "source": [
        "#### 1. State Your research hypothesis as a null hypothesis and alternate hypothesis."
      ],
      "metadata": {
        "id": "tEA2Xm5dHt1r"
      }
    },
    {
      "cell_type": "markdown",
      "source": [
        "\"Stock prices exhibit significantly different behavior before and after 2018 (pre-crash vs post-crash periods)\"\n",
        "\n",
        "Null Hypothesis (H₀): There is no significant difference in mean stock prices between pre-2018 and post-2018 periods\n",
        "\n",
        "Alternative Hypothesis (H₁): There is a significant difference in mean stock prices between pre-2018 and post-2018 periods"
      ],
      "metadata": {
        "id": "HI9ZP0laH0D-"
      }
    },
    {
      "cell_type": "markdown",
      "source": [
        "#### 2. Perform an appropriate statistical test."
      ],
      "metadata": {
        "id": "I79__PHVH19G"
      }
    },
    {
      "cell_type": "code",
      "source": [
        "df.reset_index(inplace=True)"
      ],
      "metadata": {
        "id": "WVOcFWjdopk4"
      },
      "execution_count": 1145,
      "outputs": []
    },
    {
      "cell_type": "code",
      "source": [
        "# Perform Statistical Test to obtain P-Value\n",
        "import pandas as pd\n",
        "import numpy as np\n",
        "from scipy import stats\n",
        "\n",
        "# Split data into pre-2018 and post-2018\n",
        "df['Year'] = pd.to_datetime(df['Date']).dt.year\n",
        "pre_2018 = df[df['Year'] < 2018]['Close']\n",
        "post_2018 = df[df['Year'] >= 2018]['Close']\n",
        "\n",
        "# Perform independent t-test\n",
        "t_stat, p_value = stats.ttest_ind(pre_2018, post_2018)\n",
        "\n",
        "print(f\"T-statistic: {t_stat:.4f}\")\n",
        "print(f\"P-value: {p_value:.4f}\")\n",
        "print(f\"Alpha level: 0.05\")\n",
        "\n",
        "if p_value < 0.05:\n",
        "    print(\"Reject H₀: Significant difference exists\")\n",
        "else:\n",
        "    print(\"Fail to reject H₀: No significant difference\")\n"
      ],
      "metadata": {
        "id": "oZrfquKtyian",
        "colab": {
          "base_uri": "https://localhost:8080/"
        },
        "outputId": "4d3e14f5-cc4c-47e3-e7f9-1c67a2d09c80"
      },
      "execution_count": 1146,
      "outputs": [
        {
          "output_type": "stream",
          "name": "stdout",
          "text": [
            "T-statistic: -2.9704\n",
            "P-value: 0.0034\n",
            "Alpha level: 0.05\n",
            "Reject H₀: Significant difference exists\n"
          ]
        }
      ]
    },
    {
      "cell_type": "markdown",
      "source": [
        "##### Which statistical test have you done to obtain P-Value?"
      ],
      "metadata": {
        "id": "Ou-I18pAyIpj"
      }
    },
    {
      "cell_type": "markdown",
      "source": [
        "Independent Samples T-Test"
      ],
      "metadata": {
        "id": "s2U0kk00ygSB"
      }
    },
    {
      "cell_type": "markdown",
      "source": [
        "##### Why did you choose the specific statistical test?"
      ],
      "metadata": {
        "id": "fF3858GYyt-u"
      }
    },
    {
      "cell_type": "markdown",
      "source": [
        "Because we are comparing means of two independent groups (pre-2018 vs post-2018 periods) to determine if there's a significant difference between them."
      ],
      "metadata": {
        "id": "HO4K0gP5y3B4"
      }
    },
    {
      "cell_type": "markdown",
      "source": [
        "### Hypothetical Statement - 2"
      ],
      "metadata": {
        "id": "4_0_7-oCpUZd"
      }
    },
    {
      "cell_type": "markdown",
      "source": [
        "#### 1. State Your research hypothesis as a null hypothesis and alternate hypothesis."
      ],
      "metadata": {
        "id": "hwyV_J3ipUZe"
      }
    },
    {
      "cell_type": "markdown",
      "source": [
        "\"The correlation between Open and Close prices is significantly strong (greater than 0.8)\"\n",
        "\n",
        "1. State Your Research Hypothesis:\n",
        "Null Hypothesis (H₀): The correlation coefficient between Open and Close prices ≤ 0.8\n",
        "\n",
        "Alternative Hypothesis (H₁): The correlation coefficient between Open and Close prices > 0.8"
      ],
      "metadata": {
        "id": "FnpLGJ-4pUZe"
      }
    },
    {
      "cell_type": "markdown",
      "source": [
        "#### 2. Perform an appropriate statistical test."
      ],
      "metadata": {
        "id": "3yB-zSqbpUZe"
      }
    },
    {
      "cell_type": "code",
      "source": [
        "# Perform Statistical Test to obtain P-Value\n",
        "from scipy.stats import pearsonr\n",
        "\n",
        "# Calculate correlation\n",
        "correlation, p_value = pearsonr(df['Open'], df['Close'])\n",
        "\n",
        "# One-tailed test for correlation > 0.8\n",
        "# Using Fisher's z-transformation for hypothesis testing about correlation\n",
        "n = len(df)\n",
        "z_score = (np.arctanh(correlation) - np.arctanh(0.8)) * np.sqrt(n - 3)\n",
        "p_value_one_tail = 1 - stats.norm.cdf(z_score)\n",
        "\n",
        "print(f\"Correlation coefficient: {correlation:.4f}\")\n",
        "print(f\"P-value (one-tailed): {p_value_one_tail:.4f}\")\n",
        "\n",
        "if p_value_one_tail < 0.05:\n",
        "    print(\"Reject H₀: Correlation is significantly > 0.8\")\n",
        "else:\n",
        "    print(\"Fail to reject H₀: Correlation is not significantly > 0.8\")\n"
      ],
      "metadata": {
        "id": "sWxdNTXNpUZe",
        "colab": {
          "base_uri": "https://localhost:8080/"
        },
        "outputId": "9e129c14-109e-443e-f686-9ee39e31fa70"
      },
      "execution_count": 1147,
      "outputs": [
        {
          "output_type": "stream",
          "name": "stdout",
          "text": [
            "Correlation coefficient: 0.9780\n",
            "P-value (one-tailed): 0.0000\n",
            "Reject H₀: Correlation is significantly > 0.8\n"
          ]
        }
      ]
    },
    {
      "cell_type": "markdown",
      "source": [
        "##### Which statistical test have you done to obtain P-Value?"
      ],
      "metadata": {
        "id": "dEUvejAfpUZe"
      }
    },
    {
      "cell_type": "markdown",
      "source": [
        "Fisher's Z-transformation test for correlation"
      ],
      "metadata": {
        "id": "oLDrPz7HpUZf"
      }
    },
    {
      "cell_type": "markdown",
      "source": [
        "##### Why did you choose the specific statistical test?"
      ],
      "metadata": {
        "id": "Fd15vwWVpUZf"
      }
    },
    {
      "cell_type": "markdown",
      "source": [
        "To test if a correlation coefficient is significantly different from a specific value (0.8)"
      ],
      "metadata": {
        "id": "4xOGYyiBpUZf"
      }
    },
    {
      "cell_type": "markdown",
      "source": [
        "### Hypothetical Statement - 3"
      ],
      "metadata": {
        "id": "bn_IUdTipZyH"
      }
    },
    {
      "cell_type": "markdown",
      "source": [
        "#### 1. State Your research hypothesis as a null hypothesis and alternate hypothesis."
      ],
      "metadata": {
        "id": "49K5P_iCpZyH"
      }
    },
    {
      "cell_type": "markdown",
      "source": [
        "\"Stock price volatility (measured by standard deviation) increased significantly after 2018\"\n",
        "\n",
        "1. State Your Research Hypothesis:\n",
        "Null Hypothesis (H₀): Variance of stock prices pre-2018 = Variance of stock prices post-2018\n",
        "\n",
        "Alternative Hypothesis (H₁): Variance of stock prices post-2018 > Variance of stock prices pre-2018"
      ],
      "metadata": {
        "id": "7gWI5rT9pZyH"
      }
    },
    {
      "cell_type": "markdown",
      "source": [
        "#### 2. Perform an appropriate statistical test."
      ],
      "metadata": {
        "id": "Nff-vKELpZyI"
      }
    },
    {
      "cell_type": "code",
      "source": [
        "# Perform Statistical Test to obtain P-Value\n",
        "from scipy.stats import levene, bartlett\n",
        "\n",
        "# Calculate variances\n",
        "var_pre = np.var(pre_2018, ddof=1)\n",
        "var_post = np.var(post_2018, ddof=1)\n",
        "\n",
        "# Perform Levene's test for equality of variances\n",
        "levene_stat, levene_p = levene(pre_2018, post_2018)\n",
        "\n",
        "# F-test for variance comparison\n",
        "f_stat = var_post / var_pre if var_post > var_pre else var_pre / var_post\n",
        "df1, df2 = len(post_2018) - 1, len(pre_2018) - 1\n",
        "f_p_value = 1 - stats.f.cdf(f_stat, df1, df2)\n",
        "\n",
        "print(f\"Pre-2018 variance: {var_pre:.4f}\")\n",
        "print(f\"Post-2018 variance: {var_post:.4f}\")\n",
        "print(f\"F-statistic: {f_stat:.4f}\")\n",
        "print(f\"P-value: {f_p_value:.4f}\")\n",
        "\n",
        "if f_p_value < 0.05:\n",
        "    print(\"Reject H₀: Significant difference in volatility\")\n",
        "else:\n",
        "    print(\"Fail to reject H₀: No significant difference in volatility\")\n"
      ],
      "metadata": {
        "id": "s6AnJQjtpZyI",
        "colab": {
          "base_uri": "https://localhost:8080/"
        },
        "outputId": "09d162ee-4bdc-4f17-b05b-7fe8eb4cd439"
      },
      "execution_count": 1148,
      "outputs": [
        {
          "output_type": "stream",
          "name": "stdout",
          "text": [
            "Pre-2018 variance: 7706.0609\n",
            "Post-2018 variance: 16405.1474\n",
            "F-statistic: 2.1289\n",
            "P-value: 0.0011\n",
            "Reject H₀: Significant difference in volatility\n"
          ]
        }
      ]
    },
    {
      "cell_type": "markdown",
      "source": [
        "##### Which statistical test have you done to obtain P-Value?"
      ],
      "metadata": {
        "id": "kLW572S8pZyI"
      }
    },
    {
      "cell_type": "markdown",
      "source": [
        "F-test for equality of variances"
      ],
      "metadata": {
        "id": "ytWJ8v15pZyI"
      }
    },
    {
      "cell_type": "markdown",
      "source": [
        "##### Why did you choose the specific statistical test?"
      ],
      "metadata": {
        "id": "dWbDXHzopZyI"
      }
    },
    {
      "cell_type": "markdown",
      "source": [
        "To compare the variability (volatility) between two groups and determine if one period had significantly higher variance than the other"
      ],
      "metadata": {
        "id": "M99G98V6pZyI"
      }
    },
    {
      "cell_type": "markdown",
      "source": [
        "### ML Model - 1"
      ],
      "metadata": {
        "id": "OB4l2ZhMeS1U"
      }
    },
    {
      "cell_type": "code",
      "source": [
        "#df.reset_index(inplace=True)\n"
      ],
      "metadata": {
        "id": "fWZBsBdTNR5W"
      },
      "execution_count": 1149,
      "outputs": []
    },
    {
      "cell_type": "code",
      "source": [
        "df.columns"
      ],
      "metadata": {
        "colab": {
          "base_uri": "https://localhost:8080/"
        },
        "id": "XtWx71AMNTIF",
        "outputId": "9b59df53-4f1e-47c5-8cb9-ef4d0d39a1aa"
      },
      "execution_count": 1150,
      "outputs": [
        {
          "output_type": "execute_result",
          "data": {
            "text/plain": [
              "Index(['Date', 'Open', 'High', 'Low', 'Close', 'Close_SMA_3', 'Year'], dtype='object')"
            ]
          },
          "metadata": {},
          "execution_count": 1150
        }
      ]
    },
    {
      "cell_type": "code",
      "source": [
        "df['Year'] = df['Date'].dt.year\n",
        "df['Month'] = df['Date'].dt.month\n",
        "df['Day'] = df['Date'].dt.day\n",
        "\n",
        "missing_values = df.isnull().sum()\n",
        "display(\"Missing values per column:\", missing_values)"
      ],
      "metadata": {
        "colab": {
          "base_uri": "https://localhost:8080/",
          "height": 385
        },
        "id": "Dq9y5YwUH1zJ",
        "outputId": "9293b8bf-63f1-4d9b-cebc-b65c88f9481d"
      },
      "execution_count": 1151,
      "outputs": [
        {
          "output_type": "display_data",
          "data": {
            "text/plain": [
              "'Missing values per column:'"
            ],
            "application/vnd.google.colaboratory.intrinsic+json": {
              "type": "string"
            }
          },
          "metadata": {}
        },
        {
          "output_type": "display_data",
          "data": {
            "text/plain": [
              "Date           0\n",
              "Open           0\n",
              "High           0\n",
              "Low            0\n",
              "Close          0\n",
              "Close_SMA_3    2\n",
              "Year           0\n",
              "Month          0\n",
              "Day            0\n",
              "dtype: int64"
            ],
            "text/html": [
              "<div>\n",
              "<style scoped>\n",
              "    .dataframe tbody tr th:only-of-type {\n",
              "        vertical-align: middle;\n",
              "    }\n",
              "\n",
              "    .dataframe tbody tr th {\n",
              "        vertical-align: top;\n",
              "    }\n",
              "\n",
              "    .dataframe thead th {\n",
              "        text-align: right;\n",
              "    }\n",
              "</style>\n",
              "<table border=\"1\" class=\"dataframe\">\n",
              "  <thead>\n",
              "    <tr style=\"text-align: right;\">\n",
              "      <th></th>\n",
              "      <th>0</th>\n",
              "    </tr>\n",
              "  </thead>\n",
              "  <tbody>\n",
              "    <tr>\n",
              "      <th>Date</th>\n",
              "      <td>0</td>\n",
              "    </tr>\n",
              "    <tr>\n",
              "      <th>Open</th>\n",
              "      <td>0</td>\n",
              "    </tr>\n",
              "    <tr>\n",
              "      <th>High</th>\n",
              "      <td>0</td>\n",
              "    </tr>\n",
              "    <tr>\n",
              "      <th>Low</th>\n",
              "      <td>0</td>\n",
              "    </tr>\n",
              "    <tr>\n",
              "      <th>Close</th>\n",
              "      <td>0</td>\n",
              "    </tr>\n",
              "    <tr>\n",
              "      <th>Close_SMA_3</th>\n",
              "      <td>2</td>\n",
              "    </tr>\n",
              "    <tr>\n",
              "      <th>Year</th>\n",
              "      <td>0</td>\n",
              "    </tr>\n",
              "    <tr>\n",
              "      <th>Month</th>\n",
              "      <td>0</td>\n",
              "    </tr>\n",
              "    <tr>\n",
              "      <th>Day</th>\n",
              "      <td>0</td>\n",
              "    </tr>\n",
              "  </tbody>\n",
              "</table>\n",
              "</div><br><label><b>dtype:</b> int64</label>"
            ]
          },
          "metadata": {}
        }
      ]
    },
    {
      "cell_type": "code",
      "source": [
        "df.columns"
      ],
      "metadata": {
        "colab": {
          "base_uri": "https://localhost:8080/"
        },
        "id": "7nV1UFO1J-d9",
        "outputId": "9484f532-5633-49b5-f48c-784f756b37c7"
      },
      "execution_count": 1152,
      "outputs": [
        {
          "output_type": "execute_result",
          "data": {
            "text/plain": [
              "Index(['Date', 'Open', 'High', 'Low', 'Close', 'Close_SMA_3', 'Year', 'Month',\n",
              "       'Day'],\n",
              "      dtype='object')"
            ]
          },
          "metadata": {},
          "execution_count": 1152
        }
      ]
    },
    {
      "cell_type": "code",
      "source": [
        "#Create lag features and rolling means for the 'Close' price and display the updated DataFrame.\n",
        "df['Close_Lag1'] = df['Close'].shift(1)\n",
        "df['Rolling_Mean_3'] = df['Close'].rolling(window=3).mean()\n",
        "df.dropna(subset=['Close_Lag1', 'Rolling_Mean_3'], inplace=True)\n",
        "display(df.head())"
      ],
      "metadata": {
        "colab": {
          "base_uri": "https://localhost:8080/",
          "height": 206
        },
        "id": "_KNIe2xtL3g9",
        "outputId": "196d89dd-7fea-4295-b452-1fdfa8b7c1bd"
      },
      "execution_count": 1153,
      "outputs": [
        {
          "output_type": "display_data",
          "data": {
            "text/plain": [
              "        Date   Open   High    Low  Close  Close_SMA_3  Year  Month  Day  \\\n",
              "2 2005-09-01  13.48  14.87  12.27  13.30    13.060000  2005      9    1   \n",
              "3 2005-10-01  13.20  14.47  12.40  12.99    13.236667  2005     10    1   \n",
              "4 2005-11-01  13.35  13.88  12.88  13.41    13.233333  2005     11    1   \n",
              "5 2005-12-01  13.49  14.44  13.00  13.71    13.370000  2005     12    1   \n",
              "6 2006-01-01  13.68  17.16  13.58  15.33    14.150000  2006      1    1   \n",
              "\n",
              "   Close_Lag1  Rolling_Mean_3  \n",
              "2       13.42       13.060000  \n",
              "3       13.30       13.236667  \n",
              "4       12.99       13.233333  \n",
              "5       13.41       13.370000  \n",
              "6       13.71       14.150000  "
            ],
            "text/html": [
              "\n",
              "  <div id=\"df-a2eb85c7-0f4f-4d38-a70a-f47b38d70cd6\" class=\"colab-df-container\">\n",
              "    <div>\n",
              "<style scoped>\n",
              "    .dataframe tbody tr th:only-of-type {\n",
              "        vertical-align: middle;\n",
              "    }\n",
              "\n",
              "    .dataframe tbody tr th {\n",
              "        vertical-align: top;\n",
              "    }\n",
              "\n",
              "    .dataframe thead th {\n",
              "        text-align: right;\n",
              "    }\n",
              "</style>\n",
              "<table border=\"1\" class=\"dataframe\">\n",
              "  <thead>\n",
              "    <tr style=\"text-align: right;\">\n",
              "      <th></th>\n",
              "      <th>Date</th>\n",
              "      <th>Open</th>\n",
              "      <th>High</th>\n",
              "      <th>Low</th>\n",
              "      <th>Close</th>\n",
              "      <th>Close_SMA_3</th>\n",
              "      <th>Year</th>\n",
              "      <th>Month</th>\n",
              "      <th>Day</th>\n",
              "      <th>Close_Lag1</th>\n",
              "      <th>Rolling_Mean_3</th>\n",
              "    </tr>\n",
              "  </thead>\n",
              "  <tbody>\n",
              "    <tr>\n",
              "      <th>2</th>\n",
              "      <td>2005-09-01</td>\n",
              "      <td>13.48</td>\n",
              "      <td>14.87</td>\n",
              "      <td>12.27</td>\n",
              "      <td>13.30</td>\n",
              "      <td>13.060000</td>\n",
              "      <td>2005</td>\n",
              "      <td>9</td>\n",
              "      <td>1</td>\n",
              "      <td>13.42</td>\n",
              "      <td>13.060000</td>\n",
              "    </tr>\n",
              "    <tr>\n",
              "      <th>3</th>\n",
              "      <td>2005-10-01</td>\n",
              "      <td>13.20</td>\n",
              "      <td>14.47</td>\n",
              "      <td>12.40</td>\n",
              "      <td>12.99</td>\n",
              "      <td>13.236667</td>\n",
              "      <td>2005</td>\n",
              "      <td>10</td>\n",
              "      <td>1</td>\n",
              "      <td>13.30</td>\n",
              "      <td>13.236667</td>\n",
              "    </tr>\n",
              "    <tr>\n",
              "      <th>4</th>\n",
              "      <td>2005-11-01</td>\n",
              "      <td>13.35</td>\n",
              "      <td>13.88</td>\n",
              "      <td>12.88</td>\n",
              "      <td>13.41</td>\n",
              "      <td>13.233333</td>\n",
              "      <td>2005</td>\n",
              "      <td>11</td>\n",
              "      <td>1</td>\n",
              "      <td>12.99</td>\n",
              "      <td>13.233333</td>\n",
              "    </tr>\n",
              "    <tr>\n",
              "      <th>5</th>\n",
              "      <td>2005-12-01</td>\n",
              "      <td>13.49</td>\n",
              "      <td>14.44</td>\n",
              "      <td>13.00</td>\n",
              "      <td>13.71</td>\n",
              "      <td>13.370000</td>\n",
              "      <td>2005</td>\n",
              "      <td>12</td>\n",
              "      <td>1</td>\n",
              "      <td>13.41</td>\n",
              "      <td>13.370000</td>\n",
              "    </tr>\n",
              "    <tr>\n",
              "      <th>6</th>\n",
              "      <td>2006-01-01</td>\n",
              "      <td>13.68</td>\n",
              "      <td>17.16</td>\n",
              "      <td>13.58</td>\n",
              "      <td>15.33</td>\n",
              "      <td>14.150000</td>\n",
              "      <td>2006</td>\n",
              "      <td>1</td>\n",
              "      <td>1</td>\n",
              "      <td>13.71</td>\n",
              "      <td>14.150000</td>\n",
              "    </tr>\n",
              "  </tbody>\n",
              "</table>\n",
              "</div>\n",
              "    <div class=\"colab-df-buttons\">\n",
              "\n",
              "  <div class=\"colab-df-container\">\n",
              "    <button class=\"colab-df-convert\" onclick=\"convertToInteractive('df-a2eb85c7-0f4f-4d38-a70a-f47b38d70cd6')\"\n",
              "            title=\"Convert this dataframe to an interactive table.\"\n",
              "            style=\"display:none;\">\n",
              "\n",
              "  <svg xmlns=\"http://www.w3.org/2000/svg\" height=\"24px\" viewBox=\"0 -960 960 960\">\n",
              "    <path d=\"M120-120v-720h720v720H120Zm60-500h600v-160H180v160Zm220 220h160v-160H400v160Zm0 220h160v-160H400v160ZM180-400h160v-160H180v160Zm440 0h160v-160H620v160ZM180-180h160v-160H180v160Zm440 0h160v-160H620v160Z\"/>\n",
              "  </svg>\n",
              "    </button>\n",
              "\n",
              "  <style>\n",
              "    .colab-df-container {\n",
              "      display:flex;\n",
              "      gap: 12px;\n",
              "    }\n",
              "\n",
              "    .colab-df-convert {\n",
              "      background-color: #E8F0FE;\n",
              "      border: none;\n",
              "      border-radius: 50%;\n",
              "      cursor: pointer;\n",
              "      display: none;\n",
              "      fill: #1967D2;\n",
              "      height: 32px;\n",
              "      padding: 0 0 0 0;\n",
              "      width: 32px;\n",
              "    }\n",
              "\n",
              "    .colab-df-convert:hover {\n",
              "      background-color: #E2EBFA;\n",
              "      box-shadow: 0px 1px 2px rgba(60, 64, 67, 0.3), 0px 1px 3px 1px rgba(60, 64, 67, 0.15);\n",
              "      fill: #174EA6;\n",
              "    }\n",
              "\n",
              "    .colab-df-buttons div {\n",
              "      margin-bottom: 4px;\n",
              "    }\n",
              "\n",
              "    [theme=dark] .colab-df-convert {\n",
              "      background-color: #3B4455;\n",
              "      fill: #D2E3FC;\n",
              "    }\n",
              "\n",
              "    [theme=dark] .colab-df-convert:hover {\n",
              "      background-color: #434B5C;\n",
              "      box-shadow: 0px 1px 3px 1px rgba(0, 0, 0, 0.15);\n",
              "      filter: drop-shadow(0px 1px 2px rgba(0, 0, 0, 0.3));\n",
              "      fill: #FFFFFF;\n",
              "    }\n",
              "  </style>\n",
              "\n",
              "    <script>\n",
              "      const buttonEl =\n",
              "        document.querySelector('#df-a2eb85c7-0f4f-4d38-a70a-f47b38d70cd6 button.colab-df-convert');\n",
              "      buttonEl.style.display =\n",
              "        google.colab.kernel.accessAllowed ? 'block' : 'none';\n",
              "\n",
              "      async function convertToInteractive(key) {\n",
              "        const element = document.querySelector('#df-a2eb85c7-0f4f-4d38-a70a-f47b38d70cd6');\n",
              "        const dataTable =\n",
              "          await google.colab.kernel.invokeFunction('convertToInteractive',\n",
              "                                                    [key], {});\n",
              "        if (!dataTable) return;\n",
              "\n",
              "        const docLinkHtml = 'Like what you see? Visit the ' +\n",
              "          '<a target=\"_blank\" href=https://colab.research.google.com/notebooks/data_table.ipynb>data table notebook</a>'\n",
              "          + ' to learn more about interactive tables.';\n",
              "        element.innerHTML = '';\n",
              "        dataTable['output_type'] = 'display_data';\n",
              "        await google.colab.output.renderOutput(dataTable, element);\n",
              "        const docLink = document.createElement('div');\n",
              "        docLink.innerHTML = docLinkHtml;\n",
              "        element.appendChild(docLink);\n",
              "      }\n",
              "    </script>\n",
              "  </div>\n",
              "\n",
              "\n",
              "    <div id=\"df-b8d6b813-a622-46c0-9b0e-0f8ba4b8f25b\">\n",
              "      <button class=\"colab-df-quickchart\" onclick=\"quickchart('df-b8d6b813-a622-46c0-9b0e-0f8ba4b8f25b')\"\n",
              "                title=\"Suggest charts\"\n",
              "                style=\"display:none;\">\n",
              "\n",
              "<svg xmlns=\"http://www.w3.org/2000/svg\" height=\"24px\"viewBox=\"0 0 24 24\"\n",
              "     width=\"24px\">\n",
              "    <g>\n",
              "        <path d=\"M19 3H5c-1.1 0-2 .9-2 2v14c0 1.1.9 2 2 2h14c1.1 0 2-.9 2-2V5c0-1.1-.9-2-2-2zM9 17H7v-7h2v7zm4 0h-2V7h2v10zm4 0h-2v-4h2v4z\"/>\n",
              "    </g>\n",
              "</svg>\n",
              "      </button>\n",
              "\n",
              "<style>\n",
              "  .colab-df-quickchart {\n",
              "      --bg-color: #E8F0FE;\n",
              "      --fill-color: #1967D2;\n",
              "      --hover-bg-color: #E2EBFA;\n",
              "      --hover-fill-color: #174EA6;\n",
              "      --disabled-fill-color: #AAA;\n",
              "      --disabled-bg-color: #DDD;\n",
              "  }\n",
              "\n",
              "  [theme=dark] .colab-df-quickchart {\n",
              "      --bg-color: #3B4455;\n",
              "      --fill-color: #D2E3FC;\n",
              "      --hover-bg-color: #434B5C;\n",
              "      --hover-fill-color: #FFFFFF;\n",
              "      --disabled-bg-color: #3B4455;\n",
              "      --disabled-fill-color: #666;\n",
              "  }\n",
              "\n",
              "  .colab-df-quickchart {\n",
              "    background-color: var(--bg-color);\n",
              "    border: none;\n",
              "    border-radius: 50%;\n",
              "    cursor: pointer;\n",
              "    display: none;\n",
              "    fill: var(--fill-color);\n",
              "    height: 32px;\n",
              "    padding: 0;\n",
              "    width: 32px;\n",
              "  }\n",
              "\n",
              "  .colab-df-quickchart:hover {\n",
              "    background-color: var(--hover-bg-color);\n",
              "    box-shadow: 0 1px 2px rgba(60, 64, 67, 0.3), 0 1px 3px 1px rgba(60, 64, 67, 0.15);\n",
              "    fill: var(--button-hover-fill-color);\n",
              "  }\n",
              "\n",
              "  .colab-df-quickchart-complete:disabled,\n",
              "  .colab-df-quickchart-complete:disabled:hover {\n",
              "    background-color: var(--disabled-bg-color);\n",
              "    fill: var(--disabled-fill-color);\n",
              "    box-shadow: none;\n",
              "  }\n",
              "\n",
              "  .colab-df-spinner {\n",
              "    border: 2px solid var(--fill-color);\n",
              "    border-color: transparent;\n",
              "    border-bottom-color: var(--fill-color);\n",
              "    animation:\n",
              "      spin 1s steps(1) infinite;\n",
              "  }\n",
              "\n",
              "  @keyframes spin {\n",
              "    0% {\n",
              "      border-color: transparent;\n",
              "      border-bottom-color: var(--fill-color);\n",
              "      border-left-color: var(--fill-color);\n",
              "    }\n",
              "    20% {\n",
              "      border-color: transparent;\n",
              "      border-left-color: var(--fill-color);\n",
              "      border-top-color: var(--fill-color);\n",
              "    }\n",
              "    30% {\n",
              "      border-color: transparent;\n",
              "      border-left-color: var(--fill-color);\n",
              "      border-top-color: var(--fill-color);\n",
              "      border-right-color: var(--fill-color);\n",
              "    }\n",
              "    40% {\n",
              "      border-color: transparent;\n",
              "      border-right-color: var(--fill-color);\n",
              "      border-top-color: var(--fill-color);\n",
              "    }\n",
              "    60% {\n",
              "      border-color: transparent;\n",
              "      border-right-color: var(--fill-color);\n",
              "    }\n",
              "    80% {\n",
              "      border-color: transparent;\n",
              "      border-right-color: var(--fill-color);\n",
              "      border-bottom-color: var(--fill-color);\n",
              "    }\n",
              "    90% {\n",
              "      border-color: transparent;\n",
              "      border-bottom-color: var(--fill-color);\n",
              "    }\n",
              "  }\n",
              "</style>\n",
              "\n",
              "      <script>\n",
              "        async function quickchart(key) {\n",
              "          const quickchartButtonEl =\n",
              "            document.querySelector('#' + key + ' button');\n",
              "          quickchartButtonEl.disabled = true;  // To prevent multiple clicks.\n",
              "          quickchartButtonEl.classList.add('colab-df-spinner');\n",
              "          try {\n",
              "            const charts = await google.colab.kernel.invokeFunction(\n",
              "                'suggestCharts', [key], {});\n",
              "          } catch (error) {\n",
              "            console.error('Error during call to suggestCharts:', error);\n",
              "          }\n",
              "          quickchartButtonEl.classList.remove('colab-df-spinner');\n",
              "          quickchartButtonEl.classList.add('colab-df-quickchart-complete');\n",
              "        }\n",
              "        (() => {\n",
              "          let quickchartButtonEl =\n",
              "            document.querySelector('#df-b8d6b813-a622-46c0-9b0e-0f8ba4b8f25b button');\n",
              "          quickchartButtonEl.style.display =\n",
              "            google.colab.kernel.accessAllowed ? 'block' : 'none';\n",
              "        })();\n",
              "      </script>\n",
              "    </div>\n",
              "\n",
              "    </div>\n",
              "  </div>\n"
            ],
            "application/vnd.google.colaboratory.intrinsic+json": {
              "type": "dataframe",
              "summary": "{\n  \"name\": \"display(df\",\n  \"rows\": 5,\n  \"fields\": [\n    {\n      \"column\": \"Date\",\n      \"properties\": {\n        \"dtype\": \"date\",\n        \"min\": \"2005-09-01 00:00:00\",\n        \"max\": \"2006-01-01 00:00:00\",\n        \"num_unique_values\": 5,\n        \"samples\": [\n          \"2005-10-01 00:00:00\",\n          \"2006-01-01 00:00:00\",\n          \"2005-11-01 00:00:00\"\n        ],\n        \"semantic_type\": \"\",\n        \"description\": \"\"\n      }\n    },\n    {\n      \"column\": \"Open\",\n      \"properties\": {\n        \"dtype\": \"number\",\n        \"std\": 0.17846568297574772,\n        \"min\": 13.2,\n        \"max\": 13.68,\n        \"num_unique_values\": 5,\n        \"samples\": [\n          13.2,\n          13.68,\n          13.35\n        ],\n        \"semantic_type\": \"\",\n        \"description\": \"\"\n      }\n    },\n    {\n      \"column\": \"High\",\n      \"properties\": {\n        \"dtype\": \"number\",\n        \"std\": 1.2771961478175542,\n        \"min\": 13.88,\n        \"max\": 17.16,\n        \"num_unique_values\": 5,\n        \"samples\": [\n          14.47,\n          17.16,\n          13.88\n        ],\n        \"semantic_type\": \"\",\n        \"description\": \"\"\n      }\n    },\n    {\n      \"column\": \"Low\",\n      \"properties\": {\n        \"dtype\": \"number\",\n        \"std\": 0.5225705693970912,\n        \"min\": 12.27,\n        \"max\": 13.58,\n        \"num_unique_values\": 5,\n        \"samples\": [\n          12.4,\n          13.58,\n          12.88\n        ],\n        \"semantic_type\": \"\",\n        \"description\": \"\"\n      }\n    },\n    {\n      \"column\": \"Close\",\n      \"properties\": {\n        \"dtype\": \"number\",\n        \"std\": 0.921097171855391,\n        \"min\": 12.99,\n        \"max\": 15.33,\n        \"num_unique_values\": 5,\n        \"samples\": [\n          12.99,\n          15.33,\n          13.41\n        ],\n        \"semantic_type\": \"\",\n        \"description\": \"\"\n      }\n    },\n    {\n      \"column\": \"Close_SMA_3\",\n      \"properties\": {\n        \"dtype\": \"number\",\n        \"std\": 0.42806411773108116,\n        \"min\": 13.06,\n        \"max\": 14.15,\n        \"num_unique_values\": 5,\n        \"samples\": [\n          13.236666666666666,\n          14.15,\n          13.233333333333334\n        ],\n        \"semantic_type\": \"\",\n        \"description\": \"\"\n      }\n    },\n    {\n      \"column\": \"Year\",\n      \"properties\": {\n        \"dtype\": \"int32\",\n        \"num_unique_values\": 2,\n        \"samples\": [\n          2006,\n          2005\n        ],\n        \"semantic_type\": \"\",\n        \"description\": \"\"\n      }\n    },\n    {\n      \"column\": \"Month\",\n      \"properties\": {\n        \"dtype\": \"int32\",\n        \"num_unique_values\": 5,\n        \"samples\": [\n          10,\n          1\n        ],\n        \"semantic_type\": \"\",\n        \"description\": \"\"\n      }\n    },\n    {\n      \"column\": \"Day\",\n      \"properties\": {\n        \"dtype\": \"int32\",\n        \"num_unique_values\": 1,\n        \"samples\": [\n          1\n        ],\n        \"semantic_type\": \"\",\n        \"description\": \"\"\n      }\n    },\n    {\n      \"column\": \"Close_Lag1\",\n      \"properties\": {\n        \"dtype\": \"number\",\n        \"std\": 0.25928748523598294,\n        \"min\": 12.99,\n        \"max\": 13.71,\n        \"num_unique_values\": 5,\n        \"samples\": [\n          13.3\n        ],\n        \"semantic_type\": \"\",\n        \"description\": \"\"\n      }\n    },\n    {\n      \"column\": \"Rolling_Mean_3\",\n      \"properties\": {\n        \"dtype\": \"number\",\n        \"std\": 0.42806411773108116,\n        \"min\": 13.06,\n        \"max\": 14.15,\n        \"num_unique_values\": 5,\n        \"samples\": [\n          13.236666666666666\n        ],\n        \"semantic_type\": \"\",\n        \"description\": \"\"\n      }\n    }\n  ]\n}"
            }
          },
          "metadata": {}
        }
      ]
    },
    {
      "cell_type": "code",
      "source": [
        "# ML Model - 1 Implementation\n",
        "\n",
        "from sklearn.model_selection import train_test_split\n",
        "\n",
        "X = df.drop(['Date', 'Close'], axis=1)\n",
        "y = df['Close']\n",
        "\n",
        "X_train, X_test, y_train, y_test = train_test_split(X, y, test_size=0.2, random_state=42)\n",
        "\n",
        "print(\"Shape of X_train:\", X_train.shape)\n",
        "print(\"Shape of X_test:\", X_test.shape)\n",
        "print(\"Shape of y_train:\", y_train.shape)\n",
        "print(\"Shape of y_test:\", y_test.shape)\n",
        "\n",
        "# Fit the Algorithm\n",
        "\n",
        "from sklearn.linear_model import LinearRegression\n",
        "\n",
        "model = LinearRegression()\n",
        "model.fit(X_train, y_train)\n",
        "\n",
        "\n"
      ],
      "metadata": {
        "id": "7ebyywQieS1U",
        "colab": {
          "base_uri": "https://localhost:8080/",
          "height": 150
        },
        "outputId": "e4102aba-5367-473a-a66f-0ca085e0d2d1"
      },
      "execution_count": 1154,
      "outputs": [
        {
          "output_type": "stream",
          "name": "stdout",
          "text": [
            "Shape of X_train: (146, 9)\n",
            "Shape of X_test: (37, 9)\n",
            "Shape of y_train: (146,)\n",
            "Shape of y_test: (37,)\n"
          ]
        },
        {
          "output_type": "execute_result",
          "data": {
            "text/plain": [
              "LinearRegression()"
            ],
            "text/html": [
              "<style>#sk-container-id-24 {\n",
              "  /* Definition of color scheme common for light and dark mode */\n",
              "  --sklearn-color-text: #000;\n",
              "  --sklearn-color-text-muted: #666;\n",
              "  --sklearn-color-line: gray;\n",
              "  /* Definition of color scheme for unfitted estimators */\n",
              "  --sklearn-color-unfitted-level-0: #fff5e6;\n",
              "  --sklearn-color-unfitted-level-1: #f6e4d2;\n",
              "  --sklearn-color-unfitted-level-2: #ffe0b3;\n",
              "  --sklearn-color-unfitted-level-3: chocolate;\n",
              "  /* Definition of color scheme for fitted estimators */\n",
              "  --sklearn-color-fitted-level-0: #f0f8ff;\n",
              "  --sklearn-color-fitted-level-1: #d4ebff;\n",
              "  --sklearn-color-fitted-level-2: #b3dbfd;\n",
              "  --sklearn-color-fitted-level-3: cornflowerblue;\n",
              "\n",
              "  /* Specific color for light theme */\n",
              "  --sklearn-color-text-on-default-background: var(--sg-text-color, var(--theme-code-foreground, var(--jp-content-font-color1, black)));\n",
              "  --sklearn-color-background: var(--sg-background-color, var(--theme-background, var(--jp-layout-color0, white)));\n",
              "  --sklearn-color-border-box: var(--sg-text-color, var(--theme-code-foreground, var(--jp-content-font-color1, black)));\n",
              "  --sklearn-color-icon: #696969;\n",
              "\n",
              "  @media (prefers-color-scheme: dark) {\n",
              "    /* Redefinition of color scheme for dark theme */\n",
              "    --sklearn-color-text-on-default-background: var(--sg-text-color, var(--theme-code-foreground, var(--jp-content-font-color1, white)));\n",
              "    --sklearn-color-background: var(--sg-background-color, var(--theme-background, var(--jp-layout-color0, #111)));\n",
              "    --sklearn-color-border-box: var(--sg-text-color, var(--theme-code-foreground, var(--jp-content-font-color1, white)));\n",
              "    --sklearn-color-icon: #878787;\n",
              "  }\n",
              "}\n",
              "\n",
              "#sk-container-id-24 {\n",
              "  color: var(--sklearn-color-text);\n",
              "}\n",
              "\n",
              "#sk-container-id-24 pre {\n",
              "  padding: 0;\n",
              "}\n",
              "\n",
              "#sk-container-id-24 input.sk-hidden--visually {\n",
              "  border: 0;\n",
              "  clip: rect(1px 1px 1px 1px);\n",
              "  clip: rect(1px, 1px, 1px, 1px);\n",
              "  height: 1px;\n",
              "  margin: -1px;\n",
              "  overflow: hidden;\n",
              "  padding: 0;\n",
              "  position: absolute;\n",
              "  width: 1px;\n",
              "}\n",
              "\n",
              "#sk-container-id-24 div.sk-dashed-wrapped {\n",
              "  border: 1px dashed var(--sklearn-color-line);\n",
              "  margin: 0 0.4em 0.5em 0.4em;\n",
              "  box-sizing: border-box;\n",
              "  padding-bottom: 0.4em;\n",
              "  background-color: var(--sklearn-color-background);\n",
              "}\n",
              "\n",
              "#sk-container-id-24 div.sk-container {\n",
              "  /* jupyter's `normalize.less` sets `[hidden] { display: none; }`\n",
              "     but bootstrap.min.css set `[hidden] { display: none !important; }`\n",
              "     so we also need the `!important` here to be able to override the\n",
              "     default hidden behavior on the sphinx rendered scikit-learn.org.\n",
              "     See: https://github.com/scikit-learn/scikit-learn/issues/21755 */\n",
              "  display: inline-block !important;\n",
              "  position: relative;\n",
              "}\n",
              "\n",
              "#sk-container-id-24 div.sk-text-repr-fallback {\n",
              "  display: none;\n",
              "}\n",
              "\n",
              "div.sk-parallel-item,\n",
              "div.sk-serial,\n",
              "div.sk-item {\n",
              "  /* draw centered vertical line to link estimators */\n",
              "  background-image: linear-gradient(var(--sklearn-color-text-on-default-background), var(--sklearn-color-text-on-default-background));\n",
              "  background-size: 2px 100%;\n",
              "  background-repeat: no-repeat;\n",
              "  background-position: center center;\n",
              "}\n",
              "\n",
              "/* Parallel-specific style estimator block */\n",
              "\n",
              "#sk-container-id-24 div.sk-parallel-item::after {\n",
              "  content: \"\";\n",
              "  width: 100%;\n",
              "  border-bottom: 2px solid var(--sklearn-color-text-on-default-background);\n",
              "  flex-grow: 1;\n",
              "}\n",
              "\n",
              "#sk-container-id-24 div.sk-parallel {\n",
              "  display: flex;\n",
              "  align-items: stretch;\n",
              "  justify-content: center;\n",
              "  background-color: var(--sklearn-color-background);\n",
              "  position: relative;\n",
              "}\n",
              "\n",
              "#sk-container-id-24 div.sk-parallel-item {\n",
              "  display: flex;\n",
              "  flex-direction: column;\n",
              "}\n",
              "\n",
              "#sk-container-id-24 div.sk-parallel-item:first-child::after {\n",
              "  align-self: flex-end;\n",
              "  width: 50%;\n",
              "}\n",
              "\n",
              "#sk-container-id-24 div.sk-parallel-item:last-child::after {\n",
              "  align-self: flex-start;\n",
              "  width: 50%;\n",
              "}\n",
              "\n",
              "#sk-container-id-24 div.sk-parallel-item:only-child::after {\n",
              "  width: 0;\n",
              "}\n",
              "\n",
              "/* Serial-specific style estimator block */\n",
              "\n",
              "#sk-container-id-24 div.sk-serial {\n",
              "  display: flex;\n",
              "  flex-direction: column;\n",
              "  align-items: center;\n",
              "  background-color: var(--sklearn-color-background);\n",
              "  padding-right: 1em;\n",
              "  padding-left: 1em;\n",
              "}\n",
              "\n",
              "\n",
              "/* Toggleable style: style used for estimator/Pipeline/ColumnTransformer box that is\n",
              "clickable and can be expanded/collapsed.\n",
              "- Pipeline and ColumnTransformer use this feature and define the default style\n",
              "- Estimators will overwrite some part of the style using the `sk-estimator` class\n",
              "*/\n",
              "\n",
              "/* Pipeline and ColumnTransformer style (default) */\n",
              "\n",
              "#sk-container-id-24 div.sk-toggleable {\n",
              "  /* Default theme specific background. It is overwritten whether we have a\n",
              "  specific estimator or a Pipeline/ColumnTransformer */\n",
              "  background-color: var(--sklearn-color-background);\n",
              "}\n",
              "\n",
              "/* Toggleable label */\n",
              "#sk-container-id-24 label.sk-toggleable__label {\n",
              "  cursor: pointer;\n",
              "  display: flex;\n",
              "  width: 100%;\n",
              "  margin-bottom: 0;\n",
              "  padding: 0.5em;\n",
              "  box-sizing: border-box;\n",
              "  text-align: center;\n",
              "  align-items: start;\n",
              "  justify-content: space-between;\n",
              "  gap: 0.5em;\n",
              "}\n",
              "\n",
              "#sk-container-id-24 label.sk-toggleable__label .caption {\n",
              "  font-size: 0.6rem;\n",
              "  font-weight: lighter;\n",
              "  color: var(--sklearn-color-text-muted);\n",
              "}\n",
              "\n",
              "#sk-container-id-24 label.sk-toggleable__label-arrow:before {\n",
              "  /* Arrow on the left of the label */\n",
              "  content: \"▸\";\n",
              "  float: left;\n",
              "  margin-right: 0.25em;\n",
              "  color: var(--sklearn-color-icon);\n",
              "}\n",
              "\n",
              "#sk-container-id-24 label.sk-toggleable__label-arrow:hover:before {\n",
              "  color: var(--sklearn-color-text);\n",
              "}\n",
              "\n",
              "/* Toggleable content - dropdown */\n",
              "\n",
              "#sk-container-id-24 div.sk-toggleable__content {\n",
              "  max-height: 0;\n",
              "  max-width: 0;\n",
              "  overflow: hidden;\n",
              "  text-align: left;\n",
              "  /* unfitted */\n",
              "  background-color: var(--sklearn-color-unfitted-level-0);\n",
              "}\n",
              "\n",
              "#sk-container-id-24 div.sk-toggleable__content.fitted {\n",
              "  /* fitted */\n",
              "  background-color: var(--sklearn-color-fitted-level-0);\n",
              "}\n",
              "\n",
              "#sk-container-id-24 div.sk-toggleable__content pre {\n",
              "  margin: 0.2em;\n",
              "  border-radius: 0.25em;\n",
              "  color: var(--sklearn-color-text);\n",
              "  /* unfitted */\n",
              "  background-color: var(--sklearn-color-unfitted-level-0);\n",
              "}\n",
              "\n",
              "#sk-container-id-24 div.sk-toggleable__content.fitted pre {\n",
              "  /* unfitted */\n",
              "  background-color: var(--sklearn-color-fitted-level-0);\n",
              "}\n",
              "\n",
              "#sk-container-id-24 input.sk-toggleable__control:checked~div.sk-toggleable__content {\n",
              "  /* Expand drop-down */\n",
              "  max-height: 200px;\n",
              "  max-width: 100%;\n",
              "  overflow: auto;\n",
              "}\n",
              "\n",
              "#sk-container-id-24 input.sk-toggleable__control:checked~label.sk-toggleable__label-arrow:before {\n",
              "  content: \"▾\";\n",
              "}\n",
              "\n",
              "/* Pipeline/ColumnTransformer-specific style */\n",
              "\n",
              "#sk-container-id-24 div.sk-label input.sk-toggleable__control:checked~label.sk-toggleable__label {\n",
              "  color: var(--sklearn-color-text);\n",
              "  background-color: var(--sklearn-color-unfitted-level-2);\n",
              "}\n",
              "\n",
              "#sk-container-id-24 div.sk-label.fitted input.sk-toggleable__control:checked~label.sk-toggleable__label {\n",
              "  background-color: var(--sklearn-color-fitted-level-2);\n",
              "}\n",
              "\n",
              "/* Estimator-specific style */\n",
              "\n",
              "/* Colorize estimator box */\n",
              "#sk-container-id-24 div.sk-estimator input.sk-toggleable__control:checked~label.sk-toggleable__label {\n",
              "  /* unfitted */\n",
              "  background-color: var(--sklearn-color-unfitted-level-2);\n",
              "}\n",
              "\n",
              "#sk-container-id-24 div.sk-estimator.fitted input.sk-toggleable__control:checked~label.sk-toggleable__label {\n",
              "  /* fitted */\n",
              "  background-color: var(--sklearn-color-fitted-level-2);\n",
              "}\n",
              "\n",
              "#sk-container-id-24 div.sk-label label.sk-toggleable__label,\n",
              "#sk-container-id-24 div.sk-label label {\n",
              "  /* The background is the default theme color */\n",
              "  color: var(--sklearn-color-text-on-default-background);\n",
              "}\n",
              "\n",
              "/* On hover, darken the color of the background */\n",
              "#sk-container-id-24 div.sk-label:hover label.sk-toggleable__label {\n",
              "  color: var(--sklearn-color-text);\n",
              "  background-color: var(--sklearn-color-unfitted-level-2);\n",
              "}\n",
              "\n",
              "/* Label box, darken color on hover, fitted */\n",
              "#sk-container-id-24 div.sk-label.fitted:hover label.sk-toggleable__label.fitted {\n",
              "  color: var(--sklearn-color-text);\n",
              "  background-color: var(--sklearn-color-fitted-level-2);\n",
              "}\n",
              "\n",
              "/* Estimator label */\n",
              "\n",
              "#sk-container-id-24 div.sk-label label {\n",
              "  font-family: monospace;\n",
              "  font-weight: bold;\n",
              "  display: inline-block;\n",
              "  line-height: 1.2em;\n",
              "}\n",
              "\n",
              "#sk-container-id-24 div.sk-label-container {\n",
              "  text-align: center;\n",
              "}\n",
              "\n",
              "/* Estimator-specific */\n",
              "#sk-container-id-24 div.sk-estimator {\n",
              "  font-family: monospace;\n",
              "  border: 1px dotted var(--sklearn-color-border-box);\n",
              "  border-radius: 0.25em;\n",
              "  box-sizing: border-box;\n",
              "  margin-bottom: 0.5em;\n",
              "  /* unfitted */\n",
              "  background-color: var(--sklearn-color-unfitted-level-0);\n",
              "}\n",
              "\n",
              "#sk-container-id-24 div.sk-estimator.fitted {\n",
              "  /* fitted */\n",
              "  background-color: var(--sklearn-color-fitted-level-0);\n",
              "}\n",
              "\n",
              "/* on hover */\n",
              "#sk-container-id-24 div.sk-estimator:hover {\n",
              "  /* unfitted */\n",
              "  background-color: var(--sklearn-color-unfitted-level-2);\n",
              "}\n",
              "\n",
              "#sk-container-id-24 div.sk-estimator.fitted:hover {\n",
              "  /* fitted */\n",
              "  background-color: var(--sklearn-color-fitted-level-2);\n",
              "}\n",
              "\n",
              "/* Specification for estimator info (e.g. \"i\" and \"?\") */\n",
              "\n",
              "/* Common style for \"i\" and \"?\" */\n",
              "\n",
              ".sk-estimator-doc-link,\n",
              "a:link.sk-estimator-doc-link,\n",
              "a:visited.sk-estimator-doc-link {\n",
              "  float: right;\n",
              "  font-size: smaller;\n",
              "  line-height: 1em;\n",
              "  font-family: monospace;\n",
              "  background-color: var(--sklearn-color-background);\n",
              "  border-radius: 1em;\n",
              "  height: 1em;\n",
              "  width: 1em;\n",
              "  text-decoration: none !important;\n",
              "  margin-left: 0.5em;\n",
              "  text-align: center;\n",
              "  /* unfitted */\n",
              "  border: var(--sklearn-color-unfitted-level-1) 1pt solid;\n",
              "  color: var(--sklearn-color-unfitted-level-1);\n",
              "}\n",
              "\n",
              ".sk-estimator-doc-link.fitted,\n",
              "a:link.sk-estimator-doc-link.fitted,\n",
              "a:visited.sk-estimator-doc-link.fitted {\n",
              "  /* fitted */\n",
              "  border: var(--sklearn-color-fitted-level-1) 1pt solid;\n",
              "  color: var(--sklearn-color-fitted-level-1);\n",
              "}\n",
              "\n",
              "/* On hover */\n",
              "div.sk-estimator:hover .sk-estimator-doc-link:hover,\n",
              ".sk-estimator-doc-link:hover,\n",
              "div.sk-label-container:hover .sk-estimator-doc-link:hover,\n",
              ".sk-estimator-doc-link:hover {\n",
              "  /* unfitted */\n",
              "  background-color: var(--sklearn-color-unfitted-level-3);\n",
              "  color: var(--sklearn-color-background);\n",
              "  text-decoration: none;\n",
              "}\n",
              "\n",
              "div.sk-estimator.fitted:hover .sk-estimator-doc-link.fitted:hover,\n",
              ".sk-estimator-doc-link.fitted:hover,\n",
              "div.sk-label-container:hover .sk-estimator-doc-link.fitted:hover,\n",
              ".sk-estimator-doc-link.fitted:hover {\n",
              "  /* fitted */\n",
              "  background-color: var(--sklearn-color-fitted-level-3);\n",
              "  color: var(--sklearn-color-background);\n",
              "  text-decoration: none;\n",
              "}\n",
              "\n",
              "/* Span, style for the box shown on hovering the info icon */\n",
              ".sk-estimator-doc-link span {\n",
              "  display: none;\n",
              "  z-index: 9999;\n",
              "  position: relative;\n",
              "  font-weight: normal;\n",
              "  right: .2ex;\n",
              "  padding: .5ex;\n",
              "  margin: .5ex;\n",
              "  width: min-content;\n",
              "  min-width: 20ex;\n",
              "  max-width: 50ex;\n",
              "  color: var(--sklearn-color-text);\n",
              "  box-shadow: 2pt 2pt 4pt #999;\n",
              "  /* unfitted */\n",
              "  background: var(--sklearn-color-unfitted-level-0);\n",
              "  border: .5pt solid var(--sklearn-color-unfitted-level-3);\n",
              "}\n",
              "\n",
              ".sk-estimator-doc-link.fitted span {\n",
              "  /* fitted */\n",
              "  background: var(--sklearn-color-fitted-level-0);\n",
              "  border: var(--sklearn-color-fitted-level-3);\n",
              "}\n",
              "\n",
              ".sk-estimator-doc-link:hover span {\n",
              "  display: block;\n",
              "}\n",
              "\n",
              "/* \"?\"-specific style due to the `<a>` HTML tag */\n",
              "\n",
              "#sk-container-id-24 a.estimator_doc_link {\n",
              "  float: right;\n",
              "  font-size: 1rem;\n",
              "  line-height: 1em;\n",
              "  font-family: monospace;\n",
              "  background-color: var(--sklearn-color-background);\n",
              "  border-radius: 1rem;\n",
              "  height: 1rem;\n",
              "  width: 1rem;\n",
              "  text-decoration: none;\n",
              "  /* unfitted */\n",
              "  color: var(--sklearn-color-unfitted-level-1);\n",
              "  border: var(--sklearn-color-unfitted-level-1) 1pt solid;\n",
              "}\n",
              "\n",
              "#sk-container-id-24 a.estimator_doc_link.fitted {\n",
              "  /* fitted */\n",
              "  border: var(--sklearn-color-fitted-level-1) 1pt solid;\n",
              "  color: var(--sklearn-color-fitted-level-1);\n",
              "}\n",
              "\n",
              "/* On hover */\n",
              "#sk-container-id-24 a.estimator_doc_link:hover {\n",
              "  /* unfitted */\n",
              "  background-color: var(--sklearn-color-unfitted-level-3);\n",
              "  color: var(--sklearn-color-background);\n",
              "  text-decoration: none;\n",
              "}\n",
              "\n",
              "#sk-container-id-24 a.estimator_doc_link.fitted:hover {\n",
              "  /* fitted */\n",
              "  background-color: var(--sklearn-color-fitted-level-3);\n",
              "}\n",
              "</style><div id=\"sk-container-id-24\" class=\"sk-top-container\"><div class=\"sk-text-repr-fallback\"><pre>LinearRegression()</pre><b>In a Jupyter environment, please rerun this cell to show the HTML representation or trust the notebook. <br />On GitHub, the HTML representation is unable to render, please try loading this page with nbviewer.org.</b></div><div class=\"sk-container\" hidden><div class=\"sk-item\"><div class=\"sk-estimator fitted sk-toggleable\"><input class=\"sk-toggleable__control sk-hidden--visually\" id=\"sk-estimator-id-24\" type=\"checkbox\" checked><label for=\"sk-estimator-id-24\" class=\"sk-toggleable__label fitted sk-toggleable__label-arrow\"><div><div>LinearRegression</div></div><div><a class=\"sk-estimator-doc-link fitted\" rel=\"noreferrer\" target=\"_blank\" href=\"https://scikit-learn.org/1.6/modules/generated/sklearn.linear_model.LinearRegression.html\">?<span>Documentation for LinearRegression</span></a><span class=\"sk-estimator-doc-link fitted\">i<span>Fitted</span></span></div></label><div class=\"sk-toggleable__content fitted\"><pre>LinearRegression()</pre></div> </div></div></div></div>"
            ]
          },
          "metadata": {},
          "execution_count": 1154
        }
      ]
    },
    {
      "cell_type": "code",
      "source": [
        "# Predict on the model\n",
        "from sklearn.metrics import mean_squared_error, r2_score\n",
        "\n",
        "y_pred = model.predict(X_test)\n",
        "\n",
        "mse = mean_squared_error(y_test, y_pred)\n",
        "r2 = r2_score(y_test, y_pred)\n",
        "\n",
        "print(f'Mean Squared Error (MSE): {mse:.2f}')\n",
        "print(f'R-squared (R2): {r2:.2f}')"
      ],
      "metadata": {
        "id": "rsQcNUxw_rMC",
        "colab": {
          "base_uri": "https://localhost:8080/"
        },
        "outputId": "b0692c76-79ad-48ad-b859-731a2a329be0"
      },
      "execution_count": 1155,
      "outputs": [
        {
          "output_type": "stream",
          "name": "stdout",
          "text": [
            "Mean Squared Error (MSE): 84.20\n",
            "R-squared (R2): 0.99\n"
          ]
        }
      ]
    },
    {
      "cell_type": "code",
      "source": [
        "# Create a DataFrame for a future month's data with the same features as the training data and then use the trained model to predict the closing price for that month.\n",
        "future_month_data = {\n",
        "    'Open': [50.0],\n",
        "    'High': [55.0],\n",
        "    'Low': [48.0],\n",
        "    'Year': [2021],\n",
        "    'Month': [1],\n",
        "    'Day': [1],\n",
        "    'Close_Lag1': [14.67], # Assuming the last known close is from Nov-2020\n",
        "    'Rolling_Mean_3': [13.413333], # Assuming the last known rolling mean\n",
        "    'Close_SMA_3': [13.413333] # Assuming the last known SMA\n",
        "}\n",
        "future_month_df = pd.DataFrame(future_month_data)\n",
        "\n",
        "# Ensure the columns are in the same order as the training data X\n",
        "future_month_df = future_month_df[X.columns]\n",
        "\n",
        "predicted_close_price = model.predict(future_month_df)\n",
        "print(f'Predicted closing price for the future month: {predicted_close_price[0]:.2f}')"
      ],
      "metadata": {
        "id": "QG0KwjEV9XYO",
        "colab": {
          "base_uri": "https://localhost:8080/"
        },
        "outputId": "ee36cfbb-36e2-40f0-9260-0679d865c32c"
      },
      "execution_count": 1156,
      "outputs": [
        {
          "output_type": "stream",
          "name": "stdout",
          "text": [
            "Predicted closing price for the future month: 95.00\n"
          ]
        }
      ]
    },
    {
      "cell_type": "markdown",
      "source": [
        "#### 1. Explain the ML Model used and it's performance using Evaluation metric Score Chart."
      ],
      "metadata": {
        "id": "ArJBuiUVfxKd"
      }
    },
    {
      "cell_type": "code",
      "source": [
        "# Visualizing evaluation Metric Score chart\n",
        "import matplotlib.pyplot as plt\n",
        "\n",
        "# Create data\n",
        "metrics = ['MSE', 'R²']\n",
        "scores = [mse, r2]\n",
        "\n",
        "# Create bar plot\n",
        "plt.figure(figsize=(6, 4))\n",
        "bars = plt.bar(metrics, scores, color=['steelblue', 'orange'])\n",
        "plt.title('Model Evaluation Metrics')\n",
        "plt.ylim(0, max(scores)*1.2)\n",
        "\n",
        "# Add value labels on bars\n",
        "for bar in bars:\n",
        "    height = bar.get_height()\n",
        "    plt.text(bar.get_x() + bar.get_width()/2.0, height, f'{height:.2f}', ha='center', va='bottom')\n",
        "\n",
        "plt.grid(axis='y', linestyle='--', alpha=0.7)\n",
        "plt.tight_layout()\n",
        "plt.show()\n"
      ],
      "metadata": {
        "id": "rqD5ZohzfxKe",
        "colab": {
          "base_uri": "https://localhost:8080/",
          "height": 407
        },
        "outputId": "4316fdda-8fbe-4e47-871b-954c2ef74bcc"
      },
      "execution_count": 1157,
      "outputs": [
        {
          "output_type": "display_data",
          "data": {
            "text/plain": [
              "<Figure size 600x400 with 1 Axes>"
            ],
            "image/png": "[encoded data removed]"
          },
          "metadata": {}
        }
      ]
    },
    {
      "cell_type": "markdown",
      "source": [
        "### ML Model - 2"
      ],
      "metadata": {
        "id": "dJ2tPlVmpsJ0"
      }
    },
    {
      "cell_type": "code",
      "source": [
        "df = df[['Date', 'Open', 'High', 'Low', 'Close']]\n"
      ],
      "metadata": {
        "id": "SNkVpre3REzC"
      },
      "execution_count": 1158,
      "outputs": []
    },
    {
      "cell_type": "code",
      "source": [
        "#Select the 'Close' price for the time series analysis and scale the data using a scaler like MinMaxScaler.\n",
        "from sklearn.preprocessing import MinMaxScaler\n",
        "\n",
        "close_prices = df['Close']\n",
        "scaler = MinMaxScaler()\n",
        "scaled_data = scaler.fit_transform(close_prices.values.reshape(-1, 1))\n",
        "\n",
        "display(scaled_data[:5])"
      ],
      "metadata": {
        "colab": {
          "base_uri": "https://localhost:8080/",
          "height": 104
        },
        "id": "baftsPNYSMnI",
        "outputId": "292333d6-9cee-4cbb-a162-538ce07da84c"
      },
      "execution_count": 1159,
      "outputs": [
        {
          "output_type": "display_data",
          "data": {
            "text/plain": [
              "array([[0.00927582],\n",
              "       [0.0084097 ],\n",
              "       [0.00958315],\n",
              "       [0.01042132],\n",
              "       [0.01494747]])"
            ]
          },
          "metadata": {}
        }
      ]
    },
    {
      "cell_type": "code",
      "source": [
        "#Define a function to create input sequences and corresponding output labels from the scaled time series data and apply this function to  create the training and testing sequences.\n",
        "def create_sequences(data, time_step):\n",
        "    X, y = [], []\n",
        "    for i in range(len(data) - time_step):\n",
        "        X.append(data[i:(i + time_step), 0])\n",
        "        y.append(data[i + time_step, 0])\n",
        "    return np.array(X), np.array(y)\n",
        "\n",
        "time_step = 60\n",
        "X, y = create_sequences(scaled_data, time_step)\n",
        "\n",
        "train_size = int(len(X) * 0.8)\n",
        "X_train, X_test = X[:train_size], X[train_size:]\n",
        "y_train, y_test = y[:train_size], y[train_size:]\n",
        "\n",
        "X_train = X_train.reshape(X_train.shape[0], X_train.shape[1], 1)\n",
        "X_test = X_test.reshape(X_test.shape[0], X_test.shape[1], 1)\n",
        "\n",
        "print(\"Shape of X_train:\", X_train.shape)\n",
        "print(\"Shape of X_test:\", X_test.shape)\n",
        "print(\"Shape of y_train:\", y_train.shape)\n",
        "print(\"Shape of y_test:\", y_test.shape)"
      ],
      "metadata": {
        "colab": {
          "base_uri": "https://localhost:8080/"
        },
        "id": "rawvBFeVSWon",
        "outputId": "16f5f68f-bd93-49f9-9420-da7e73981929"
      },
      "execution_count": 1160,
      "outputs": [
        {
          "output_type": "stream",
          "name": "stdout",
          "text": [
            "Shape of X_train: (98, 60, 1)\n",
            "Shape of X_test: (25, 60, 1)\n",
            "Shape of y_train: (98,)\n",
            "Shape of y_test: (25,)\n"
          ]
        }
      ]
    },
    {
      "cell_type": "code",
      "source": [
        "#Import necessary libraries from TensorFlow/Keras, define the architecture of the LSTM model, including LSTM layers, Dense layers, and appropriate activation functions, and compile the model with an optimizer and loss function suitable for regression.\n",
        "from tensorflow.keras.models import Sequential\n",
        "from tensorflow.keras.layers import LSTM, Dense\n",
        "\n",
        "model = Sequential()\n",
        "model.add(LSTM(units=50, return_sequences=True, input_shape=(X_train.shape[1], 1)))\n",
        "model.add(LSTM(units=50))\n",
        "model.add(Dense(units=25, activation='relu'))\n",
        "model.add(Dense(units=1))\n",
        "\n",
        "model.compile(optimizer='adam', loss='mean_squared_error')\n",
        "\n",
        "print(model.summary())"
      ],
      "metadata": {
        "colab": {
          "base_uri": "https://localhost:8080/",
          "height": 329
        },
        "id": "S7QSMHRNSwQ9",
        "outputId": "215cc13e-b891-4c57-eee7-719032668937"
      },
      "execution_count": 1161,
      "outputs": [
        {
          "output_type": "stream",
          "name": "stderr",
          "text": [
            "/usr/local/lib/python3.11/dist-packages/keras/src/layers/rnn/rnn.py:200: UserWarning: Do not pass an `input_shape`/`input_dim` argument to a layer. When using Sequential models, prefer using an `Input(shape)` object as the first layer in the model instead.\n",
            "  super().__init__(**kwargs)\n"
          ]
        },
        {
          "output_type": "display_data",
          "data": {
            "text/plain": [
              "\u001b[1mModel: \"sequential_6\"\u001b[0m\n"
            ],
            "text/html": [
              "<pre style=\"white-space:pre;overflow-x:auto;line-height:normal;font-family:Menlo,'DejaVu Sans Mono',consolas,'Courier New',monospace\"><span style=\"font-weight: bold\">Model: \"sequential_6\"</span>\n",
              "</pre>\n"
            ]
          },
          "metadata": {}
        },
        {
          "output_type": "display_data",
          "data": {
            "text/plain": [
              "┏━━━━━━━━━━━━━━━━━━━━━━━━━━━━━━━━━┳━━━━━━━━━━━━━━━━━━━━━━━━┳━━━━━━━━━━━━━━━┓\n",
              "┃\u001b[1m \u001b[0m\u001b[1mLayer (type)                   \u001b[0m\u001b[1m \u001b[0m┃\u001b[1m \u001b[0m\u001b[1mOutput Shape          \u001b[0m\u001b[1m \u001b[0m┃\u001b[1m \u001b[0m\u001b[1m      Param #\u001b[0m\u001b[1m \u001b[0m┃\n",
              "┡━━━━━━━━━━━━━━━━━━━━━━━━━━━━━━━━━╇━━━━━━━━━━━━━━━━━━━━━━━━╇━━━━━━━━━━━━━━━┩\n",
              "│ lstm_12 (\u001b[38;5;33mLSTM\u001b[0m)                  │ (\u001b[38;5;45mNone\u001b[0m, \u001b[38;5;34m60\u001b[0m, \u001b[38;5;34m50\u001b[0m)         │        \u001b[38;5;34m10,400\u001b[0m │\n",
              "├─────────────────────────────────┼────────────────────────┼───────────────┤\n",
              "│ lstm_13 (\u001b[38;5;33mLSTM\u001b[0m)                  │ (\u001b[38;5;45mNone\u001b[0m, \u001b[38;5;34m50\u001b[0m)             │        \u001b[38;5;34m20,200\u001b[0m │\n",
              "├─────────────────────────────────┼────────────────────────┼───────────────┤\n",
              "│ dense_12 (\u001b[38;5;33mDense\u001b[0m)                │ (\u001b[38;5;45mNone\u001b[0m, \u001b[38;5;34m25\u001b[0m)             │         \u001b[38;5;34m1,275\u001b[0m │\n",
              "├─────────────────────────────────┼────────────────────────┼───────────────┤\n",
              "│ dense_13 (\u001b[38;5;33mDense\u001b[0m)                │ (\u001b[38;5;45mNone\u001b[0m, \u001b[38;5;34m1\u001b[0m)              │            \u001b[38;5;34m26\u001b[0m │\n",
              "└─────────────────────────────────┴────────────────────────┴───────────────┘\n"
            ],
            "text/html": [
              "<pre style=\"white-space:pre;overflow-x:auto;line-height:normal;font-family:Menlo,'DejaVu Sans Mono',consolas,'Courier New',monospace\">┏━━━━━━━━━━━━━━━━━━━━━━━━━━━━━━━━━┳━━━━━━━━━━━━━━━━━━━━━━━━┳━━━━━━━━━━━━━━━┓\n",
              "┃<span style=\"font-weight: bold\"> Layer (type)                    </span>┃<span style=\"font-weight: bold\"> Output Shape           </span>┃<span style=\"font-weight: bold\">       Param # </span>┃\n",
              "┡━━━━━━━━━━━━━━━━━━━━━━━━━━━━━━━━━╇━━━━━━━━━━━━━━━━━━━━━━━━╇━━━━━━━━━━━━━━━┩\n",
              "│ lstm_12 (<span style=\"color: #0087ff; text-decoration-color: #0087ff\">LSTM</span>)                  │ (<span style=\"color: #00d7ff; text-decoration-color: #00d7ff\">None</span>, <span style=\"color: #00af00; text-decoration-color: #00af00\">60</span>, <span style=\"color: #00af00; text-decoration-color: #00af00\">50</span>)         │        <span style=\"color: #00af00; text-decoration-color: #00af00\">10,400</span> │\n",
              "├─────────────────────────────────┼────────────────────────┼───────────────┤\n",
              "│ lstm_13 (<span style=\"color: #0087ff; text-decoration-color: #0087ff\">LSTM</span>)                  │ (<span style=\"color: #00d7ff; text-decoration-color: #00d7ff\">None</span>, <span style=\"color: #00af00; text-decoration-color: #00af00\">50</span>)             │        <span style=\"color: #00af00; text-decoration-color: #00af00\">20,200</span> │\n",
              "├─────────────────────────────────┼────────────────────────┼───────────────┤\n",
              "│ dense_12 (<span style=\"color: #0087ff; text-decoration-color: #0087ff\">Dense</span>)                │ (<span style=\"color: #00d7ff; text-decoration-color: #00d7ff\">None</span>, <span style=\"color: #00af00; text-decoration-color: #00af00\">25</span>)             │         <span style=\"color: #00af00; text-decoration-color: #00af00\">1,275</span> │\n",
              "├─────────────────────────────────┼────────────────────────┼───────────────┤\n",
              "│ dense_13 (<span style=\"color: #0087ff; text-decoration-color: #0087ff\">Dense</span>)                │ (<span style=\"color: #00d7ff; text-decoration-color: #00d7ff\">None</span>, <span style=\"color: #00af00; text-decoration-color: #00af00\">1</span>)              │            <span style=\"color: #00af00; text-decoration-color: #00af00\">26</span> │\n",
              "└─────────────────────────────────┴────────────────────────┴───────────────┘\n",
              "</pre>\n"
            ]
          },
          "metadata": {}
        },
        {
          "output_type": "display_data",
          "data": {
            "text/plain": [
              "\u001b[1m Total params: \u001b[0m\u001b[38;5;34m31,901\u001b[0m (124.61 KB)\n"
            ],
            "text/html": [
              "<pre style=\"white-space:pre;overflow-x:auto;line-height:normal;font-family:Menlo,'DejaVu Sans Mono',consolas,'Courier New',monospace\"><span style=\"font-weight: bold\"> Total params: </span><span style=\"color: #00af00; text-decoration-color: #00af00\">31,901</span> (124.61 KB)\n",
              "</pre>\n"
            ]
          },
          "metadata": {}
        },
        {
          "output_type": "display_data",
          "data": {
            "text/plain": [
              "\u001b[1m Trainable params: \u001b[0m\u001b[38;5;34m31,901\u001b[0m (124.61 KB)\n"
            ],
            "text/html": [
              "<pre style=\"white-space:pre;overflow-x:auto;line-height:normal;font-family:Menlo,'DejaVu Sans Mono',consolas,'Courier New',monospace\"><span style=\"font-weight: bold\"> Trainable params: </span><span style=\"color: #00af00; text-decoration-color: #00af00\">31,901</span> (124.61 KB)\n",
              "</pre>\n"
            ]
          },
          "metadata": {}
        },
        {
          "output_type": "display_data",
          "data": {
            "text/plain": [
              "\u001b[1m Non-trainable params: \u001b[0m\u001b[38;5;34m0\u001b[0m (0.00 B)\n"
            ],
            "text/html": [
              "<pre style=\"white-space:pre;overflow-x:auto;line-height:normal;font-family:Menlo,'DejaVu Sans Mono',consolas,'Courier New',monospace\"><span style=\"font-weight: bold\"> Non-trainable params: </span><span style=\"color: #00af00; text-decoration-color: #00af00\">0</span> (0.00 B)\n",
              "</pre>\n"
            ]
          },
          "metadata": {}
        },
        {
          "output_type": "stream",
          "name": "stdout",
          "text": [
            "None\n"
          ]
        }
      ]
    },
    {
      "cell_type": "code",
      "source": [
        "#Train the built LSTM model on the training sequences.\n",
        "history = model.fit(X_train, y_train, epochs=100, batch_size=32, validation_data=(X_test, y_test))"
      ],
      "metadata": {
        "colab": {
          "base_uri": "https://localhost:8080/"
        },
        "id": "8_RKrsEkS8vX",
        "outputId": "3734cbda-f763-4f17-97d2-ca8217990612"
      },
      "execution_count": 1162,
      "outputs": [
        {
          "output_type": "stream",
          "name": "stdout",
          "text": [
            "Epoch 1/100\n",
            "\u001b[1m4/4\u001b[0m \u001b[32m━━━━━━━━━━━━━━━━━━━━\u001b[0m\u001b[37m\u001b[0m \u001b[1m5s\u001b[0m 260ms/step - loss: 0.2074 - val_loss: 0.0220\n",
            "Epoch 2/100\n",
            "\u001b[1m4/4\u001b[0m \u001b[32m━━━━━━━━━━━━━━━━━━━━\u001b[0m\u001b[37m\u001b[0m \u001b[1m0s\u001b[0m 76ms/step - loss: 0.0491 - val_loss: 0.2121\n",
            "Epoch 3/100\n",
            "\u001b[1m4/4\u001b[0m \u001b[32m━━━━━━━━━━━━━━━━━━━━\u001b[0m\u001b[37m\u001b[0m \u001b[1m1s\u001b[0m 160ms/step - loss: 0.0229 - val_loss: 0.3550\n",
            "Epoch 4/100\n",
            "\u001b[1m4/4\u001b[0m \u001b[32m━━━━━━━━━━━━━━━━━━━━\u001b[0m\u001b[37m\u001b[0m \u001b[1m1s\u001b[0m 125ms/step - loss: 0.0185 - val_loss: 0.1217\n",
            "Epoch 5/100\n",
            "\u001b[1m4/4\u001b[0m \u001b[32m━━━━━━━━━━━━━━━━━━━━\u001b[0m\u001b[37m\u001b[0m \u001b[1m1s\u001b[0m 122ms/step - loss: 0.0176 - val_loss: 0.0684\n",
            "Epoch 6/100\n",
            "\u001b[1m4/4\u001b[0m \u001b[32m━━━━━━━━━━━━━━━━━━━━\u001b[0m\u001b[37m\u001b[0m \u001b[1m1s\u001b[0m 133ms/step - loss: 0.0220 - val_loss: 0.0905\n",
            "Epoch 7/100\n",
            "\u001b[1m4/4\u001b[0m \u001b[32m━━━━━━━━━━━━━━━━━━━━\u001b[0m\u001b[37m\u001b[0m \u001b[1m1s\u001b[0m 128ms/step - loss: 0.0166 - val_loss: 0.1749\n",
            "Epoch 8/100\n",
            "\u001b[1m4/4\u001b[0m \u001b[32m━━━━━━━━━━━━━━━━━━━━\u001b[0m\u001b[37m\u001b[0m \u001b[1m0s\u001b[0m 81ms/step - loss: 0.0148 - val_loss: 0.2321\n",
            "Epoch 9/100\n",
            "\u001b[1m4/4\u001b[0m \u001b[32m━━━━━━━━━━━━━━━━━━━━\u001b[0m\u001b[37m\u001b[0m \u001b[1m1s\u001b[0m 88ms/step - loss: 0.0174 - val_loss: 0.2054\n",
            "Epoch 10/100\n",
            "\u001b[1m4/4\u001b[0m \u001b[32m━━━━━━━━━━━━━━━━━━━━\u001b[0m\u001b[37m\u001b[0m \u001b[1m1s\u001b[0m 86ms/step - loss: 0.0123 - val_loss: 0.1558\n",
            "Epoch 11/100\n",
            "\u001b[1m4/4\u001b[0m \u001b[32m━━━━━━━━━━━━━━━━━━━━\u001b[0m\u001b[37m\u001b[0m \u001b[1m0s\u001b[0m 79ms/step - loss: 0.0115 - val_loss: 0.1247\n",
            "Epoch 12/100\n",
            "\u001b[1m4/4\u001b[0m \u001b[32m━━━━━━━━━━━━━━━━━━━━\u001b[0m\u001b[37m\u001b[0m \u001b[1m1s\u001b[0m 88ms/step - loss: 0.0110 - val_loss: 0.1143\n",
            "Epoch 13/100\n",
            "\u001b[1m4/4\u001b[0m \u001b[32m━━━━━━━━━━━━━━━━━━━━\u001b[0m\u001b[37m\u001b[0m \u001b[1m1s\u001b[0m 80ms/step - loss: 0.0140 - val_loss: 0.1254\n",
            "Epoch 14/100\n",
            "\u001b[1m4/4\u001b[0m \u001b[32m━━━━━━━━━━━━━━━━━━━━\u001b[0m\u001b[37m\u001b[0m \u001b[1m0s\u001b[0m 81ms/step - loss: 0.0123 - val_loss: 0.1484\n",
            "Epoch 15/100\n",
            "\u001b[1m4/4\u001b[0m \u001b[32m━━━━━━━━━━━━━━━━━━━━\u001b[0m\u001b[37m\u001b[0m \u001b[1m1s\u001b[0m 80ms/step - loss: 0.0115 - val_loss: 0.1790\n",
            "Epoch 16/100\n",
            "\u001b[1m4/4\u001b[0m \u001b[32m━━━━━━━━━━━━━━━━━━━━\u001b[0m\u001b[37m\u001b[0m \u001b[1m0s\u001b[0m 80ms/step - loss: 0.0123 - val_loss: 0.2163\n",
            "Epoch 17/100\n",
            "\u001b[1m4/4\u001b[0m \u001b[32m━━━━━━━━━━━━━━━━━━━━\u001b[0m\u001b[37m\u001b[0m \u001b[1m0s\u001b[0m 86ms/step - loss: 0.0124 - val_loss: 0.1917\n",
            "Epoch 18/100\n",
            "\u001b[1m4/4\u001b[0m \u001b[32m━━━━━━━━━━━━━━━━━━━━\u001b[0m\u001b[37m\u001b[0m \u001b[1m0s\u001b[0m 81ms/step - loss: 0.0108 - val_loss: 0.1446\n",
            "Epoch 19/100\n",
            "\u001b[1m4/4\u001b[0m \u001b[32m━━━━━━━━━━━━━━━━━━━━\u001b[0m\u001b[37m\u001b[0m \u001b[1m1s\u001b[0m 96ms/step - loss: 0.0093 - val_loss: 0.1282\n",
            "Epoch 20/100\n",
            "\u001b[1m4/4\u001b[0m \u001b[32m━━━━━━━━━━━━━━━━━━━━\u001b[0m\u001b[37m\u001b[0m \u001b[1m0s\u001b[0m 85ms/step - loss: 0.0111 - val_loss: 0.1381\n",
            "Epoch 21/100\n",
            "\u001b[1m4/4\u001b[0m \u001b[32m━━━━━━━━━━━━━━━━━━━━\u001b[0m\u001b[37m\u001b[0m \u001b[1m0s\u001b[0m 80ms/step - loss: 0.0113 - val_loss: 0.1685\n",
            "Epoch 22/100\n",
            "\u001b[1m4/4\u001b[0m \u001b[32m━━━━━━━━━━━━━━━━━━━━\u001b[0m\u001b[37m\u001b[0m \u001b[1m0s\u001b[0m 92ms/step - loss: 0.0125 - val_loss: 0.2013\n",
            "Epoch 23/100\n",
            "\u001b[1m4/4\u001b[0m \u001b[32m━━━━━━━━━━━━━━━━━━━━\u001b[0m\u001b[37m\u001b[0m \u001b[1m1s\u001b[0m 79ms/step - loss: 0.0127 - val_loss: 0.1871\n",
            "Epoch 24/100\n",
            "\u001b[1m4/4\u001b[0m \u001b[32m━━━━━━━━━━━━━━━━━━━━\u001b[0m\u001b[37m\u001b[0m \u001b[1m1s\u001b[0m 80ms/step - loss: 0.0096 - val_loss: 0.1488\n",
            "Epoch 25/100\n",
            "\u001b[1m4/4\u001b[0m \u001b[32m━━━━━━━━━━━━━━━━━━━━\u001b[0m\u001b[37m\u001b[0m \u001b[1m0s\u001b[0m 86ms/step - loss: 0.0104 - val_loss: 0.1424\n",
            "Epoch 26/100\n",
            "\u001b[1m4/4\u001b[0m \u001b[32m━━━━━━━━━━━━━━━━━━━━\u001b[0m\u001b[37m\u001b[0m \u001b[1m0s\u001b[0m 78ms/step - loss: 0.0087 - val_loss: 0.1658\n",
            "Epoch 27/100\n",
            "\u001b[1m4/4\u001b[0m \u001b[32m━━━━━━━━━━━━━━━━━━━━\u001b[0m\u001b[37m\u001b[0m \u001b[1m0s\u001b[0m 79ms/step - loss: 0.0109 - val_loss: 0.1783\n",
            "Epoch 28/100\n",
            "\u001b[1m4/4\u001b[0m \u001b[32m━━━━━━━━━━━━━━━━━━━━\u001b[0m\u001b[37m\u001b[0m \u001b[1m0s\u001b[0m 88ms/step - loss: 0.0112 - val_loss: 0.1835\n",
            "Epoch 29/100\n",
            "\u001b[1m4/4\u001b[0m \u001b[32m━━━━━━━━━━━━━━━━━━━━\u001b[0m\u001b[37m\u001b[0m \u001b[1m1s\u001b[0m 96ms/step - loss: 0.0102 - val_loss: 0.1744\n",
            "Epoch 30/100\n",
            "\u001b[1m4/4\u001b[0m \u001b[32m━━━━━━━━━━━━━━━━━━━━\u001b[0m\u001b[37m\u001b[0m \u001b[1m1s\u001b[0m 128ms/step - loss: 0.0088 - val_loss: 0.1573\n",
            "Epoch 31/100\n",
            "\u001b[1m4/4\u001b[0m \u001b[32m━━━━━━━━━━━━━━━━━━━━\u001b[0m\u001b[37m\u001b[0m \u001b[1m1s\u001b[0m 132ms/step - loss: 0.0075 - val_loss: 0.1202\n",
            "Epoch 32/100\n",
            "\u001b[1m4/4\u001b[0m \u001b[32m━━━━━━━━━━━━━━━━━━━━\u001b[0m\u001b[37m\u001b[0m \u001b[1m0s\u001b[0m 121ms/step - loss: 0.0113 - val_loss: 0.0690\n",
            "Epoch 33/100\n",
            "\u001b[1m4/4\u001b[0m \u001b[32m━━━━━━━━━━━━━━━━━━━━\u001b[0m\u001b[37m\u001b[0m \u001b[1m1s\u001b[0m 136ms/step - loss: 0.0168 - val_loss: 0.0855\n",
            "Epoch 34/100\n",
            "\u001b[1m4/4\u001b[0m \u001b[32m━━━━━━━━━━━━━━━━━━━━\u001b[0m\u001b[37m\u001b[0m \u001b[1m1s\u001b[0m 158ms/step - loss: 0.0148 - val_loss: 0.1790\n",
            "Epoch 35/100\n",
            "\u001b[1m4/4\u001b[0m \u001b[32m━━━━━━━━━━━━━━━━━━━━\u001b[0m\u001b[37m\u001b[0m \u001b[1m1s\u001b[0m 85ms/step - loss: 0.0127 - val_loss: 0.2245\n",
            "Epoch 36/100\n",
            "\u001b[1m4/4\u001b[0m \u001b[32m━━━━━━━━━━━━━━━━━━━━\u001b[0m\u001b[37m\u001b[0m \u001b[1m0s\u001b[0m 107ms/step - loss: 0.0134 - val_loss: 0.1732\n",
            "Epoch 37/100\n",
            "\u001b[1m4/4\u001b[0m \u001b[32m━━━━━━━━━━━━━━━━━━━━\u001b[0m\u001b[37m\u001b[0m \u001b[1m1s\u001b[0m 77ms/step - loss: 0.0093 - val_loss: 0.1230\n",
            "Epoch 38/100\n",
            "\u001b[1m4/4\u001b[0m \u001b[32m━━━━━━━━━━━━━━━━━━━━\u001b[0m\u001b[37m\u001b[0m \u001b[1m1s\u001b[0m 78ms/step - loss: 0.0110 - val_loss: 0.1139\n",
            "Epoch 39/100\n",
            "\u001b[1m4/4\u001b[0m \u001b[32m━━━━━━━━━━━━━━━━━━━━\u001b[0m\u001b[37m\u001b[0m \u001b[1m1s\u001b[0m 244ms/step - loss: 0.0114 - val_loss: 0.1374\n",
            "Epoch 40/100\n",
            "\u001b[1m4/4\u001b[0m \u001b[32m━━━━━━━━━━━━━━━━━━━━\u001b[0m\u001b[37m\u001b[0m \u001b[1m1s\u001b[0m 87ms/step - loss: 0.0078 - val_loss: 0.1793\n",
            "Epoch 41/100\n",
            "\u001b[1m4/4\u001b[0m \u001b[32m━━━━━━━━━━━━━━━━━━━━\u001b[0m\u001b[37m\u001b[0m \u001b[1m0s\u001b[0m 82ms/step - loss: 0.0088 - val_loss: 0.2271\n",
            "Epoch 42/100\n",
            "\u001b[1m4/4\u001b[0m \u001b[32m━━━━━━━━━━━━━━━━━━━━\u001b[0m\u001b[37m\u001b[0m \u001b[1m1s\u001b[0m 202ms/step - loss: 0.0107 - val_loss: 0.1930\n",
            "Epoch 43/100\n",
            "\u001b[1m4/4\u001b[0m \u001b[32m━━━━━━━━━━━━━━━━━━━━\u001b[0m\u001b[37m\u001b[0m \u001b[1m1s\u001b[0m 84ms/step - loss: 0.0081 - val_loss: 0.1514\n",
            "Epoch 44/100\n",
            "\u001b[1m4/4\u001b[0m \u001b[32m━━━━━━━━━━━━━━━━━━━━\u001b[0m\u001b[37m\u001b[0m \u001b[1m1s\u001b[0m 80ms/step - loss: 0.0098 - val_loss: 0.1326\n",
            "Epoch 45/100\n",
            "\u001b[1m4/4\u001b[0m \u001b[32m━━━━━━━━━━━━━━━━━━━━\u001b[0m\u001b[37m\u001b[0m \u001b[1m1s\u001b[0m 100ms/step - loss: 0.0091 - val_loss: 0.1509\n",
            "Epoch 46/100\n",
            "\u001b[1m4/4\u001b[0m \u001b[32m━━━━━━━━━━━━━━━━━━━━\u001b[0m\u001b[37m\u001b[0m \u001b[1m1s\u001b[0m 82ms/step - loss: 0.0094 - val_loss: 0.1687\n",
            "Epoch 47/100\n",
            "\u001b[1m4/4\u001b[0m \u001b[32m━━━━━━━━━━━━━━━━━━━━\u001b[0m\u001b[37m\u001b[0m \u001b[1m0s\u001b[0m 82ms/step - loss: 0.0082 - val_loss: 0.1724\n",
            "Epoch 48/100\n",
            "\u001b[1m4/4\u001b[0m \u001b[32m━━━━━━━━━━━━━━━━━━━━\u001b[0m\u001b[37m\u001b[0m \u001b[1m0s\u001b[0m 77ms/step - loss: 0.0097 - val_loss: 0.1689\n",
            "Epoch 49/100\n",
            "\u001b[1m4/4\u001b[0m \u001b[32m━━━━━━━━━━━━━━━━━━━━\u001b[0m\u001b[37m\u001b[0m \u001b[1m1s\u001b[0m 156ms/step - loss: 0.0093 - val_loss: 0.1656\n",
            "Epoch 50/100\n",
            "\u001b[1m4/4\u001b[0m \u001b[32m━━━━━━━━━━━━━━━━━━━━\u001b[0m\u001b[37m\u001b[0m \u001b[1m1s\u001b[0m 122ms/step - loss: 0.0093 - val_loss: 0.1712\n",
            "Epoch 51/100\n",
            "\u001b[1m4/4\u001b[0m \u001b[32m━━━━━━━━━━━━━━━━━━━━\u001b[0m\u001b[37m\u001b[0m \u001b[1m1s\u001b[0m 129ms/step - loss: 0.0072 - val_loss: 0.1761\n",
            "Epoch 52/100\n",
            "\u001b[1m4/4\u001b[0m \u001b[32m━━━━━━━━━━━━━━━━━━━━\u001b[0m\u001b[37m\u001b[0m \u001b[1m1s\u001b[0m 219ms/step - loss: 0.0095 - val_loss: 0.1883\n",
            "Epoch 53/100\n",
            "\u001b[1m4/4\u001b[0m \u001b[32m━━━━━━━━━━━━━━━━━━━━\u001b[0m\u001b[37m\u001b[0m \u001b[1m1s\u001b[0m 168ms/step - loss: 0.0104 - val_loss: 0.1875\n",
            "Epoch 54/100\n",
            "\u001b[1m4/4\u001b[0m \u001b[32m━━━━━━━━━━━━━━━━━━━━\u001b[0m\u001b[37m\u001b[0m \u001b[1m1s\u001b[0m 79ms/step - loss: 0.0075 - val_loss: 0.1567\n",
            "Epoch 55/100\n",
            "\u001b[1m4/4\u001b[0m \u001b[32m━━━━━━━━━━━━━━━━━━━━\u001b[0m\u001b[37m\u001b[0m \u001b[1m0s\u001b[0m 93ms/step - loss: 0.0077 - val_loss: 0.1370\n",
            "Epoch 56/100\n",
            "\u001b[1m4/4\u001b[0m \u001b[32m━━━━━━━━━━━━━━━━━━━━\u001b[0m\u001b[37m\u001b[0m \u001b[1m0s\u001b[0m 86ms/step - loss: 0.0094 - val_loss: 0.1402\n",
            "Epoch 57/100\n",
            "\u001b[1m4/4\u001b[0m \u001b[32m━━━━━━━━━━━━━━━━━━━━\u001b[0m\u001b[37m\u001b[0m \u001b[1m0s\u001b[0m 111ms/step - loss: 0.0091 - val_loss: 0.1561\n",
            "Epoch 58/100\n",
            "\u001b[1m4/4\u001b[0m \u001b[32m━━━━━━━━━━━━━━━━━━━━\u001b[0m\u001b[37m\u001b[0m \u001b[1m1s\u001b[0m 101ms/step - loss: 0.0091 - val_loss: 0.1541\n",
            "Epoch 59/100\n",
            "\u001b[1m4/4\u001b[0m \u001b[32m━━━━━━━━━━━━━━━━━━━━\u001b[0m\u001b[37m\u001b[0m \u001b[1m0s\u001b[0m 85ms/step - loss: 0.0086 - val_loss: 0.1626\n",
            "Epoch 60/100\n",
            "\u001b[1m4/4\u001b[0m \u001b[32m━━━━━━━━━━━━━━━━━━━━\u001b[0m\u001b[37m\u001b[0m \u001b[1m0s\u001b[0m 85ms/step - loss: 0.0076 - val_loss: 0.1626\n",
            "Epoch 61/100\n",
            "\u001b[1m4/4\u001b[0m \u001b[32m━━━━━━━━━━━━━━━━━━━━\u001b[0m\u001b[37m\u001b[0m \u001b[1m1s\u001b[0m 87ms/step - loss: 0.0077 - val_loss: 0.1538\n",
            "Epoch 62/100\n",
            "\u001b[1m4/4\u001b[0m \u001b[32m━━━━━━━━━━━━━━━━━━━━\u001b[0m\u001b[37m\u001b[0m \u001b[1m1s\u001b[0m 180ms/step - loss: 0.0072 - val_loss: 0.1283\n",
            "Epoch 63/100\n",
            "\u001b[1m4/4\u001b[0m \u001b[32m━━━━━━━━━━━━━━━━━━━━\u001b[0m\u001b[37m\u001b[0m \u001b[1m1s\u001b[0m 79ms/step - loss: 0.0097 - val_loss: 0.1175\n",
            "Epoch 64/100\n",
            "\u001b[1m4/4\u001b[0m \u001b[32m━━━━━━━━━━━━━━━━━━━━\u001b[0m\u001b[37m\u001b[0m \u001b[1m0s\u001b[0m 83ms/step - loss: 0.0102 - val_loss: 0.1343\n",
            "Epoch 65/100\n",
            "\u001b[1m4/4\u001b[0m \u001b[32m━━━━━━━━━━━━━━━━━━━━\u001b[0m\u001b[37m\u001b[0m \u001b[1m0s\u001b[0m 83ms/step - loss: 0.0080 - val_loss: 0.1514\n",
            "Epoch 66/100\n",
            "\u001b[1m4/4\u001b[0m \u001b[32m━━━━━━━━━━━━━━━━━━━━\u001b[0m\u001b[37m\u001b[0m \u001b[1m1s\u001b[0m 217ms/step - loss: 0.0069 - val_loss: 0.1445\n",
            "Epoch 67/100\n",
            "\u001b[1m4/4\u001b[0m \u001b[32m━━━━━━━━━━━━━━━━━━━━\u001b[0m\u001b[37m\u001b[0m \u001b[1m0s\u001b[0m 81ms/step - loss: 0.0083 - val_loss: 0.1372\n",
            "Epoch 68/100\n",
            "\u001b[1m4/4\u001b[0m \u001b[32m━━━━━━━━━━━━━━━━━━━━\u001b[0m\u001b[37m\u001b[0m \u001b[1m0s\u001b[0m 81ms/step - loss: 0.0083 - val_loss: 0.1468\n",
            "Epoch 69/100\n",
            "\u001b[1m4/4\u001b[0m \u001b[32m━━━━━━━━━━━━━━━━━━━━\u001b[0m\u001b[37m\u001b[0m \u001b[1m0s\u001b[0m 85ms/step - loss: 0.0078 - val_loss: 0.1474\n",
            "Epoch 70/100\n",
            "\u001b[1m4/4\u001b[0m \u001b[32m━━━━━━━━━━━━━━━━━━━━\u001b[0m\u001b[37m\u001b[0m \u001b[1m1s\u001b[0m 229ms/step - loss: 0.0085 - val_loss: 0.1147\n",
            "Epoch 71/100\n",
            "\u001b[1m4/4\u001b[0m \u001b[32m━━━━━━━━━━━━━━━━━━━━\u001b[0m\u001b[37m\u001b[0m \u001b[1m0s\u001b[0m 93ms/step - loss: 0.0078 - val_loss: 0.1328\n",
            "Epoch 72/100\n",
            "\u001b[1m4/4\u001b[0m \u001b[32m━━━━━━━━━━━━━━━━━━━━\u001b[0m\u001b[37m\u001b[0m \u001b[1m1s\u001b[0m 122ms/step - loss: 0.0097 - val_loss: 0.1814\n",
            "Epoch 73/100\n",
            "\u001b[1m4/4\u001b[0m \u001b[32m━━━━━━━━━━━━━━━━━━━━\u001b[0m\u001b[37m\u001b[0m \u001b[1m1s\u001b[0m 141ms/step - loss: 0.0106 - val_loss: 0.2409\n",
            "Epoch 74/100\n",
            "\u001b[1m4/4\u001b[0m \u001b[32m━━━━━━━━━━━━━━━━━━━━\u001b[0m\u001b[37m\u001b[0m \u001b[1m1s\u001b[0m 140ms/step - loss: 0.0123 - val_loss: 0.1713\n",
            "Epoch 75/100\n",
            "\u001b[1m4/4\u001b[0m \u001b[32m━━━━━━━━━━━━━━━━━━━━\u001b[0m\u001b[37m\u001b[0m \u001b[1m1s\u001b[0m 237ms/step - loss: 0.0099 - val_loss: 0.1230\n",
            "Epoch 76/100\n",
            "\u001b[1m4/4\u001b[0m \u001b[32m━━━━━━━━━━━━━━━━━━━━\u001b[0m\u001b[37m\u001b[0m \u001b[1m1s\u001b[0m 100ms/step - loss: 0.0119 - val_loss: 0.1062\n",
            "Epoch 77/100\n",
            "\u001b[1m4/4\u001b[0m \u001b[32m━━━━━━━━━━━━━━━━━━━━\u001b[0m\u001b[37m\u001b[0m \u001b[1m0s\u001b[0m 87ms/step - loss: 0.0100 - val_loss: 0.1440\n",
            "Epoch 78/100\n",
            "\u001b[1m4/4\u001b[0m \u001b[32m━━━━━━━━━━━━━━━━━━━━\u001b[0m\u001b[37m\u001b[0m \u001b[1m1s\u001b[0m 81ms/step - loss: 0.0099 - val_loss: 0.1266\n",
            "Epoch 79/100\n",
            "\u001b[1m4/4\u001b[0m \u001b[32m━━━━━━━━━━━━━━━━━━━━\u001b[0m\u001b[37m\u001b[0m \u001b[1m1s\u001b[0m 81ms/step - loss: 0.0088 - val_loss: 0.1558\n",
            "Epoch 80/100\n",
            "\u001b[1m4/4\u001b[0m \u001b[32m━━━━━━━━━━━━━━━━━━━━\u001b[0m\u001b[37m\u001b[0m \u001b[1m1s\u001b[0m 230ms/step - loss: 0.0103 - val_loss: 0.1561\n",
            "Epoch 81/100\n",
            "\u001b[1m4/4\u001b[0m \u001b[32m━━━━━━━━━━━━━━━━━━━━\u001b[0m\u001b[37m\u001b[0m \u001b[1m0s\u001b[0m 78ms/step - loss: 0.0079 - val_loss: 0.1466\n",
            "Epoch 82/100\n",
            "\u001b[1m4/4\u001b[0m \u001b[32m━━━━━━━━━━━━━━━━━━━━\u001b[0m\u001b[37m\u001b[0m \u001b[1m1s\u001b[0m 81ms/step - loss: 0.0072 - val_loss: 0.0845\n",
            "Epoch 83/100\n",
            "\u001b[1m4/4\u001b[0m \u001b[32m━━━━━━━━━━━━━━━━━━━━\u001b[0m\u001b[37m\u001b[0m \u001b[1m0s\u001b[0m 100ms/step - loss: 0.0138 - val_loss: 0.0439\n",
            "Epoch 84/100\n",
            "\u001b[1m4/4\u001b[0m \u001b[32m━━━━━━━━━━━━━━━━━━━━\u001b[0m\u001b[37m\u001b[0m \u001b[1m1s\u001b[0m 85ms/step - loss: 0.0215 - val_loss: 0.0894\n",
            "Epoch 85/100\n",
            "\u001b[1m4/4\u001b[0m \u001b[32m━━━━━━━━━━━━━━━━━━━━\u001b[0m\u001b[37m\u001b[0m \u001b[1m1s\u001b[0m 211ms/step - loss: 0.0121 - val_loss: 0.2102\n",
            "Epoch 86/100\n",
            "\u001b[1m4/4\u001b[0m \u001b[32m━━━━━━━━━━━━━━━━━━━━\u001b[0m\u001b[37m\u001b[0m \u001b[1m1s\u001b[0m 91ms/step - loss: 0.0156 - val_loss: 0.1702\n",
            "Epoch 87/100\n",
            "\u001b[1m4/4\u001b[0m \u001b[32m━━━━━━━━━━━━━━━━━━━━\u001b[0m\u001b[37m\u001b[0m \u001b[1m0s\u001b[0m 82ms/step - loss: 0.0097 - val_loss: 0.1131\n",
            "Epoch 88/100\n",
            "\u001b[1m4/4\u001b[0m \u001b[32m━━━━━━━━━━━━━━━━━━━━\u001b[0m\u001b[37m\u001b[0m \u001b[1m1s\u001b[0m 203ms/step - loss: 0.0113 - val_loss: 0.1114\n",
            "Epoch 89/100\n",
            "\u001b[1m4/4\u001b[0m \u001b[32m━━━━━━━━━━━━━━━━━━━━\u001b[0m\u001b[37m\u001b[0m \u001b[1m1s\u001b[0m 81ms/step - loss: 0.0109 - val_loss: 0.1290\n",
            "Epoch 90/100\n",
            "\u001b[1m4/4\u001b[0m \u001b[32m━━━━━━━━━━━━━━━━━━━━\u001b[0m\u001b[37m\u001b[0m \u001b[1m0s\u001b[0m 85ms/step - loss: 0.0101 - val_loss: 0.1408\n",
            "Epoch 91/100\n",
            "\u001b[1m4/4\u001b[0m \u001b[32m━━━━━━━━━━━━━━━━━━━━\u001b[0m\u001b[37m\u001b[0m \u001b[1m0s\u001b[0m 132ms/step - loss: 0.0089 - val_loss: 0.1252\n",
            "Epoch 92/100\n",
            "\u001b[1m4/4\u001b[0m \u001b[32m━━━━━━━━━━━━━━━━━━━━\u001b[0m\u001b[37m\u001b[0m \u001b[1m1s\u001b[0m 141ms/step - loss: 0.0087 - val_loss: 0.1071\n",
            "Epoch 93/100\n",
            "\u001b[1m4/4\u001b[0m \u001b[32m━━━━━━━━━━━━━━━━━━━━\u001b[0m\u001b[37m\u001b[0m \u001b[1m1s\u001b[0m 140ms/step - loss: 0.0074 - val_loss: 0.1113\n",
            "Epoch 94/100\n",
            "\u001b[1m4/4\u001b[0m \u001b[32m━━━━━━━━━━━━━━━━━━━━\u001b[0m\u001b[37m\u001b[0m \u001b[1m1s\u001b[0m 128ms/step - loss: 0.0092 - val_loss: 0.1269\n",
            "Epoch 95/100\n",
            "\u001b[1m4/4\u001b[0m \u001b[32m━━━━━━━━━━━━━━━━━━━━\u001b[0m\u001b[37m\u001b[0m \u001b[1m0s\u001b[0m 117ms/step - loss: 0.0094 - val_loss: 0.1458\n",
            "Epoch 96/100\n",
            "\u001b[1m4/4\u001b[0m \u001b[32m━━━━━━━━━━━━━━━━━━━━\u001b[0m\u001b[37m\u001b[0m \u001b[1m1s\u001b[0m 185ms/step - loss: 0.0075 - val_loss: 0.1182\n",
            "Epoch 97/100\n",
            "\u001b[1m4/4\u001b[0m \u001b[32m━━━━━━━━━━━━━━━━━━━━\u001b[0m\u001b[37m\u001b[0m \u001b[1m1s\u001b[0m 236ms/step - loss: 0.0097 - val_loss: 0.0925\n",
            "Epoch 98/100\n",
            "\u001b[1m4/4\u001b[0m \u001b[32m━━━━━━━━━━━━━━━━━━━━\u001b[0m\u001b[37m\u001b[0m \u001b[1m0s\u001b[0m 83ms/step - loss: 0.0084 - val_loss: 0.1048\n",
            "Epoch 99/100\n",
            "\u001b[1m4/4\u001b[0m \u001b[32m━━━━━━━━━━━━━━━━━━━━\u001b[0m\u001b[37m\u001b[0m \u001b[1m0s\u001b[0m 89ms/step - loss: 0.0085 - val_loss: 0.1290\n",
            "Epoch 100/100\n",
            "\u001b[1m4/4\u001b[0m \u001b[32m━━━━━━━━━━━━━━━━━━━━\u001b[0m\u001b[37m\u001b[0m \u001b[1m1s\u001b[0m 78ms/step - loss: 0.0084 - val_loss: 0.1334\n"
          ]
        }
      ]
    },
    {
      "cell_type": "code",
      "source": [
        "from sklearn.metrics import mean_squared_error, mean_absolute_error, r2_score\n",
        "\n",
        "# Inverse transform the predictions and actual values\n",
        "predicted_inv = scaler.inverse_transform(model.predict(X_test))\n",
        "y_test_inv = scaler.inverse_transform(y_test.reshape(-1, 1))\n",
        "\n",
        "\n",
        "rmse = np.sqrt(mean_squared_error(y_test_inv, predicted_inv))\n",
        "mae = mean_absolute_error(y_test_inv, predicted_inv)\n",
        "r2 = r2_score(y_test_inv, predicted_inv)\n",
        "\n",
        "\n",
        "print(f\"RMSE (₹): {rmse:.2f}\")\n",
        "print(f\"MAE  (₹): {mae:.2f}\")\n",
        "print(f\"R² Score: {r2:.4f}\")"
      ],
      "metadata": {
        "colab": {
          "base_uri": "https://localhost:8080/"
        },
        "id": "Em1VryeSTTdm",
        "outputId": "f40686ee-8b39-4124-c0b4-4fe7d3240df9"
      },
      "execution_count": 1163,
      "outputs": [
        {
          "output_type": "stream",
          "name": "stdout",
          "text": [
            "\u001b[1m1/1\u001b[0m \u001b[32m━━━━━━━━━━━━━━━━━━━━\u001b[0m\u001b[37m\u001b[0m \u001b[1m0s\u001b[0m 432ms/step\n",
            "RMSE (₹): 130.75\n",
            "MAE  (₹): 124.44\n",
            "R² Score: -1.9214\n"
          ]
        }
      ]
    },
    {
      "cell_type": "code",
      "source": [
        "#Use the trained LSTM model to make predictions on the test set.\n",
        "test_predictions = model.predict(X_test)\n",
        "print(\"Shape of test predictions:\", test_predictions.shape)"
      ],
      "metadata": {
        "colab": {
          "base_uri": "https://localhost:8080/"
        },
        "id": "-hIW8cSHY9hD",
        "outputId": "e44a149f-1a07-4dd8-a5bc-62701c6c0fed"
      },
      "execution_count": 1164,
      "outputs": [
        {
          "output_type": "stream",
          "name": "stdout",
          "text": [
            "\u001b[1m1/1\u001b[0m \u001b[32m━━━━━━━━━━━━━━━━━━━━\u001b[0m\u001b[37m\u001b[0m \u001b[1m0s\u001b[0m 55ms/step\n",
            "Shape of test predictions: (25, 1)\n"
          ]
        }
      ]
    },
    {
      "cell_type": "markdown",
      "source": [
        "### ML Model - 3"
      ],
      "metadata": {
        "id": "Fze-IPXLpx6K"
      }
    },
    {
      "cell_type": "code",
      "source": [
        "df = df[['Date', 'Open', 'High', 'Low', 'Close']]"
      ],
      "metadata": {
        "id": "mtyQD8vHUsLm"
      },
      "execution_count": 1165,
      "outputs": []
    },
    {
      "cell_type": "code",
      "source": [
        "#Convert the 'Date' column to datetime objects\n",
        "#Extract relevant features from the 'Date' column (e.g., year, month, day)\n",
        "#Handle any missing values if necessary.\n",
        "df['Date'] = pd.to_datetime(df['Date'], format='%b-%y')\n",
        "df['Year'] = df['Date'].dt.year\n",
        "df['Month'] = df['Date'].dt.month\n",
        "df['Day'] = df['Date'].dt.day\n",
        "\n",
        "missing_values = df.isnull().sum()\n",
        "display(\"Missing values per column:\", missing_values)"
      ],
      "metadata": {
        "colab": {
          "base_uri": "https://localhost:8080/",
          "height": 353
        },
        "id": "CgaS2YhpU1hD",
        "outputId": "0d60671b-09b4-4d32-b20b-66277fdaa36e"
      },
      "execution_count": 1166,
      "outputs": [
        {
          "output_type": "display_data",
          "data": {
            "text/plain": [
              "'Missing values per column:'"
            ],
            "application/vnd.google.colaboratory.intrinsic+json": {
              "type": "string"
            }
          },
          "metadata": {}
        },
        {
          "output_type": "display_data",
          "data": {
            "text/plain": [
              "Date     0\n",
              "Open     0\n",
              "High     0\n",
              "Low      0\n",
              "Close    0\n",
              "Year     0\n",
              "Month    0\n",
              "Day      0\n",
              "dtype: int64"
            ],
            "text/html": [
              "<div>\n",
              "<style scoped>\n",
              "    .dataframe tbody tr th:only-of-type {\n",
              "        vertical-align: middle;\n",
              "    }\n",
              "\n",
              "    .dataframe tbody tr th {\n",
              "        vertical-align: top;\n",
              "    }\n",
              "\n",
              "    .dataframe thead th {\n",
              "        text-align: right;\n",
              "    }\n",
              "</style>\n",
              "<table border=\"1\" class=\"dataframe\">\n",
              "  <thead>\n",
              "    <tr style=\"text-align: right;\">\n",
              "      <th></th>\n",
              "      <th>0</th>\n",
              "    </tr>\n",
              "  </thead>\n",
              "  <tbody>\n",
              "    <tr>\n",
              "      <th>Date</th>\n",
              "      <td>0</td>\n",
              "    </tr>\n",
              "    <tr>\n",
              "      <th>Open</th>\n",
              "      <td>0</td>\n",
              "    </tr>\n",
              "    <tr>\n",
              "      <th>High</th>\n",
              "      <td>0</td>\n",
              "    </tr>\n",
              "    <tr>\n",
              "      <th>Low</th>\n",
              "      <td>0</td>\n",
              "    </tr>\n",
              "    <tr>\n",
              "      <th>Close</th>\n",
              "      <td>0</td>\n",
              "    </tr>\n",
              "    <tr>\n",
              "      <th>Year</th>\n",
              "      <td>0</td>\n",
              "    </tr>\n",
              "    <tr>\n",
              "      <th>Month</th>\n",
              "      <td>0</td>\n",
              "    </tr>\n",
              "    <tr>\n",
              "      <th>Day</th>\n",
              "      <td>0</td>\n",
              "    </tr>\n",
              "  </tbody>\n",
              "</table>\n",
              "</div><br><label><b>dtype:</b> int64</label>"
            ]
          },
          "metadata": {}
        }
      ]
    },
    {
      "cell_type": "code",
      "source": [
        "#Create new features that might be useful for Random Forest\n",
        "df['Close_Lag1'] = df['Close'].shift(1)\n",
        "df['Rolling_Mean_3'] = df['Close'].rolling(window=3).mean()\n",
        "df.dropna(subset=['Close_Lag1', 'Rolling_Mean_3'], inplace=True)\n",
        "display(df.head())"
      ],
      "metadata": {
        "colab": {
          "base_uri": "https://localhost:8080/",
          "height": 206
        },
        "id": "Bt-Ympl0U59U",
        "outputId": "b5c51265-735d-4219-d0c2-74a7df8fcea6"
      },
      "execution_count": 1167,
      "outputs": [
        {
          "output_type": "display_data",
          "data": {
            "text/plain": [
              "        Date   Open   High    Low  Close  Year  Month  Day  Close_Lag1  \\\n",
              "4 2005-11-01  13.35  13.88  12.88  13.41  2005     11    1       12.99   \n",
              "5 2005-12-01  13.49  14.44  13.00  13.71  2005     12    1       13.41   \n",
              "6 2006-01-01  13.68  17.16  13.58  15.33  2006      1    1       13.71   \n",
              "7 2006-02-01  15.50  16.97  15.40  16.12  2006      2    1       15.33   \n",
              "8 2006-03-01  16.20  20.95  16.02  20.08  2006      3    1       16.12   \n",
              "\n",
              "   Rolling_Mean_3  \n",
              "4       13.233333  \n",
              "5       13.370000  \n",
              "6       14.150000  \n",
              "7       15.053333  \n",
              "8       17.176667  "
            ],
            "text/html": [
              "\n",
              "  <div id=\"df-38aede47-bb70-49b3-9238-421775145bc5\" class=\"colab-df-container\">\n",
              "    <div>\n",
              "<style scoped>\n",
              "    .dataframe tbody tr th:only-of-type {\n",
              "        vertical-align: middle;\n",
              "    }\n",
              "\n",
              "    .dataframe tbody tr th {\n",
              "        vertical-align: top;\n",
              "    }\n",
              "\n",
              "    .dataframe thead th {\n",
              "        text-align: right;\n",
              "    }\n",
              "</style>\n",
              "<table border=\"1\" class=\"dataframe\">\n",
              "  <thead>\n",
              "    <tr style=\"text-align: right;\">\n",
              "      <th></th>\n",
              "      <th>Date</th>\n",
              "      <th>Open</th>\n",
              "      <th>High</th>\n",
              "      <th>Low</th>\n",
              "      <th>Close</th>\n",
              "      <th>Year</th>\n",
              "      <th>Month</th>\n",
              "      <th>Day</th>\n",
              "      <th>Close_Lag1</th>\n",
              "      <th>Rolling_Mean_3</th>\n",
              "    </tr>\n",
              "  </thead>\n",
              "  <tbody>\n",
              "    <tr>\n",
              "      <th>4</th>\n",
              "      <td>2005-11-01</td>\n",
              "      <td>13.35</td>\n",
              "      <td>13.88</td>\n",
              "      <td>12.88</td>\n",
              "      <td>13.41</td>\n",
              "      <td>2005</td>\n",
              "      <td>11</td>\n",
              "      <td>1</td>\n",
              "      <td>12.99</td>\n",
              "      <td>13.233333</td>\n",
              "    </tr>\n",
              "    <tr>\n",
              "      <th>5</th>\n",
              "      <td>2005-12-01</td>\n",
              "      <td>13.49</td>\n",
              "      <td>14.44</td>\n",
              "      <td>13.00</td>\n",
              "      <td>13.71</td>\n",
              "      <td>2005</td>\n",
              "      <td>12</td>\n",
              "      <td>1</td>\n",
              "      <td>13.41</td>\n",
              "      <td>13.370000</td>\n",
              "    </tr>\n",
              "    <tr>\n",
              "      <th>6</th>\n",
              "      <td>2006-01-01</td>\n",
              "      <td>13.68</td>\n",
              "      <td>17.16</td>\n",
              "      <td>13.58</td>\n",
              "      <td>15.33</td>\n",
              "      <td>2006</td>\n",
              "      <td>1</td>\n",
              "      <td>1</td>\n",
              "      <td>13.71</td>\n",
              "      <td>14.150000</td>\n",
              "    </tr>\n",
              "    <tr>\n",
              "      <th>7</th>\n",
              "      <td>2006-02-01</td>\n",
              "      <td>15.50</td>\n",
              "      <td>16.97</td>\n",
              "      <td>15.40</td>\n",
              "      <td>16.12</td>\n",
              "      <td>2006</td>\n",
              "      <td>2</td>\n",
              "      <td>1</td>\n",
              "      <td>15.33</td>\n",
              "      <td>15.053333</td>\n",
              "    </tr>\n",
              "    <tr>\n",
              "      <th>8</th>\n",
              "      <td>2006-03-01</td>\n",
              "      <td>16.20</td>\n",
              "      <td>20.95</td>\n",
              "      <td>16.02</td>\n",
              "      <td>20.08</td>\n",
              "      <td>2006</td>\n",
              "      <td>3</td>\n",
              "      <td>1</td>\n",
              "      <td>16.12</td>\n",
              "      <td>17.176667</td>\n",
              "    </tr>\n",
              "  </tbody>\n",
              "</table>\n",
              "</div>\n",
              "    <div class=\"colab-df-buttons\">\n",
              "\n",
              "  <div class=\"colab-df-container\">\n",
              "    <button class=\"colab-df-convert\" onclick=\"convertToInteractive('df-38aede47-bb70-49b3-9238-421775145bc5')\"\n",
              "            title=\"Convert this dataframe to an interactive table.\"\n",
              "            style=\"display:none;\">\n",
              "\n",
              "  <svg xmlns=\"http://www.w3.org/2000/svg\" height=\"24px\" viewBox=\"0 -960 960 960\">\n",
              "    <path d=\"M120-120v-720h720v720H120Zm60-500h600v-160H180v160Zm220 220h160v-160H400v160Zm0 220h160v-160H400v160ZM180-400h160v-160H180v160Zm440 0h160v-160H620v160ZM180-180h160v-160H180v160Zm440 0h160v-160H620v160Z\"/>\n",
              "  </svg>\n",
              "    </button>\n",
              "\n",
              "  <style>\n",
              "    .colab-df-container {\n",
              "      display:flex;\n",
              "      gap: 12px;\n",
              "    }\n",
              "\n",
              "    .colab-df-convert {\n",
              "      background-color: #E8F0FE;\n",
              "      border: none;\n",
              "      border-radius: 50%;\n",
              "      cursor: pointer;\n",
              "      display: none;\n",
              "      fill: #1967D2;\n",
              "      height: 32px;\n",
              "      padding: 0 0 0 0;\n",
              "      width: 32px;\n",
              "    }\n",
              "\n",
              "    .colab-df-convert:hover {\n",
              "      background-color: #E2EBFA;\n",
              "      box-shadow: 0px 1px 2px rgba(60, 64, 67, 0.3), 0px 1px 3px 1px rgba(60, 64, 67, 0.15);\n",
              "      fill: #174EA6;\n",
              "    }\n",
              "\n",
              "    .colab-df-buttons div {\n",
              "      margin-bottom: 4px;\n",
              "    }\n",
              "\n",
              "    [theme=dark] .colab-df-convert {\n",
              "      background-color: #3B4455;\n",
              "      fill: #D2E3FC;\n",
              "    }\n",
              "\n",
              "    [theme=dark] .colab-df-convert:hover {\n",
              "      background-color: #434B5C;\n",
              "      box-shadow: 0px 1px 3px 1px rgba(0, 0, 0, 0.15);\n",
              "      filter: drop-shadow(0px 1px 2px rgba(0, 0, 0, 0.3));\n",
              "      fill: #FFFFFF;\n",
              "    }\n",
              "  </style>\n",
              "\n",
              "    <script>\n",
              "      const buttonEl =\n",
              "        document.querySelector('#df-38aede47-bb70-49b3-9238-421775145bc5 button.colab-df-convert');\n",
              "      buttonEl.style.display =\n",
              "        google.colab.kernel.accessAllowed ? 'block' : 'none';\n",
              "\n",
              "      async function convertToInteractive(key) {\n",
              "        const element = document.querySelector('#df-38aede47-bb70-49b3-9238-421775145bc5');\n",
              "        const dataTable =\n",
              "          await google.colab.kernel.invokeFunction('convertToInteractive',\n",
              "                                                    [key], {});\n",
              "        if (!dataTable) return;\n",
              "\n",
              "        const docLinkHtml = 'Like what you see? Visit the ' +\n",
              "          '<a target=\"_blank\" href=https://colab.research.google.com/notebooks/data_table.ipynb>data table notebook</a>'\n",
              "          + ' to learn more about interactive tables.';\n",
              "        element.innerHTML = '';\n",
              "        dataTable['output_type'] = 'display_data';\n",
              "        await google.colab.output.renderOutput(dataTable, element);\n",
              "        const docLink = document.createElement('div');\n",
              "        docLink.innerHTML = docLinkHtml;\n",
              "        element.appendChild(docLink);\n",
              "      }\n",
              "    </script>\n",
              "  </div>\n",
              "\n",
              "\n",
              "    <div id=\"df-723c372a-01d8-4771-91da-fdbda76ea8b8\">\n",
              "      <button class=\"colab-df-quickchart\" onclick=\"quickchart('df-723c372a-01d8-4771-91da-fdbda76ea8b8')\"\n",
              "                title=\"Suggest charts\"\n",
              "                style=\"display:none;\">\n",
              "\n",
              "<svg xmlns=\"http://www.w3.org/2000/svg\" height=\"24px\"viewBox=\"0 0 24 24\"\n",
              "     width=\"24px\">\n",
              "    <g>\n",
              "        <path d=\"M19 3H5c-1.1 0-2 .9-2 2v14c0 1.1.9 2 2 2h14c1.1 0 2-.9 2-2V5c0-1.1-.9-2-2-2zM9 17H7v-7h2v7zm4 0h-2V7h2v10zm4 0h-2v-4h2v4z\"/>\n",
              "    </g>\n",
              "</svg>\n",
              "      </button>\n",
              "\n",
              "<style>\n",
              "  .colab-df-quickchart {\n",
              "      --bg-color: #E8F0FE;\n",
              "      --fill-color: #1967D2;\n",
              "      --hover-bg-color: #E2EBFA;\n",
              "      --hover-fill-color: #174EA6;\n",
              "      --disabled-fill-color: #AAA;\n",
              "      --disabled-bg-color: #DDD;\n",
              "  }\n",
              "\n",
              "  [theme=dark] .colab-df-quickchart {\n",
              "      --bg-color: #3B4455;\n",
              "      --fill-color: #D2E3FC;\n",
              "      --hover-bg-color: #434B5C;\n",
              "      --hover-fill-color: #FFFFFF;\n",
              "      --disabled-bg-color: #3B4455;\n",
              "      --disabled-fill-color: #666;\n",
              "  }\n",
              "\n",
              "  .colab-df-quickchart {\n",
              "    background-color: var(--bg-color);\n",
              "    border: none;\n",
              "    border-radius: 50%;\n",
              "    cursor: pointer;\n",
              "    display: none;\n",
              "    fill: var(--fill-color);\n",
              "    height: 32px;\n",
              "    padding: 0;\n",
              "    width: 32px;\n",
              "  }\n",
              "\n",
              "  .colab-df-quickchart:hover {\n",
              "    background-color: var(--hover-bg-color);\n",
              "    box-shadow: 0 1px 2px rgba(60, 64, 67, 0.3), 0 1px 3px 1px rgba(60, 64, 67, 0.15);\n",
              "    fill: var(--button-hover-fill-color);\n",
              "  }\n",
              "\n",
              "  .colab-df-quickchart-complete:disabled,\n",
              "  .colab-df-quickchart-complete:disabled:hover {\n",
              "    background-color: var(--disabled-bg-color);\n",
              "    fill: var(--disabled-fill-color);\n",
              "    box-shadow: none;\n",
              "  }\n",
              "\n",
              "  .colab-df-spinner {\n",
              "    border: 2px solid var(--fill-color);\n",
              "    border-color: transparent;\n",
              "    border-bottom-color: var(--fill-color);\n",
              "    animation:\n",
              "      spin 1s steps(1) infinite;\n",
              "  }\n",
              "\n",
              "  @keyframes spin {\n",
              "    0% {\n",
              "      border-color: transparent;\n",
              "      border-bottom-color: var(--fill-color);\n",
              "      border-left-color: var(--fill-color);\n",
              "    }\n",
              "    20% {\n",
              "      border-color: transparent;\n",
              "      border-left-color: var(--fill-color);\n",
              "      border-top-color: var(--fill-color);\n",
              "    }\n",
              "    30% {\n",
              "      border-color: transparent;\n",
              "      border-left-color: var(--fill-color);\n",
              "      border-top-color: var(--fill-color);\n",
              "      border-right-color: var(--fill-color);\n",
              "    }\n",
              "    40% {\n",
              "      border-color: transparent;\n",
              "      border-right-color: var(--fill-color);\n",
              "      border-top-color: var(--fill-color);\n",
              "    }\n",
              "    60% {\n",
              "      border-color: transparent;\n",
              "      border-right-color: var(--fill-color);\n",
              "    }\n",
              "    80% {\n",
              "      border-color: transparent;\n",
              "      border-right-color: var(--fill-color);\n",
              "      border-bottom-color: var(--fill-color);\n",
              "    }\n",
              "    90% {\n",
              "      border-color: transparent;\n",
              "      border-bottom-color: var(--fill-color);\n",
              "    }\n",
              "  }\n",
              "</style>\n",
              "\n",
              "      <script>\n",
              "        async function quickchart(key) {\n",
              "          const quickchartButtonEl =\n",
              "            document.querySelector('#' + key + ' button');\n",
              "          quickchartButtonEl.disabled = true;  // To prevent multiple clicks.\n",
              "          quickchartButtonEl.classList.add('colab-df-spinner');\n",
              "          try {\n",
              "            const charts = await google.colab.kernel.invokeFunction(\n",
              "                'suggestCharts', [key], {});\n",
              "          } catch (error) {\n",
              "            console.error('Error during call to suggestCharts:', error);\n",
              "          }\n",
              "          quickchartButtonEl.classList.remove('colab-df-spinner');\n",
              "          quickchartButtonEl.classList.add('colab-df-quickchart-complete');\n",
              "        }\n",
              "        (() => {\n",
              "          let quickchartButtonEl =\n",
              "            document.querySelector('#df-723c372a-01d8-4771-91da-fdbda76ea8b8 button');\n",
              "          quickchartButtonEl.style.display =\n",
              "            google.colab.kernel.accessAllowed ? 'block' : 'none';\n",
              "        })();\n",
              "      </script>\n",
              "    </div>\n",
              "\n",
              "    </div>\n",
              "  </div>\n"
            ],
            "application/vnd.google.colaboratory.intrinsic+json": {
              "type": "dataframe",
              "summary": "{\n  \"name\": \"display(df\",\n  \"rows\": 5,\n  \"fields\": [\n    {\n      \"column\": \"Date\",\n      \"properties\": {\n        \"dtype\": \"date\",\n        \"min\": \"2005-11-01 00:00:00\",\n        \"max\": \"2006-03-01 00:00:00\",\n        \"num_unique_values\": 5,\n        \"samples\": [\n          \"2005-12-01 00:00:00\",\n          \"2006-03-01 00:00:00\",\n          \"2006-01-01 00:00:00\"\n        ],\n        \"semantic_type\": \"\",\n        \"description\": \"\"\n      }\n    },\n    {\n      \"column\": \"Open\",\n      \"properties\": {\n        \"dtype\": \"number\",\n        \"std\": 1.3123757084006087,\n        \"min\": 13.35,\n        \"max\": 16.2,\n        \"num_unique_values\": 5,\n        \"samples\": [\n          13.49,\n          16.2,\n          13.68\n        ],\n        \"semantic_type\": \"\",\n        \"description\": \"\"\n      }\n    },\n    {\n      \"column\": \"High\",\n      \"properties\": {\n        \"dtype\": \"number\",\n        \"std\": 2.8020082084105318,\n        \"min\": 13.88,\n        \"max\": 20.95,\n        \"num_unique_values\": 5,\n        \"samples\": [\n          14.44,\n          20.95,\n          17.16\n        ],\n        \"semantic_type\": \"\",\n        \"description\": \"\"\n      }\n    },\n    {\n      \"column\": \"Low\",\n      \"properties\": {\n        \"dtype\": \"number\",\n        \"std\": 1.4419015222961655,\n        \"min\": 12.88,\n        \"max\": 16.02,\n        \"num_unique_values\": 5,\n        \"samples\": [\n          13.0,\n          16.02,\n          13.58\n        ],\n        \"semantic_type\": \"\",\n        \"description\": \"\"\n      }\n    },\n    {\n      \"column\": \"Close\",\n      \"properties\": {\n        \"dtype\": \"number\",\n        \"std\": 2.6784977132713768,\n        \"min\": 13.41,\n        \"max\": 20.08,\n        \"num_unique_values\": 5,\n        \"samples\": [\n          13.71,\n          20.08,\n          15.33\n        ],\n        \"semantic_type\": \"\",\n        \"description\": \"\"\n      }\n    },\n    {\n      \"column\": \"Year\",\n      \"properties\": {\n        \"dtype\": \"int32\",\n        \"num_unique_values\": 2,\n        \"samples\": [\n          2006,\n          2005\n        ],\n        \"semantic_type\": \"\",\n        \"description\": \"\"\n      }\n    },\n    {\n      \"column\": \"Month\",\n      \"properties\": {\n        \"dtype\": \"int32\",\n        \"num_unique_values\": 5,\n        \"samples\": [\n          12,\n          3\n        ],\n        \"semantic_type\": \"\",\n        \"description\": \"\"\n      }\n    },\n    {\n      \"column\": \"Day\",\n      \"properties\": {\n        \"dtype\": \"int32\",\n        \"num_unique_values\": 1,\n        \"samples\": [\n          1\n        ],\n        \"semantic_type\": \"\",\n        \"description\": \"\"\n      }\n    },\n    {\n      \"column\": \"Close_Lag1\",\n      \"properties\": {\n        \"dtype\": \"number\",\n        \"std\": 1.3443288288212822,\n        \"min\": 12.99,\n        \"max\": 16.12,\n        \"num_unique_values\": 5,\n        \"samples\": [\n          13.41\n        ],\n        \"semantic_type\": \"\",\n        \"description\": \"\"\n      }\n    },\n    {\n      \"column\": \"Rolling_Mean_3\",\n      \"properties\": {\n        \"dtype\": \"number\",\n        \"std\": 1.6146086557154058,\n        \"min\": 13.233333333333334,\n        \"max\": 17.176666666666666,\n        \"num_unique_values\": 5,\n        \"samples\": [\n          13.37\n        ],\n        \"semantic_type\": \"\",\n        \"description\": \"\"\n      }\n    }\n  ]\n}"
            }
          },
          "metadata": {}
        }
      ]
    },
    {
      "cell_type": "code",
      "source": [
        "#Split the data into training and testing sets.\n",
        "from sklearn.model_selection import train_test_split\n",
        "\n",
        "X = df.drop(['Date', 'Close'], axis=1)\n",
        "y = df['Close']\n",
        "\n",
        "X_train, X_test, y_train, y_test = train_test_split(X, y, test_size=0.2, random_state=42)\n",
        "\n",
        "print(\"Shape of X_train:\", X_train.shape)\n",
        "print(\"Shape of X_test:\", X_test.shape)\n",
        "print(\"Shape of y_train:\", y_train.shape)\n",
        "print(\"Shape of y_test:\", y_test.shape)\n"
      ],
      "metadata": {
        "colab": {
          "base_uri": "https://localhost:8080/"
        },
        "id": "ACV6VeSdVN7y",
        "outputId": "3a95c735-918c-4a6c-8c47-7ab914c20d9e"
      },
      "execution_count": 1168,
      "outputs": [
        {
          "output_type": "stream",
          "name": "stdout",
          "text": [
            "Shape of X_train: (144, 8)\n",
            "Shape of X_test: (37, 8)\n",
            "Shape of y_train: (144,)\n",
            "Shape of y_test: (37,)\n"
          ]
        }
      ]
    },
    {
      "cell_type": "code",
      "source": [
        "#Select the Random Forest Regressor model and train it on the training data.\n",
        "from sklearn.ensemble import RandomForestRegressor\n",
        "\n",
        "model = RandomForestRegressor(n_estimators=100, random_state=42)\n",
        "model.fit(X_train, y_train)"
      ],
      "metadata": {
        "colab": {
          "base_uri": "https://localhost:8080/",
          "height": 81
        },
        "id": "sJ6yp4qhVt6O",
        "outputId": "dc3022e4-7a9c-4911-c612-2f3325922d73"
      },
      "execution_count": 1169,
      "outputs": [
        {
          "output_type": "execute_result",
          "data": {
            "text/plain": [
              "RandomForestRegressor(random_state=42)"
            ],
            "text/html": [
              "<style>#sk-container-id-25 {\n",
              "  /* Definition of color scheme common for light and dark mode */\n",
              "  --sklearn-color-text: #000;\n",
              "  --sklearn-color-text-muted: #666;\n",
              "  --sklearn-color-line: gray;\n",
              "  /* Definition of color scheme for unfitted estimators */\n",
              "  --sklearn-color-unfitted-level-0: #fff5e6;\n",
              "  --sklearn-color-unfitted-level-1: #f6e4d2;\n",
              "  --sklearn-color-unfitted-level-2: #ffe0b3;\n",
              "  --sklearn-color-unfitted-level-3: chocolate;\n",
              "  /* Definition of color scheme for fitted estimators */\n",
              "  --sklearn-color-fitted-level-0: #f0f8ff;\n",
              "  --sklearn-color-fitted-level-1: #d4ebff;\n",
              "  --sklearn-color-fitted-level-2: #b3dbfd;\n",
              "  --sklearn-color-fitted-level-3: cornflowerblue;\n",
              "\n",
              "  /* Specific color for light theme */\n",
              "  --sklearn-color-text-on-default-background: var(--sg-text-color, var(--theme-code-foreground, var(--jp-content-font-color1, black)));\n",
              "  --sklearn-color-background: var(--sg-background-color, var(--theme-background, var(--jp-layout-color0, white)));\n",
              "  --sklearn-color-border-box: var(--sg-text-color, var(--theme-code-foreground, var(--jp-content-font-color1, black)));\n",
              "  --sklearn-color-icon: #696969;\n",
              "\n",
              "  @media (prefers-color-scheme: dark) {\n",
              "    /* Redefinition of color scheme for dark theme */\n",
              "    --sklearn-color-text-on-default-background: var(--sg-text-color, var(--theme-code-foreground, var(--jp-content-font-color1, white)));\n",
              "    --sklearn-color-background: var(--sg-background-color, var(--theme-background, var(--jp-layout-color0, #111)));\n",
              "    --sklearn-color-border-box: var(--sg-text-color, var(--theme-code-foreground, var(--jp-content-font-color1, white)));\n",
              "    --sklearn-color-icon: #878787;\n",
              "  }\n",
              "}\n",
              "\n",
              "#sk-container-id-25 {\n",
              "  color: var(--sklearn-color-text);\n",
              "}\n",
              "\n",
              "#sk-container-id-25 pre {\n",
              "  padding: 0;\n",
              "}\n",
              "\n",
              "#sk-container-id-25 input.sk-hidden--visually {\n",
              "  border: 0;\n",
              "  clip: rect(1px 1px 1px 1px);\n",
              "  clip: rect(1px, 1px, 1px, 1px);\n",
              "  height: 1px;\n",
              "  margin: -1px;\n",
              "  overflow: hidden;\n",
              "  padding: 0;\n",
              "  position: absolute;\n",
              "  width: 1px;\n",
              "}\n",
              "\n",
              "#sk-container-id-25 div.sk-dashed-wrapped {\n",
              "  border: 1px dashed var(--sklearn-color-line);\n",
              "  margin: 0 0.4em 0.5em 0.4em;\n",
              "  box-sizing: border-box;\n",
              "  padding-bottom: 0.4em;\n",
              "  background-color: var(--sklearn-color-background);\n",
              "}\n",
              "\n",
              "#sk-container-id-25 div.sk-container {\n",
              "  /* jupyter's `normalize.less` sets `[hidden] { display: none; }`\n",
              "     but bootstrap.min.css set `[hidden] { display: none !important; }`\n",
              "     so we also need the `!important` here to be able to override the\n",
              "     default hidden behavior on the sphinx rendered scikit-learn.org.\n",
              "     See: https://github.com/scikit-learn/scikit-learn/issues/21755 */\n",
              "  display: inline-block !important;\n",
              "  position: relative;\n",
              "}\n",
              "\n",
              "#sk-container-id-25 div.sk-text-repr-fallback {\n",
              "  display: none;\n",
              "}\n",
              "\n",
              "div.sk-parallel-item,\n",
              "div.sk-serial,\n",
              "div.sk-item {\n",
              "  /* draw centered vertical line to link estimators */\n",
              "  background-image: linear-gradient(var(--sklearn-color-text-on-default-background), var(--sklearn-color-text-on-default-background));\n",
              "  background-size: 2px 100%;\n",
              "  background-repeat: no-repeat;\n",
              "  background-position: center center;\n",
              "}\n",
              "\n",
              "/* Parallel-specific style estimator block */\n",
              "\n",
              "#sk-container-id-25 div.sk-parallel-item::after {\n",
              "  content: \"\";\n",
              "  width: 100%;\n",
              "  border-bottom: 2px solid var(--sklearn-color-text-on-default-background);\n",
              "  flex-grow: 1;\n",
              "}\n",
              "\n",
              "#sk-container-id-25 div.sk-parallel {\n",
              "  display: flex;\n",
              "  align-items: stretch;\n",
              "  justify-content: center;\n",
              "  background-color: var(--sklearn-color-background);\n",
              "  position: relative;\n",
              "}\n",
              "\n",
              "#sk-container-id-25 div.sk-parallel-item {\n",
              "  display: flex;\n",
              "  flex-direction: column;\n",
              "}\n",
              "\n",
              "#sk-container-id-25 div.sk-parallel-item:first-child::after {\n",
              "  align-self: flex-end;\n",
              "  width: 50%;\n",
              "}\n",
              "\n",
              "#sk-container-id-25 div.sk-parallel-item:last-child::after {\n",
              "  align-self: flex-start;\n",
              "  width: 50%;\n",
              "}\n",
              "\n",
              "#sk-container-id-25 div.sk-parallel-item:only-child::after {\n",
              "  width: 0;\n",
              "}\n",
              "\n",
              "/* Serial-specific style estimator block */\n",
              "\n",
              "#sk-container-id-25 div.sk-serial {\n",
              "  display: flex;\n",
              "  flex-direction: column;\n",
              "  align-items: center;\n",
              "  background-color: var(--sklearn-color-background);\n",
              "  padding-right: 1em;\n",
              "  padding-left: 1em;\n",
              "}\n",
              "\n",
              "\n",
              "/* Toggleable style: style used for estimator/Pipeline/ColumnTransformer box that is\n",
              "clickable and can be expanded/collapsed.\n",
              "- Pipeline and ColumnTransformer use this feature and define the default style\n",
              "- Estimators will overwrite some part of the style using the `sk-estimator` class\n",
              "*/\n",
              "\n",
              "/* Pipeline and ColumnTransformer style (default) */\n",
              "\n",
              "#sk-container-id-25 div.sk-toggleable {\n",
              "  /* Default theme specific background. It is overwritten whether we have a\n",
              "  specific estimator or a Pipeline/ColumnTransformer */\n",
              "  background-color: var(--sklearn-color-background);\n",
              "}\n",
              "\n",
              "/* Toggleable label */\n",
              "#sk-container-id-25 label.sk-toggleable__label {\n",
              "  cursor: pointer;\n",
              "  display: flex;\n",
              "  width: 100%;\n",
              "  margin-bottom: 0;\n",
              "  padding: 0.5em;\n",
              "  box-sizing: border-box;\n",
              "  text-align: center;\n",
              "  align-items: start;\n",
              "  justify-content: space-between;\n",
              "  gap: 0.5em;\n",
              "}\n",
              "\n",
              "#sk-container-id-25 label.sk-toggleable__label .caption {\n",
              "  font-size: 0.6rem;\n",
              "  font-weight: lighter;\n",
              "  color: var(--sklearn-color-text-muted);\n",
              "}\n",
              "\n",
              "#sk-container-id-25 label.sk-toggleable__label-arrow:before {\n",
              "  /* Arrow on the left of the label */\n",
              "  content: \"▸\";\n",
              "  float: left;\n",
              "  margin-right: 0.25em;\n",
              "  color: var(--sklearn-color-icon);\n",
              "}\n",
              "\n",
              "#sk-container-id-25 label.sk-toggleable__label-arrow:hover:before {\n",
              "  color: var(--sklearn-color-text);\n",
              "}\n",
              "\n",
              "/* Toggleable content - dropdown */\n",
              "\n",
              "#sk-container-id-25 div.sk-toggleable__content {\n",
              "  max-height: 0;\n",
              "  max-width: 0;\n",
              "  overflow: hidden;\n",
              "  text-align: left;\n",
              "  /* unfitted */\n",
              "  background-color: var(--sklearn-color-unfitted-level-0);\n",
              "}\n",
              "\n",
              "#sk-container-id-25 div.sk-toggleable__content.fitted {\n",
              "  /* fitted */\n",
              "  background-color: var(--sklearn-color-fitted-level-0);\n",
              "}\n",
              "\n",
              "#sk-container-id-25 div.sk-toggleable__content pre {\n",
              "  margin: 0.2em;\n",
              "  border-radius: 0.25em;\n",
              "  color: var(--sklearn-color-text);\n",
              "  /* unfitted */\n",
              "  background-color: var(--sklearn-color-unfitted-level-0);\n",
              "}\n",
              "\n",
              "#sk-container-id-25 div.sk-toggleable__content.fitted pre {\n",
              "  /* unfitted */\n",
              "  background-color: var(--sklearn-color-fitted-level-0);\n",
              "}\n",
              "\n",
              "#sk-container-id-25 input.sk-toggleable__control:checked~div.sk-toggleable__content {\n",
              "  /* Expand drop-down */\n",
              "  max-height: 200px;\n",
              "  max-width: 100%;\n",
              "  overflow: auto;\n",
              "}\n",
              "\n",
              "#sk-container-id-25 input.sk-toggleable__control:checked~label.sk-toggleable__label-arrow:before {\n",
              "  content: \"▾\";\n",
              "}\n",
              "\n",
              "/* Pipeline/ColumnTransformer-specific style */\n",
              "\n",
              "#sk-container-id-25 div.sk-label input.sk-toggleable__control:checked~label.sk-toggleable__label {\n",
              "  color: var(--sklearn-color-text);\n",
              "  background-color: var(--sklearn-color-unfitted-level-2);\n",
              "}\n",
              "\n",
              "#sk-container-id-25 div.sk-label.fitted input.sk-toggleable__control:checked~label.sk-toggleable__label {\n",
              "  background-color: var(--sklearn-color-fitted-level-2);\n",
              "}\n",
              "\n",
              "/* Estimator-specific style */\n",
              "\n",
              "/* Colorize estimator box */\n",
              "#sk-container-id-25 div.sk-estimator input.sk-toggleable__control:checked~label.sk-toggleable__label {\n",
              "  /* unfitted */\n",
              "  background-color: var(--sklearn-color-unfitted-level-2);\n",
              "}\n",
              "\n",
              "#sk-container-id-25 div.sk-estimator.fitted input.sk-toggleable__control:checked~label.sk-toggleable__label {\n",
              "  /* fitted */\n",
              "  background-color: var(--sklearn-color-fitted-level-2);\n",
              "}\n",
              "\n",
              "#sk-container-id-25 div.sk-label label.sk-toggleable__label,\n",
              "#sk-container-id-25 div.sk-label label {\n",
              "  /* The background is the default theme color */\n",
              "  color: var(--sklearn-color-text-on-default-background);\n",
              "}\n",
              "\n",
              "/* On hover, darken the color of the background */\n",
              "#sk-container-id-25 div.sk-label:hover label.sk-toggleable__label {\n",
              "  color: var(--sklearn-color-text);\n",
              "  background-color: var(--sklearn-color-unfitted-level-2);\n",
              "}\n",
              "\n",
              "/* Label box, darken color on hover, fitted */\n",
              "#sk-container-id-25 div.sk-label.fitted:hover label.sk-toggleable__label.fitted {\n",
              "  color: var(--sklearn-color-text);\n",
              "  background-color: var(--sklearn-color-fitted-level-2);\n",
              "}\n",
              "\n",
              "/* Estimator label */\n",
              "\n",
              "#sk-container-id-25 div.sk-label label {\n",
              "  font-family: monospace;\n",
              "  font-weight: bold;\n",
              "  display: inline-block;\n",
              "  line-height: 1.2em;\n",
              "}\n",
              "\n",
              "#sk-container-id-25 div.sk-label-container {\n",
              "  text-align: center;\n",
              "}\n",
              "\n",
              "/* Estimator-specific */\n",
              "#sk-container-id-25 div.sk-estimator {\n",
              "  font-family: monospace;\n",
              "  border: 1px dotted var(--sklearn-color-border-box);\n",
              "  border-radius: 0.25em;\n",
              "  box-sizing: border-box;\n",
              "  margin-bottom: 0.5em;\n",
              "  /* unfitted */\n",
              "  background-color: var(--sklearn-color-unfitted-level-0);\n",
              "}\n",
              "\n",
              "#sk-container-id-25 div.sk-estimator.fitted {\n",
              "  /* fitted */\n",
              "  background-color: var(--sklearn-color-fitted-level-0);\n",
              "}\n",
              "\n",
              "/* on hover */\n",
              "#sk-container-id-25 div.sk-estimator:hover {\n",
              "  /* unfitted */\n",
              "  background-color: var(--sklearn-color-unfitted-level-2);\n",
              "}\n",
              "\n",
              "#sk-container-id-25 div.sk-estimator.fitted:hover {\n",
              "  /* fitted */\n",
              "  background-color: var(--sklearn-color-fitted-level-2);\n",
              "}\n",
              "\n",
              "/* Specification for estimator info (e.g. \"i\" and \"?\") */\n",
              "\n",
              "/* Common style for \"i\" and \"?\" */\n",
              "\n",
              ".sk-estimator-doc-link,\n",
              "a:link.sk-estimator-doc-link,\n",
              "a:visited.sk-estimator-doc-link {\n",
              "  float: right;\n",
              "  font-size: smaller;\n",
              "  line-height: 1em;\n",
              "  font-family: monospace;\n",
              "  background-color: var(--sklearn-color-background);\n",
              "  border-radius: 1em;\n",
              "  height: 1em;\n",
              "  width: 1em;\n",
              "  text-decoration: none !important;\n",
              "  margin-left: 0.5em;\n",
              "  text-align: center;\n",
              "  /* unfitted */\n",
              "  border: var(--sklearn-color-unfitted-level-1) 1pt solid;\n",
              "  color: var(--sklearn-color-unfitted-level-1);\n",
              "}\n",
              "\n",
              ".sk-estimator-doc-link.fitted,\n",
              "a:link.sk-estimator-doc-link.fitted,\n",
              "a:visited.sk-estimator-doc-link.fitted {\n",
              "  /* fitted */\n",
              "  border: var(--sklearn-color-fitted-level-1) 1pt solid;\n",
              "  color: var(--sklearn-color-fitted-level-1);\n",
              "}\n",
              "\n",
              "/* On hover */\n",
              "div.sk-estimator:hover .sk-estimator-doc-link:hover,\n",
              ".sk-estimator-doc-link:hover,\n",
              "div.sk-label-container:hover .sk-estimator-doc-link:hover,\n",
              ".sk-estimator-doc-link:hover {\n",
              "  /* unfitted */\n",
              "  background-color: var(--sklearn-color-unfitted-level-3);\n",
              "  color: var(--sklearn-color-background);\n",
              "  text-decoration: none;\n",
              "}\n",
              "\n",
              "div.sk-estimator.fitted:hover .sk-estimator-doc-link.fitted:hover,\n",
              ".sk-estimator-doc-link.fitted:hover,\n",
              "div.sk-label-container:hover .sk-estimator-doc-link.fitted:hover,\n",
              ".sk-estimator-doc-link.fitted:hover {\n",
              "  /* fitted */\n",
              "  background-color: var(--sklearn-color-fitted-level-3);\n",
              "  color: var(--sklearn-color-background);\n",
              "  text-decoration: none;\n",
              "}\n",
              "\n",
              "/* Span, style for the box shown on hovering the info icon */\n",
              ".sk-estimator-doc-link span {\n",
              "  display: none;\n",
              "  z-index: 9999;\n",
              "  position: relative;\n",
              "  font-weight: normal;\n",
              "  right: .2ex;\n",
              "  padding: .5ex;\n",
              "  margin: .5ex;\n",
              "  width: min-content;\n",
              "  min-width: 20ex;\n",
              "  max-width: 50ex;\n",
              "  color: var(--sklearn-color-text);\n",
              "  box-shadow: 2pt 2pt 4pt #999;\n",
              "  /* unfitted */\n",
              "  background: var(--sklearn-color-unfitted-level-0);\n",
              "  border: .5pt solid var(--sklearn-color-unfitted-level-3);\n",
              "}\n",
              "\n",
              ".sk-estimator-doc-link.fitted span {\n",
              "  /* fitted */\n",
              "  background: var(--sklearn-color-fitted-level-0);\n",
              "  border: var(--sklearn-color-fitted-level-3);\n",
              "}\n",
              "\n",
              ".sk-estimator-doc-link:hover span {\n",
              "  display: block;\n",
              "}\n",
              "\n",
              "/* \"?\"-specific style due to the `<a>` HTML tag */\n",
              "\n",
              "#sk-container-id-25 a.estimator_doc_link {\n",
              "  float: right;\n",
              "  font-size: 1rem;\n",
              "  line-height: 1em;\n",
              "  font-family: monospace;\n",
              "  background-color: var(--sklearn-color-background);\n",
              "  border-radius: 1rem;\n",
              "  height: 1rem;\n",
              "  width: 1rem;\n",
              "  text-decoration: none;\n",
              "  /* unfitted */\n",
              "  color: var(--sklearn-color-unfitted-level-1);\n",
              "  border: var(--sklearn-color-unfitted-level-1) 1pt solid;\n",
              "}\n",
              "\n",
              "#sk-container-id-25 a.estimator_doc_link.fitted {\n",
              "  /* fitted */\n",
              "  border: var(--sklearn-color-fitted-level-1) 1pt solid;\n",
              "  color: var(--sklearn-color-fitted-level-1);\n",
              "}\n",
              "\n",
              "/* On hover */\n",
              "#sk-container-id-25 a.estimator_doc_link:hover {\n",
              "  /* unfitted */\n",
              "  background-color: var(--sklearn-color-unfitted-level-3);\n",
              "  color: var(--sklearn-color-background);\n",
              "  text-decoration: none;\n",
              "}\n",
              "\n",
              "#sk-container-id-25 a.estimator_doc_link.fitted:hover {\n",
              "  /* fitted */\n",
              "  background-color: var(--sklearn-color-fitted-level-3);\n",
              "}\n",
              "</style><div id=\"sk-container-id-25\" class=\"sk-top-container\"><div class=\"sk-text-repr-fallback\"><pre>RandomForestRegressor(random_state=42)</pre><b>In a Jupyter environment, please rerun this cell to show the HTML representation or trust the notebook. <br />On GitHub, the HTML representation is unable to render, please try loading this page with nbviewer.org.</b></div><div class=\"sk-container\" hidden><div class=\"sk-item\"><div class=\"sk-estimator fitted sk-toggleable\"><input class=\"sk-toggleable__control sk-hidden--visually\" id=\"sk-estimator-id-25\" type=\"checkbox\" checked><label for=\"sk-estimator-id-25\" class=\"sk-toggleable__label fitted sk-toggleable__label-arrow\"><div><div>RandomForestRegressor</div></div><div><a class=\"sk-estimator-doc-link fitted\" rel=\"noreferrer\" target=\"_blank\" href=\"https://scikit-learn.org/1.6/modules/generated/sklearn.ensemble.RandomForestRegressor.html\">?<span>Documentation for RandomForestRegressor</span></a><span class=\"sk-estimator-doc-link fitted\">i<span>Fitted</span></span></div></label><div class=\"sk-toggleable__content fitted\"><pre>RandomForestRegressor(random_state=42)</pre></div> </div></div></div></div>"
            ]
          },
          "metadata": {},
          "execution_count": 1169
        }
      ]
    },
    {
      "cell_type": "code",
      "source": [
        "#Evaluate the trained model's performance on the testing data using relevant metrics\n",
        "from sklearn.metrics import mean_squared_error, r2_score\n",
        "\n",
        "y_pred = model.predict(X_test)\n",
        "\n",
        "mse = mean_squared_error(y_test, y_pred)\n",
        "r2 = r2_score(y_test, y_pred)\n",
        "\n",
        "print(f'Mean Squared Error (MSE): {mse:.2f}')\n",
        "print(f'R-squared (R2): {r2:.2f}')"
      ],
      "metadata": {
        "colab": {
          "base_uri": "https://localhost:8080/"
        },
        "id": "VFesjuKSV012",
        "outputId": "190a648c-4978-43a2-d77b-7c0b6693835e"
      },
      "execution_count": 1170,
      "outputs": [
        {
          "output_type": "stream",
          "name": "stdout",
          "text": [
            "Mean Squared Error (MSE): 171.09\n",
            "R-squared (R2): 0.99\n"
          ]
        }
      ]
    },
    {
      "cell_type": "code",
      "source": [
        "#Use the trained Random Forest model to predict the closing price for a future month.\n",
        "import pandas as pd\n",
        "\n",
        "future_month_data = {\n",
        "    'Open': [60.0],\n",
        "    'High': [65.0],\n",
        "    'Low': [58.0],\n",
        "    'Year': [2025],\n",
        "    'Month': [12],\n",
        "    'Day': [1],\n",
        "    'Close_Lag1': [15.0],\n",
        "    'Rolling_Mean_3': [14.0]\n",
        "}\n",
        "future_month_df = pd.DataFrame(future_month_data)\n",
        "\n",
        "predicted_close_price = model.predict(future_month_df)\n",
        "print(f'Predicted closing price for the future month: {predicted_close_price[0]:.2f}')"
      ],
      "metadata": {
        "colab": {
          "base_uri": "https://localhost:8080/"
        },
        "id": "0wnUfaFfYTj7",
        "outputId": "48241996-81f5-41e6-d8bf-76fd075b2376"
      },
      "execution_count": 1171,
      "outputs": [
        {
          "output_type": "stream",
          "name": "stdout",
          "text": [
            "Predicted closing price for the future month: 59.67\n"
          ]
        }
      ]
    },
    {
      "cell_type": "markdown",
      "source": [
        "#### 1. Explain the ML Model used and it's performance using Evaluation metric Score Chart."
      ],
      "metadata": {
        "id": "7AN1z2sKpx6M"
      }
    },
    {
      "cell_type": "code",
      "source": [
        "# Visualizing evaluation Metric Score chart\n",
        "import matplotlib.pyplot as plt\n",
        "import seaborn as sns\n",
        "\n",
        "# Metrics\n",
        "metrics = ['Mean Squared Error (MSE)', 'R-squared (R²)']\n",
        "values = [mse, r2]\n",
        "\n",
        "# Plotting\n",
        "plt.figure(figsize=(8, 5))\n",
        "sns.barplot(x=metrics, y=values, palette='Blues_d')\n",
        "\n",
        "# Annotate the bars\n",
        "for i, v in enumerate(values):\n",
        "    plt.text(i, v + 0.02 * max(values), f'{v:.2f}', ha='center', fontweight='bold')\n",
        "\n",
        "plt.title('Evaluation Metrics for Model')\n",
        "plt.ylabel('Score')\n",
        "plt.ylim(0, max(values) * 1.2)  # for better spacing\n",
        "plt.show()\n"
      ],
      "metadata": {
        "id": "xIY4lxxGpx6M",
        "colab": {
          "base_uri": "https://localhost:8080/",
          "height": 555
        },
        "outputId": "dc9006a1-3668-4cc5-ad99-9bdc756663d5"
      },
      "execution_count": 1172,
      "outputs": [
        {
          "output_type": "stream",
          "name": "stderr",
          "text": [
            "/tmp/ipython-input-1172-3317833957.py:11: FutureWarning: \n",
            "\n",
            "Passing `palette` without assigning `hue` is deprecated and will be removed in v0.14.0. Assign the `x` variable to `hue` and set `legend=False` for the same effect.\n",
            "\n",
            "  sns.barplot(x=metrics, y=values, palette='Blues_d')\n"
          ]
        },
        {
          "output_type": "display_data",
          "data": {
            "text/plain": [
              "<Figure size 800x500 with 1 Axes>"
            ],
            "image/png": "[encoded data removed]"
          },
          "metadata": {}
        }
      ]
    },
    {
      "cell_type": "markdown",
      "source": [
        "Answer Here."
      ],
      "metadata": {
        "id": "jHVz9hHDKFms"
      }
    },
    {
      "cell_type": "markdown",
      "source": [
        "# **Conclusion**"
      ],
      "metadata": {
        "id": "gCX9965dhzqZ"
      }
    },
    {
      "cell_type": "markdown",
      "source": [
        "Linear Regression demonstrates the lowest error and a very high R², indicating excellent predictive accuracy and that it explains nearly all the variance in the stock price. Random Forest also achieves a high R² but with higher error, making it less accurate than Linear Regression in this case. LSTM has the highest error values, indicating it is the least accurate of the three models for this dataset.\n",
        "\n",
        "Therefore, Linear Regression stands out as the best model for your dataset, providing the most accurate and reliable predictions among the models compared. This result highlights that simpler models like Linear Regression can outperform more complex models such as LSTM when the dataset is small and the relationships are primarily linear, as appears to be the case here."
      ],
      "metadata": {
        "id": "Fjb1IsQkh3yE"
      }
    }
  ]
}